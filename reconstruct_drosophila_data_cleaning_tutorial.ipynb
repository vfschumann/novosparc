{
 "cells": [
  {
   "cell_type": "code",
   "execution_count": 1,
   "metadata": {
    "pycharm": {
     "name": "#%%\n"
    }
   },
   "outputs": [],
   "source": [
    "# install\n",
    "# pip install novosparc"
   ]
  },
  {
   "cell_type": "code",
   "execution_count": 2,
   "outputs": [],
   "source": [
    "# imports\n",
    "from importlib import reload\n",
    "\n",
    "import anndata\n",
    "%matplotlib inline\n",
    "import novosparc\n",
    "import os\n",
    "import numpy as np\n",
    "import pandas as pd\n",
    "import scanpy as sc\n",
    "import matplotlib.pyplot as plt\n",
    "# import altair as alt\n",
    "from scipy.spatial.distance import cdist, squareform, pdist\n",
    "from scipy.stats import ks_2samp\n",
    "from scipy.stats import pearsonr\n",
    "\n",
    "import random\n",
    "random.seed(0)"
   ],
   "metadata": {
    "collapsed": false,
    "pycharm": {
     "name": "#%%\n"
    }
   }
  },
  {
   "cell_type": "code",
   "execution_count": 3,
   "outputs": [],
   "source": [
    "pl_genes = ['sna', 'ken', 'eve','zen2','ush','ImpE2','Adgf-A']"
   ],
   "metadata": {
    "collapsed": false,
    "pycharm": {
     "name": "#%%\n"
    }
   }
  },
  {
   "cell_type": "markdown",
   "source": [
    "# Reconstructing the Drosophila embryo\n",
    "\n",
    "This tutorial uses `novoSpaRc` to reconstruct single-cell gene expression of the Drosophila scRNA-seq dataset [Karaiskos et al., 2017, Science](https://science.sciencemag.org/content/358/6360/194). \n",
    "\n",
    "We differentiate between three modes of `novoSpaRc` reconstruction: \n",
    "1. Using only markers for reconstruction (using [Berkeley drosophila transcription network project ](http://bdtnp.lbl.gov/Fly-Net/bioimaging.jsp))\n",
    "2. De novo, relying on cell-cell distances, and location-location distances similarity (no prior information) \n",
    "2. Integrating both assumptions"
   ],
   "metadata": {
    "collapsed": false,
    "pycharm": {
     "name": "#%% md\n"
    }
   }
  },
  {
   "cell_type": "markdown",
   "source": [
    "## Input cells and locations descriptions to construct Tissue object"
   ],
   "metadata": {
    "collapsed": false,
    "pycharm": {
     "name": "#%% md\n"
    }
   }
  },
  {
   "cell_type": "markdown",
   "source": [
    "### Reading gene expression data"
   ],
   "metadata": {
    "collapsed": false,
    "pycharm": {
     "name": "#%% md\n"
    }
   }
  },
  {
   "cell_type": "code",
   "execution_count": 4,
   "outputs": [
    {
     "name": "stdout",
     "output_type": "stream",
     "text": [
      "number of cells: 1297\n",
      "number of genes: 8924\n"
     ]
    }
   ],
   "source": [
    "# Reading expression data to scanpy AnnData (cells x genes)\n",
    "data_dir = 'novosparc/datasets/drosophila_scRNAseq/'\n",
    "data_path = os.path.join(data_dir, 'dge_normalized.txt')\n",
    "dataset = sc.read(data_path).T\n",
    "gene_names = dataset.var.index.tolist()\n",
    "\n",
    "num_cells, num_genes = dataset.shape # 1297 cells x 8924 genes\n",
    "\n",
    "print('number of cells: %d' % num_cells)\n",
    "print('number of genes: %d' % num_genes)"
   ],
   "metadata": {
    "collapsed": false,
    "pycharm": {
     "name": "#%%\n"
    }
   }
  },
  {
   "cell_type": "markdown",
   "source": [
    "### Preprocess data\n",
    "\n",
    "In this example the data is saved after preprocessing. In the case of an unprocessed count matrix,  however, standard, or data-tailored preprocessing is recommended. Since novoSpaRc reads the dataset as a scanpy AnnData object, we use standardized preprocessing steps. For example:"
   ],
   "metadata": {
    "collapsed": false,
    "pycharm": {
     "name": "#%% md\n"
    }
   }
  },
  {
   "cell_type": "code",
   "execution_count": 5,
   "outputs": [],
   "source": [
    "# preprocess\n",
    "# sc.pp.normalize_per_cell(dataset)\n",
    "# sc.pp.log1p(dataset)"
   ],
   "metadata": {
    "collapsed": false,
    "pycharm": {
     "name": "#%%\n"
    }
   }
  },
  {
   "cell_type": "markdown",
   "source": [
    "After preprocessing, it is worth observing the data size before proceeding. If cell numbers are large, we can subsample the number of cells:"
   ],
   "metadata": {
    "collapsed": false,
    "pycharm": {
     "name": "#%% md\n"
    }
   }
  },
  {
   "cell_type": "code",
   "execution_count": 6,
   "outputs": [],
   "source": [
    "# optional: subset cells\n",
    "num_cells = 1000\n",
    "sc.pp.subsample(dataset, n_obs=num_cells)"
   ],
   "metadata": {
    "collapsed": false,
    "pycharm": {
     "name": "#%%\n"
    }
   }
  },
  {
   "cell_type": "markdown",
   "source": [
    "### (Optional) Generate low dimensional representation of the data\n",
    "To reduce the noise, capture meaningful expression distances between cells and reduce runtimes, it is advisable to decrease the dimension of gene expression. This can be done, for example, by either subsetting the gene expression matrix for highly variable genes or using PCA representation. "
   ],
   "metadata": {
    "collapsed": false,
    "pycharm": {
     "name": "#%% md\n"
    }
   }
  },
  {
   "cell_type": "code",
   "execution_count": 7,
   "outputs": [],
   "source": [
    "dge_rep = None # a representation of cells gene expression\n",
    "sc.pp.highly_variable_genes(dataset)\n",
    "is_var_gene = dataset.var['highly_variable']\n",
    "var_genes = list(is_var_gene.index[is_var_gene])\n",
    "\n",
    "# alternative 1: variable expressed genes representation\n",
    "dge_rep = dataset.to_df()[var_genes]\n",
    "\n",
    "# alternative 2: pca representation\n",
    "sc.pp.pca(dataset)\n",
    "# dge_rep = pd.DataFrame(dataset.obsm['X_pca'])"
   ],
   "metadata": {
    "collapsed": false,
    "pycharm": {
     "name": "#%%\n"
    }
   }
  },
  {
   "cell_type": "markdown",
   "source": [
    "### Create a target space\n",
    "\n",
    "1. When using expression of marker genes ($\\alpha_{linear} > 0$), target space has to correspond to the atlas' locations.\n",
    "\n",
    "**Otherwise, there are two alternatives:**\n",
    "\n",
    "2. Prior shape without exact locations\n",
    "3. No prior knowledge of target space"
   ],
   "metadata": {
    "collapsed": false,
    "pycharm": {
     "name": "#%% md\n"
    }
   }
  },
  {
   "cell_type": "markdown",
   "source": [
    "#### Alternative 1: using a reference atlas\n",
    "If a reference atlas is used, then the target space has to consist of its locations. "
   ],
   "metadata": {
    "collapsed": false,
    "pycharm": {
     "name": "#%% md\n"
    }
   }
  },
  {
   "cell_type": "code",
   "execution_count": 8,
   "outputs": [],
   "source": [
    "atlas_dir = 'novosparc/datasets/bdtnp/'\n",
    "target_space_path = os.path.join(atlas_dir, 'geometry.txt')\n",
    "locations = pd.read_csv(target_space_path, sep=' ')\n",
    "num_locations = 3039\n",
    "locations_apriori = locations[:num_locations][['xcoord', 'zcoord']].values"
   ],
   "metadata": {
    "collapsed": false,
    "pycharm": {
     "name": "#%%\n"
    }
   }
  },
  {
   "cell_type": "markdown",
   "source": [
    "#### Alternative 2: using a prior shape without exact locations\n",
    "It is possible that we know the general shape of the tissue but we are missing specific locations of the cells. In this case, the target space can be generated from a binary image:"
   ],
   "metadata": {
    "collapsed": false,
    "pycharm": {
     "name": "#%% md\n"
    }
   }
  },
  {
   "cell_type": "code",
   "execution_count": 9,
   "outputs": [],
   "source": [
    "tissue_path = 'novosparc/datasets/tissue_example.png'\n",
    "locations_from_image = novosparc.gm.create_target_space_from_image(tissue_path)\n",
    "locations_from_image = locations_from_image[np.random.choice(locations_from_image.shape[0], num_locations), :]"
   ],
   "metadata": {
    "collapsed": false,
    "pycharm": {
     "name": "#%%\n"
    }
   }
  },
  {
   "cell_type": "markdown",
   "source": [
    "#### Alternative 3: no prior knowledge of the target space\n",
    "novoSpaRc can create a target space by setting locations on certain basic shapes. Current supported shapes include filled circle, 2D torus projection, rectangular grid, sphere and torus. Grids can be populated with equidistant or randomly drawn points."
   ],
   "metadata": {
    "collapsed": false,
    "pycharm": {
     "name": "#%% md\n"
    }
   }
  },
  {
   "cell_type": "code",
   "execution_count": 9,
   "outputs": [],
   "source": [],
   "metadata": {
    "collapsed": false,
    "pycharm": {
     "name": "#%%\n"
    }
   }
  },
  {
   "cell_type": "code",
   "execution_count": 10,
   "outputs": [],
   "source": [
    "locations_square = novosparc.gm.construct_target_grid(num_locations=num_locations)"
   ],
   "metadata": {
    "collapsed": false,
    "pycharm": {
     "name": "#%%\n"
    }
   }
  },
  {
   "cell_type": "markdown",
   "source": [
    "Plots of the example target spaces:"
   ],
   "metadata": {
    "collapsed": false,
    "pycharm": {
     "name": "#%% md\n"
    }
   }
  },
  {
   "cell_type": "code",
   "execution_count": 11,
   "outputs": [
    {
     "data": {
      "text/plain": "<Figure size 1200x300 with 3 Axes>",
      "image/png": "[encoded data removed]"
     },
     "metadata": {
      "needs_background": "light"
     },
     "output_type": "display_data"
    }
   ],
   "source": [
    "tit_size = 15\n",
    "dpi = 100\n",
    "fig, ax = plt.subplots(1,3, figsize=(12,3), dpi=dpi)\n",
    "\n",
    "ax[0].scatter(locations_apriori[:, 0], locations_apriori[:, 1], s=3)\n",
    "ax[1].scatter(locations_from_image[:, 0], locations_from_image[:, 1], s=3)\n",
    "ax[2].scatter(locations_square[:, 0], locations_square[:, 1], s=3)\n",
    "\n",
    "ax[0].set_title('Target space available apriori', size=tit_size)\n",
    "ax[1].set_title('Prior shape without exact locations', size=tit_size)\n",
    "ax[2].set_title('No prior knowledge of target space', size=tit_size)\n",
    "\n",
    "ax[0].axis('off')\n",
    "ax[1].axis('off')\n",
    "ax[2].axis('off')\n",
    "\n",
    "plt.tight_layout()\n",
    "plt.show()"
   ],
   "metadata": {
    "collapsed": false,
    "pycharm": {
     "name": "#%%\n"
    }
   }
  },
  {
   "cell_type": "markdown",
   "source": [
    "## Reconstruct the tissue de novo"
   ],
   "metadata": {
    "collapsed": false,
    "pycharm": {
     "name": "#%% md\n"
    }
   }
  },
  {
   "cell_type": "markdown",
   "source": [
    "### Construct Tissue object\n",
    "So far, we constructed the input for the spatial reconstruction. Thus we next initialise a tissue object with the cell expression dataset and target space locations.\n"
   ],
   "metadata": {
    "collapsed": false,
    "pycharm": {
     "name": "#%% md\n"
    }
   }
  },
  {
   "cell_type": "code",
   "execution_count": 12,
   "outputs": [
    {
     "name": "stdout",
     "output_type": "stream",
     "text": [
      "CPU times: user 18.3 ms, sys: 4.43 ms, total: 22.7 ms\n",
      "Wall time: 21.2 ms\n"
     ]
    }
   ],
   "source": [
    "%%time\n",
    "# construct tissue object\n",
    "tissue = novosparc.cm.Tissue(dataset=dataset, locations=locations_apriori)"
   ],
   "metadata": {
    "collapsed": false,
    "pycharm": {
     "name": "#%%\n"
    }
   }
  },
  {
   "cell_type": "code",
   "execution_count": 13,
   "outputs": [
    {
     "data": {
      "text/plain": "(1000, 8924)"
     },
     "execution_count": 13,
     "metadata": {},
     "output_type": "execute_result"
    }
   ],
   "source": [
    "tissue.dge.shape"
   ],
   "metadata": {
    "collapsed": false,
    "pycharm": {
     "name": "#%%\n"
    }
   }
  },
  {
   "cell_type": "markdown",
   "source": [
    "### Compute cost matrices\n",
    "The OT framework interpolates between two assumptions, structural correspondence assumption and atlas assumption. \n",
    "\n",
    "With the de novo reconstruction we only need the structural correspondence assumption. For the structural correspondence (smooth) assumption we set the cells and locations the number of neighbors to use for constructing the k-Nearest Neighbors graph."
   ],
   "metadata": {
    "collapsed": false,
    "pycharm": {
     "name": "#%% md\n"
    }
   }
  },
  {
   "cell_type": "code",
   "execution_count": 14,
   "outputs": [
    {
     "name": "stdout",
     "output_type": "stream",
     "text": [
      "Setting up for reconstruction ... "
     ]
    },
    {
     "name": "stderr",
     "output_type": "stream",
     "text": [
      "/home/vfs/anaconda3/envs/rajewskyLab/lib/python3.9/site-packages/sklearn/base.py:450: UserWarning: X does not have valid feature names, but NearestNeighbors was fitted with feature names\n",
      "  warnings.warn(\n"
     ]
    },
    {
     "name": "stdout",
     "output_type": "stream",
     "text": [
      "done ( 3.84 seconds )\n",
      "CPU times: user 4.12 s, sys: 443 ms, total: 4.57 s\n",
      "Wall time: 3.85 s\n"
     ]
    }
   ],
   "source": [
    "%%time\n",
    "num_neighbors_s = num_neighbors_t = 5\n",
    "\n",
    "# tissue.setup_reconstruction(num_neighbors_s=num_neighbors_s, num_neighbors_t=num_neighbors_t)\n",
    "\n",
    "# alternative: since we don't have the atlas assumption, we can also setup only the smooth costs.\n",
    "tissue.setup_smooth_costs(dge_rep=dge_rep, num_neighbors_s=num_neighbors_s, num_neighbors_t=num_neighbors_t)"
   ],
   "metadata": {
    "collapsed": false,
    "pycharm": {
     "name": "#%%\n"
    }
   }
  },
  {
   "cell_type": "markdown",
   "source": [
    "### Compute OT of cells to locations with a given alpha parameter"
   ],
   "metadata": {
    "collapsed": false,
    "pycharm": {
     "name": "#%% md\n"
    }
   }
  },
  {
   "cell_type": "markdown",
   "source": [
    "Now we can reconstruct our tissue. The `alpha_linear` parameter controls the contribution of the two branches in `novoSpaRc`: `alpha_linear=0` means that no prior information is available, while `alpha_linear=1` implies that the reconstruction will be only based on the reference marker genes provided. Here we aim for a de novo reconstruction."
   ],
   "metadata": {
    "collapsed": false,
    "pycharm": {
     "name": "#%% md\n"
    }
   }
  },
  {
   "cell_type": "markdown",
   "source": [
    "In addition to setting alpha_linear, epsilon, the coefficient of the entropy can also be set. A low epsilon will result in a more definitive mapping and a higher epsilon with a more continuous one. Choosing a low epsilon often leads to numerical errors. Therefore, if this is the case, we attempt reconstruction with a greater epsilon."
   ],
   "metadata": {
    "collapsed": false,
    "pycharm": {
     "name": "#%% md\n"
    }
   }
  },
  {
   "cell_type": "code",
   "execution_count": 15,
   "outputs": [],
   "source": [
    "type(tissue.dge)\n",
    "import numpy as np\n",
    "from scipy import sparse\n",
    "#tissue.dge = sparse.csr_matrix(tissue.dge)"
   ],
   "metadata": {
    "collapsed": false,
    "pycharm": {
     "name": "#%%\n"
    }
   }
  },
  {
   "cell_type": "code",
   "execution_count": 16,
   "outputs": [
    {
     "data": {
      "text/plain": "numpy.ndarray"
     },
     "execution_count": 16,
     "metadata": {},
     "output_type": "execute_result"
    }
   ],
   "source": [
    "type(tissue.dge)"
   ],
   "metadata": {
    "collapsed": false,
    "pycharm": {
     "name": "#%%\n"
    }
   }
  },
  {
   "cell_type": "code",
   "execution_count": 17,
   "outputs": [
    {
     "data": {
      "text/plain": "False"
     },
     "execution_count": 17,
     "metadata": {},
     "output_type": "execute_result"
    }
   ],
   "source": [
    "type(tissue.dge) is sparse.csr_matrix"
   ],
   "metadata": {
    "collapsed": false,
    "pycharm": {
     "name": "#%%\n"
    }
   }
  },
  {
   "cell_type": "code",
   "execution_count": 18,
   "outputs": [
    {
     "name": "stdout",
     "output_type": "stream",
     "text": [
      "Reconstructing spatial information with 0 markers: 1000 cells and 3039 locations ... \n",
      "Trying with epsilon: 5.00e-03\n",
      "Trying with epsilon: 5.00e-03\n",
      "CPU times: user 2min 12s, sys: 1min 2s, total: 3min 15s\n",
      "Wall time: 17.6 s\n"
     ]
    }
   ],
   "source": [
    "%%time\n",
    "tissue.reconstruct(alpha_linear=0, epsilon=5e-3)"
   ],
   "metadata": {
    "collapsed": false,
    "pycharm": {
     "name": "#%%\n"
    }
   }
  },
  {
   "cell_type": "markdown",
   "source": [
    " ### Validate predicted expression over target space"
   ],
   "metadata": {
    "collapsed": false,
    "pycharm": {
     "name": "#%% md\n"
    }
   }
  },
  {
   "cell_type": "markdown",
   "source": [
    "Expression over the locations is computed and saved in tissue.sdge. This provides a genes x locations matrix describing the expression over the target space locations. \n"
   ],
   "metadata": {
    "collapsed": false,
    "pycharm": {
     "name": "#%% md\n"
    }
   }
  },
  {
   "cell_type": "code",
   "execution_count": 39,
   "outputs": [
    {
     "ename": "AttributeError",
     "evalue": "'NoneType' object has no attribute 'T'",
     "output_type": "error",
     "traceback": [
      "\u001B[0;31m---------------------------------------------------------------------------\u001B[0m",
      "\u001B[0;31mAttributeError\u001B[0m                            Traceback (most recent call last)",
      "Input \u001B[0;32mIn [39]\u001B[0m, in \u001B[0;36m<cell line: 3>\u001B[0;34m()\u001B[0m\n\u001B[1;32m      1\u001B[0m \u001B[38;5;66;03m# reconstructed expression of individual genes\u001B[39;00m\n\u001B[1;32m      2\u001B[0m sdge \u001B[38;5;241m=\u001B[39m tissue\u001B[38;5;241m.\u001B[39msdge\n\u001B[0;32m----> 3\u001B[0m dataset_reconst \u001B[38;5;241m=\u001B[39m sc\u001B[38;5;241m.\u001B[39mAnnData(pd\u001B[38;5;241m.\u001B[39mDataFrame(\u001B[43msdge\u001B[49m\u001B[38;5;241;43m.\u001B[39;49m\u001B[43mT\u001B[49m, columns\u001B[38;5;241m=\u001B[39mgene_names))\n\u001B[1;32m      4\u001B[0m dataset_reconst\u001B[38;5;241m.\u001B[39mobsm[\u001B[38;5;124m'\u001B[39m\u001B[38;5;124mspatial\u001B[39m\u001B[38;5;124m'\u001B[39m] \u001B[38;5;241m=\u001B[39m locations_apriori\n\u001B[1;32m      6\u001B[0m novosparc\u001B[38;5;241m.\u001B[39mpl\u001B[38;5;241m.\u001B[39membedding(dataset_reconst, pl_genes)\n",
      "\u001B[0;31mAttributeError\u001B[0m: 'NoneType' object has no attribute 'T'"
     ]
    }
   ],
   "source": [
    "# reconstructed expression of individual genes\n",
    "sdge = tissue.sdge\n",
    "dataset_reconst = sc.AnnData(pd.DataFrame(sdge.T, columns=gene_names))\n",
    "dataset_reconst.obsm['spatial'] = locations_apriori\n",
    "\n",
    "novosparc.pl.embedding(dataset_reconst, pl_genes)"
   ],
   "metadata": {
    "collapsed": false,
    "pycharm": {
     "name": "#%%\n"
    }
   }
  },
  {
   "cell_type": "markdown",
   "source": [
    "## Reconstruct the tissue with marker genes"
   ],
   "metadata": {
    "collapsed": false,
    "pycharm": {
     "name": "#%% md\n"
    }
   }
  },
  {
   "cell_type": "markdown",
   "source": [
    "Available reference marker genes can assist to achieve a better reconstruction. The reference atlas we deploy here was previously analyzed to extract gene expression for the desired spatial resolution of the target space. All-in-all, the resulting atlas, e.g. atlas, rows correspond to positions of the target space locations, and columns to the atlas genes (therefore, if locations of the atlas were subset in the target space, then they need to be subset here as well)."
   ],
   "metadata": {
    "collapsed": false,
    "pycharm": {
     "name": "#%% md\n"
    }
   }
  },
  {
   "cell_type": "code",
   "execution_count": null,
   "outputs": [],
   "source": [],
   "metadata": {
    "collapsed": false,
    "pycharm": {
     "name": "#%%\n"
    }
   }
  },
  {
   "cell_type": "code",
   "execution_count": null,
   "outputs": [],
   "source": [
    "# reading reference atlas\n",
    "locations = locations_apriori\n",
    "atlas_dir = 'novosparc/datasets/bdtnp/'\n",
    "atlas_path = os.path.join(atlas_dir, 'dge.txt')\n",
    "atlas = sc.read(atlas_path)\n",
    "atlas_genes = atlas.var.index.tolist()\n",
    "atlas.obsm['spatial'] = locations\n",
    "\n",
    "novosparc.pl.embedding(atlas, pl_genes)"
   ],
   "metadata": {
    "collapsed": false,
    "pycharm": {
     "name": "#%%\n"
    }
   }
  },
  {
   "cell_type": "code",
   "execution_count": null,
   "outputs": [],
   "source": [
    "atlas"
   ],
   "metadata": {
    "collapsed": false,
    "pycharm": {
     "name": "#%%\n"
    }
   }
  },
  {
   "cell_type": "markdown",
   "source": [
    "Note that expression can also be inferred over a configured target space from images or from previously binned spatial expression using interpolation tools for instance but we do not cover this here. "
   ],
   "metadata": {
    "collapsed": false,
    "pycharm": {
     "name": "#%% md\n"
    }
   }
  },
  {
   "cell_type": "markdown",
   "source": [
    "#### Testing structural correspondence assumption in atlas\n",
    "If an atlas is provided, then one can test to what extent the structural correspondence assumption holds. A proxy is to look at the loc-loc expression distances vs their physical distances, hoping to see an upward-going trend."
   ],
   "metadata": {
    "collapsed": false,
    "pycharm": {
     "name": "#%% md\n"
    }
   }
  },
  {
   "cell_type": "code",
   "execution_count": null,
   "outputs": [],
   "source": [
    "print(atlas.X.shape)"
   ],
   "metadata": {
    "collapsed": false,
    "pycharm": {
     "name": "#%%\n"
    }
   }
  },
  {
   "cell_type": "code",
   "execution_count": null,
   "outputs": [],
   "source": [
    "%%time\n",
    "# Tip: visualizing loc-loc expression distances vs their physical distances\n",
    "novosparc.pl.plot_exp_loc_dists(atlas.X, locations)"
   ],
   "metadata": {
    "collapsed": false,
    "pycharm": {
     "name": "#%%\n"
    }
   }
  },
  {
   "cell_type": "markdown",
   "source": [
    "#### Testing spatial information in atlas\n",
    "One can test how \"spatially informative\" are the marker genes. For single-cell data that originates from a separate tissue than the atlas, this is especially important to assess if the atlas will help reconstruction. We see here the genes in this atlas are indeed spatially informative. "
   ],
   "metadata": {
    "collapsed": false,
    "pycharm": {
     "name": "#%% md\n"
    }
   }
  },
  {
   "cell_type": "code",
   "execution_count": null,
   "outputs": [],
   "source": [
    "%%time\n",
    "# Tip: one can test how \"spatially informative\" are the marker genes.\n",
    "# one measure indicating how localized is the expression is Moran's I\n",
    "\n",
    "mI, pvals = novosparc.an.get_moran_pvals(atlas.X, locations)\n",
    "df = pd.DataFrame({'moransI': mI, 'pval': pvals}, index=atlas_genes)\n",
    "\n",
    "gene_max_mI = df['moransI'].idxmax()\n",
    "gene_min_mI = df['moransI'].idxmin()\n",
    "\n",
    "title = ['%s, Morans`I=%.02f' % (gene_max_mI, df.loc[gene_max_mI]['moransI']), \n",
    "         '%s, Morans`I=%.02f' % (gene_min_mI, df.loc[gene_min_mI]['moransI'])]\n",
    "\n",
    "novosparc.pl.embedding(atlas, [gene_max_mI, gene_min_mI], title=title)\n",
    "\n",
    "print('Mean MoransI: %.02f' % df['moransI'].mean())"
   ],
   "metadata": {
    "collapsed": false,
    "pycharm": {
     "name": "#%%\n"
    }
   }
  },
  {
   "cell_type": "markdown",
   "source": [
    "### Construct a Tissue object"
   ],
   "metadata": {
    "collapsed": false,
    "pycharm": {
     "name": "#%% md\n"
    }
   }
  },
  {
   "cell_type": "code",
   "execution_count": 8,
   "outputs": [],
   "source": [
    "# construct Tissue object\n",
    "tissue = novosparc.cm.Tissue(dataset=dataset, locations=locations)"
   ],
   "metadata": {
    "collapsed": false,
    "pycharm": {
     "name": "#%%\n"
    }
   }
  },
  {
   "cell_type": "code",
   "execution_count": 11,
   "outputs": [
    {
     "data": {
      "text/plain": "(1000, 8924)"
     },
     "execution_count": 11,
     "metadata": {},
     "output_type": "execute_result"
    }
   ],
   "source": [
    "tissue.dge.shape"
   ],
   "metadata": {
    "collapsed": false,
    "pycharm": {
     "name": "#%%\n"
    }
   }
  },
  {
   "cell_type": "markdown",
   "source": [
    "### Compute cost matrices"
   ],
   "metadata": {
    "collapsed": false,
    "pycharm": {
     "name": "#%% md\n"
    }
   }
  },
  {
   "cell_type": "markdown",
   "source": [
    "Since we are using atlas (linear) assumption as well, we also compute the indices of the marker genes in the expression matrix:"
   ],
   "metadata": {
    "collapsed": false,
    "pycharm": {
     "name": "#%% md\n"
    }
   }
  },
  {
   "cell_type": "code",
   "execution_count": 41,
   "outputs": [
    {
     "ename": "NameError",
     "evalue": "name 'atlas_genes' is not defined",
     "output_type": "error",
     "traceback": [
      "\u001B[0;31m---------------------------------------------------------------------------\u001B[0m",
      "\u001B[0;31mNameError\u001B[0m                                 Traceback (most recent call last)",
      "Input \u001B[0;32mIn [41]\u001B[0m, in \u001B[0;36m<cell line: 5>\u001B[0;34m()\u001B[0m\n\u001B[1;32m      2\u001B[0m num_neighbors_s \u001B[38;5;241m=\u001B[39m num_neighbors_t \u001B[38;5;241m=\u001B[39m \u001B[38;5;241m5\u001B[39m\n\u001B[1;32m      4\u001B[0m \u001B[38;5;66;03m# params for linear cost\u001B[39;00m\n\u001B[0;32m----> 5\u001B[0m markers \u001B[38;5;241m=\u001B[39m \u001B[38;5;28mlist\u001B[39m(\u001B[38;5;28mset\u001B[39m(\u001B[43matlas_genes\u001B[49m)\u001B[38;5;241m.\u001B[39mintersection(gene_names))\n\u001B[1;32m      6\u001B[0m atlas_matrix \u001B[38;5;241m=\u001B[39m atlas\u001B[38;5;241m.\u001B[39mto_df()[markers]\u001B[38;5;241m.\u001B[39mvalues\n\u001B[1;32m      7\u001B[0m markers_idx \u001B[38;5;241m=\u001B[39m pd\u001B[38;5;241m.\u001B[39mDataFrame({\u001B[38;5;124m'\u001B[39m\u001B[38;5;124mmarkers_idx\u001B[39m\u001B[38;5;124m'\u001B[39m: np\u001B[38;5;241m.\u001B[39marange(num_genes)}, index\u001B[38;5;241m=\u001B[39mgene_names)\n",
      "\u001B[0;31mNameError\u001B[0m: name 'atlas_genes' is not defined"
     ]
    }
   ],
   "source": [
    "# params for smooth cost\n",
    "num_neighbors_s = num_neighbors_t = 5\n",
    "\n",
    "# params for linear cost\n",
    "markers = list(set(atlas_genes).intersection(gene_names))\n",
    "atlas_matrix = atlas.to_df()[markers].values\n",
    "markers_idx = pd.DataFrame({'markers_idx': np.arange(num_genes)}, index=gene_names)\n",
    "markers_to_use = np.concatenate(markers_idx.loc[markers].values)\n",
    "\n",
    "# alternative 1: setup both assumptions \n",
    "tissue.setup_reconstruction(atlas_matrix=atlas_matrix, \n",
    "                            markers_to_use=markers_to_use, \n",
    "                            num_neighbors_s=num_neighbors_s, \n",
    "                            num_neighbors_t=num_neighbors_t)\n",
    "\n",
    "# alternative 2: handling each assumption separately\n",
    "#tissue.setup_smooth_costs(dge_rep=dge_rep)\n",
    "#tissue.setup_linear_cost(markers_to_use, atlas_matrix)"
   ],
   "metadata": {
    "collapsed": false,
    "pycharm": {
     "name": "#%%\n"
    }
   }
  },
  {
   "cell_type": "markdown",
   "source": [
    "### Compute OT of cells to locations with a given alpha parameter"
   ],
   "metadata": {
    "collapsed": false,
    "pycharm": {
     "name": "#%% md\n"
    }
   }
  },
  {
   "cell_type": "code",
   "execution_count": null,
   "outputs": [],
   "source": [
    "type(tissue.dge)"
   ],
   "metadata": {
    "collapsed": false,
    "pycharm": {
     "name": "#%%\n"
    }
   }
  },
  {
   "cell_type": "code",
   "execution_count": null,
   "outputs": [],
   "source": [
    "reload(novosparc.common._tissue)"
   ],
   "metadata": {
    "collapsed": false,
    "pycharm": {
     "name": "#%%\n"
    }
   }
  },
  {
   "cell_type": "code",
   "execution_count": null,
   "outputs": [],
   "source": [
    "# compute optimal transport of cells to locations\n",
    "alpha_linear = 0.8\n",
    "epsilon = 5e-3\n",
    "# tissue.dge = sparse.csr_matrix(tissue.dge)\n",
    "tissue.reconstruct(alpha_linear=alpha_linear, epsilon=epsilon)"
   ],
   "metadata": {
    "collapsed": false,
    "pycharm": {
     "name": "#%%\n"
    }
   }
  },
  {
   "cell_type": "code",
   "execution_count": null,
   "outputs": [],
   "source": [
    "# configure locations probability values\n",
    "rdist = novosparc.gm.prob_dist_from_center(locations)\n",
    "atlas.obs['Alternative location marginals'] = rdist\n",
    "\n",
    "novosparc.pl.embedding(atlas, ['Alternative location marginals'])\n",
    "# tissue.reconstruct(alpha_linear=alpha_linear, epsilon=epsilon, p_locations=rdist)"
   ],
   "metadata": {
    "collapsed": false,
    "pycharm": {
     "name": "#%%\n"
    }
   }
  },
  {
   "cell_type": "markdown",
   "source": [
    "### Validate predicted expression over target space"
   ],
   "metadata": {
    "collapsed": false,
    "pycharm": {
     "name": "#%% md\n"
    }
   }
  },
  {
   "cell_type": "code",
   "execution_count": null,
   "outputs": [],
   "source": [
    "# reconstructed expression of individual genes\n",
    "sdge = tissue.sdge\n",
    "dataset_reconst = sc.AnnData(pd.DataFrame(sdge.T, columns=gene_names))\n",
    "dataset_reconst.obsm['spatial'] = locations\n",
    "\n",
    "title = ['%s, corr=%.02f' % (g, pearsonr(dataset_reconst[:,g].X.flatten(), atlas[:,g].X.flatten())[0] ) for g in pl_genes]\n",
    "novosparc.pl.embedding(dataset_reconst, pl_genes, title=title)"
   ],
   "metadata": {
    "collapsed": false,
    "pycharm": {
     "name": "#%%\n"
    }
   }
  },
  {
   "cell_type": "code",
   "execution_count": null,
   "outputs": [],
   "source": [
    "type(dataset_reconst)\n",
    "type(sdge)"
   ],
   "metadata": {
    "collapsed": false,
    "pycharm": {
     "name": "#%%\n"
    }
   }
  },
  {
   "cell_type": "markdown",
   "source": [
    "## Cleaning data after reconstruction"
   ],
   "metadata": {
    "collapsed": false,
    "pycharm": {
     "name": "#%% md\n"
    }
   }
  },
  {
   "cell_type": "code",
   "execution_count": null,
   "outputs": [],
   "source": [
    "%%time\n",
    "tissue.cleaning_expression_data(dataset_reconst,tissue.sdge.T,normalization='zscore', selected_genes=pl_genes,\n",
    "                                cov_prior=[(400,)])"
   ],
   "metadata": {
    "collapsed": false,
    "pycharm": {
     "name": "#%%\n"
    }
   }
  },
  {
   "cell_type": "code",
   "execution_count": null,
   "outputs": [],
   "source": [
    "# reconstructed expression of individual genes\n",
    "sdge_cleaned = tissue.cleaned_dge\n",
    "dataset_reconst_cleaned = sc.AnnData(pd.DataFrame(sdge_cleaned, columns=pl_genes)) # when only testing the subset\n",
    "# dataset_reconst_cleaned = sc.AnnData(pd.DataFrame(sdge_cleaned, columns=gene_names)) # full matrix\n",
    "dataset_reconst_cleaned.obsm['spatial'] = locations\n",
    "\n",
    "#title = ['%s, corr=%.02f' % (g, pearsonr(dataset_reconst_cleaned[:,g].X.flatten(), atlas[:,g].X.flatten())[0] ) for g in pl_genes]\n",
    "novosparc.pl.embedding(dataset_reconst_cleaned, pl_genes\n",
    "                       ) #, title=title)\n",
    "# novosparc.pl.embedding(dataset_reconst_cleaned, ['zen2'], title=title)"
   ],
   "metadata": {
    "collapsed": false,
    "pycharm": {
     "name": "#%%\n"
    }
   }
  },
  {
   "cell_type": "markdown",
   "source": [
    "### Validate localized mapping of individual cells\n",
    "The mapping of cells to locations is available in tissue.gw. The dimensions of the matrix is cells x locations of the target space, and each entry is the “belong-ness” of a cell, to the spatial position. Cells can be spread across multiple locations as their expression can truthfully correlate with multiple locations within the tissue and the overall goal is to recover the spatial expression which is computed as a weighted sum of cells’ expression."
   ],
   "metadata": {
    "collapsed": false,
    "pycharm": {
     "name": "#%% md\n"
    }
   }
  },
  {
   "cell_type": "code",
   "execution_count": null,
   "outputs": [],
   "source": [
    "# probability of individual cells belonging to each location\n",
    "gw = tissue.gw\n",
    "ngw = (gw.T / gw.sum(1)).T\n",
    "cell_idx = [1, 12]\n",
    "cell_prb_cols = ['cell %d' % i for i in cell_idx]\n",
    "dataset_reconst.obs = pd.DataFrame(ngw.T[:, cell_idx], columns=cell_prb_cols)\n",
    "\n",
    "title=['Cell %d, entropy=%.02f' % (i, novosparc.an.get_cell_entropy(ngw[i,:])) for i in cell_idx]\n",
    "novosparc.pl.embedding(dataset_reconst, cell_prb_cols, title=title)"
   ],
   "metadata": {
    "collapsed": false,
    "pycharm": {
     "name": "#%%\n"
    }
   }
  },
  {
   "cell_type": "code",
   "execution_count": null,
   "outputs": [],
   "source": [
    "# comparing distributions of entropy for transporting a cell to locations\n",
    "ent_T, ent_T_unif, ent_T_rproj, ent_T_shuf = novosparc.pl.plot_transport_entropy_dist(tissue)\n",
    "\n",
    "print(ks_2samp(ent_T, ent_T_rproj))\n",
    "print(ks_2samp(ent_T, ent_T_shuf))"
   ],
   "metadata": {
    "collapsed": false,
    "pycharm": {
     "name": "#%%\n"
    }
   }
  },
  {
   "cell_type": "markdown",
   "source": [
    "### Identifying spatially informative genes\n",
    "In addition to inserting known marker genes, we can also look for spatially informative genes from the reconstruction results:"
   ],
   "metadata": {
    "collapsed": false,
    "pycharm": {
     "name": "#%% md\n"
    }
   }
  },
  {
   "cell_type": "code",
   "execution_count": null,
   "outputs": [],
   "source": [
    "%%time\n",
    "# Looking for spatially informative genes according to reconstruction in highly variable genes\n",
    "\n",
    "cyc_genes = [g for g in gene_names if g.startswith('Cyc')]\n",
    "atlas_genes = list(atlas.var_names)\n",
    "mI_genes = cyc_genes + atlas_genes\n",
    "\n",
    "tissue.calculate_spatially_informative_genes(mI_genes)\n",
    "genes_with_scores = tissue.spatially_informative_genes\n",
    "\n",
    "genes_with_scores.index = genes_with_scores['genes']\n",
    "\n",
    "gene_groups = {'Atlas': atlas_genes, 'Cell-cycle': cyc_genes}\n",
    "novosparc.pl.plot_morans_dists(genes_with_scores, gene_groups)\n",
    "\n",
    "gene_max_mI = genes_with_scores['genes'].iloc[0]\n",
    "gene_min_mI = genes_with_scores['genes'].iloc[-1]\n",
    "\n",
    "title = ['%s, Morans`I=%.02f' % (gene_max_mI, genes_with_scores.loc[gene_max_mI]['mI']), \n",
    "         '%s, Morans`I=%.02f' % (gene_min_mI, genes_with_scores.loc[gene_min_mI]['mI'])]\n",
    "\n",
    "novosparc.pl.embedding(dataset_reconst, [gene_max_mI, gene_min_mI], title=title)\n",
    "\n",
    "print('Mean Morans I for cell-cycle genes: %.02f' % genes_with_scores.loc[cyc_genes]['mI'].mean())\n",
    "print('Mean Morans I for atlas genes: %.02f' % genes_with_scores.loc[atlas_genes]['mI'].mean())"
   ],
   "metadata": {
    "collapsed": false,
    "pycharm": {
     "name": "#%%\n"
    }
   }
  },
  {
   "cell_type": "markdown",
   "source": [
    "### Extract archetypes"
   ],
   "metadata": {
    "collapsed": false,
    "pycharm": {
     "name": "#%% md\n"
    }
   }
  },
  {
   "cell_type": "code",
   "execution_count": 19,
   "outputs": [
    {
     "ename": "NameError",
     "evalue": "name 'atlas_genes' is not defined",
     "output_type": "error",
     "traceback": [
      "\u001B[0;31m---------------------------------------------------------------------------\u001B[0m",
      "\u001B[0;31mNameError\u001B[0m                                 Traceback (most recent call last)",
      "Input \u001B[0;32mIn [19]\u001B[0m, in \u001B[0;36m<cell line: 3>\u001B[0;34m()\u001B[0m\n\u001B[1;32m      1\u001B[0m \u001B[38;5;66;03m# plot spatial expression archtypes\u001B[39;00m\n\u001B[1;32m      2\u001B[0m num_clusters \u001B[38;5;241m=\u001B[39m \u001B[38;5;241m10\u001B[39m\n\u001B[0;32m----> 3\u001B[0m atlas_indices \u001B[38;5;241m=\u001B[39m pd\u001B[38;5;241m.\u001B[39mDataFrame(np\u001B[38;5;241m.\u001B[39marange(num_genes), index\u001B[38;5;241m=\u001B[39mgene_names)[\u001B[38;5;241m0\u001B[39m]\u001B[38;5;241m.\u001B[39mloc[\u001B[43matlas_genes\u001B[49m]\u001B[38;5;241m.\u001B[39mvalues\n\u001B[1;32m      4\u001B[0m archetypes, clusters, gene_corrs \u001B[38;5;241m=\u001B[39m novosparc\u001B[38;5;241m.\u001B[39mrc\u001B[38;5;241m.\u001B[39mfind_spatial_archetypes(num_clusters, sdge[atlas_indices,:])\n\u001B[1;32m      6\u001B[0m arch_cols \u001B[38;5;241m=\u001B[39m [\u001B[38;5;124m'\u001B[39m\u001B[38;5;124marchetype \u001B[39m\u001B[38;5;132;01m%d\u001B[39;00m\u001B[38;5;124m'\u001B[39m\u001B[38;5;241m%\u001B[39m i \u001B[38;5;28;01mfor\u001B[39;00m i \u001B[38;5;129;01min\u001B[39;00m np\u001B[38;5;241m.\u001B[39marange(num_clusters)]\n",
      "\u001B[0;31mNameError\u001B[0m: name 'atlas_genes' is not defined"
     ]
    }
   ],
   "source": [
    "# plot spatial expression archtypes\n",
    "num_clusters = 10\n",
    "atlas_indices = pd.DataFrame(np.arange(num_genes), index=gene_names)[0].loc[atlas_genes].values\n",
    "archetypes, clusters, gene_corrs = novosparc.rc.find_spatial_archetypes(num_clusters, sdge[atlas_indices,:])\n",
    "\n",
    "arch_cols = ['archetype %d'% i for i in np.arange(num_clusters)]\n",
    "dataset_reconst.obs = pd.DataFrame(index=dataset_reconst.obs.index)\n",
    "df = pd.DataFrame(archetypes.T, columns=arch_cols)\n",
    "dataset_reconst.obs = pd.concat((dataset_reconst.obs, df), 1)\n",
    "\n",
    "novosparc.pl.embedding(dataset_reconst, arch_cols)"
   ],
   "metadata": {
    "collapsed": false,
    "pycharm": {
     "name": "#%%\n"
    }
   }
  },
  {
   "cell_type": "code",
   "execution_count": 19,
   "outputs": [],
   "source": [],
   "metadata": {
    "collapsed": false,
    "pycharm": {
     "name": "#%%\n"
    }
   }
  },
  {
   "cell_type": "code",
   "execution_count": 20,
   "outputs": [
    {
     "ename": "NameError",
     "evalue": "name 'dataset_reconst' is not defined",
     "output_type": "error",
     "traceback": [
      "\u001B[0;31m---------------------------------------------------------------------------\u001B[0m",
      "\u001B[0;31mNameError\u001B[0m                                 Traceback (most recent call last)",
      "Input \u001B[0;32mIn [20]\u001B[0m, in \u001B[0;36m<cell line: 1>\u001B[0;34m()\u001B[0m\n\u001B[0;32m----> 1\u001B[0m \u001B[38;5;28mtype\u001B[39m(\u001B[43mdataset_reconst\u001B[49m)\n\u001B[1;32m      2\u001B[0m \u001B[38;5;28mtype\u001B[39m(sdge)\n",
      "\u001B[0;31mNameError\u001B[0m: name 'dataset_reconst' is not defined"
     ]
    }
   ],
   "source": [
    "type(dataset_reconst)\n",
    "type(sdge)"
   ],
   "metadata": {
    "collapsed": false,
    "pycharm": {
     "name": "#%%\n"
    }
   }
  },
  {
   "cell_type": "code",
   "execution_count": 21,
   "outputs": [
    {
     "ename": "ValueError",
     "evalue": "Expected 1D or 2D array, got 0D array instead",
     "output_type": "error",
     "traceback": [
      "\u001B[0;31m---------------------------------------------------------------------------\u001B[0m",
      "\u001B[0;31mValueError\u001B[0m                                Traceback (most recent call last)",
      "Input \u001B[0;32mIn [21]\u001B[0m, in \u001B[0;36m<cell line: 2>\u001B[0;34m()\u001B[0m\n\u001B[1;32m      1\u001B[0m \u001B[38;5;66;03m# save reconstruction and sdge for development\u001B[39;00m\n\u001B[0;32m----> 2\u001B[0m \u001B[43mnp\u001B[49m\u001B[38;5;241;43m.\u001B[39;49m\u001B[43msavetxt\u001B[49m\u001B[43m(\u001B[49m\u001B[38;5;124;43m\"\u001B[39;49m\u001B[38;5;124;43mVic/development/droso_sdge.csv\u001B[39;49m\u001B[38;5;124;43m\"\u001B[39;49m\u001B[43m,\u001B[49m\u001B[43msdge\u001B[49m\u001B[43m,\u001B[49m\u001B[43m \u001B[49m\u001B[43mdelimiter\u001B[49m\u001B[38;5;241;43m=\u001B[39;49m\u001B[38;5;124;43m\"\u001B[39;49m\u001B[38;5;124;43m,\u001B[39;49m\u001B[38;5;124;43m\"\u001B[39;49m\u001B[43m)\u001B[49m\n",
      "File \u001B[0;32m<__array_function__ internals>:5\u001B[0m, in \u001B[0;36msavetxt\u001B[0;34m(*args, **kwargs)\u001B[0m\n",
      "File \u001B[0;32m~/anaconda3/envs/rajewskyLab/lib/python3.9/site-packages/numpy/lib/npyio.py:1382\u001B[0m, in \u001B[0;36msavetxt\u001B[0;34m(fname, X, fmt, delimiter, newline, header, footer, comments, encoding)\u001B[0m\n\u001B[1;32m   1380\u001B[0m \u001B[38;5;66;03m# Handle 1-dimensional arrays\u001B[39;00m\n\u001B[1;32m   1381\u001B[0m \u001B[38;5;28;01mif\u001B[39;00m X\u001B[38;5;241m.\u001B[39mndim \u001B[38;5;241m==\u001B[39m \u001B[38;5;241m0\u001B[39m \u001B[38;5;129;01mor\u001B[39;00m X\u001B[38;5;241m.\u001B[39mndim \u001B[38;5;241m>\u001B[39m \u001B[38;5;241m2\u001B[39m:\n\u001B[0;32m-> 1382\u001B[0m     \u001B[38;5;28;01mraise\u001B[39;00m \u001B[38;5;167;01mValueError\u001B[39;00m(\n\u001B[1;32m   1383\u001B[0m         \u001B[38;5;124m\"\u001B[39m\u001B[38;5;124mExpected 1D or 2D array, got \u001B[39m\u001B[38;5;132;01m%d\u001B[39;00m\u001B[38;5;124mD array instead\u001B[39m\u001B[38;5;124m\"\u001B[39m \u001B[38;5;241m%\u001B[39m X\u001B[38;5;241m.\u001B[39mndim)\n\u001B[1;32m   1384\u001B[0m \u001B[38;5;28;01melif\u001B[39;00m X\u001B[38;5;241m.\u001B[39mndim \u001B[38;5;241m==\u001B[39m \u001B[38;5;241m1\u001B[39m:\n\u001B[1;32m   1385\u001B[0m     \u001B[38;5;66;03m# Common case -- 1d array of numbers\u001B[39;00m\n\u001B[1;32m   1386\u001B[0m     \u001B[38;5;28;01mif\u001B[39;00m X\u001B[38;5;241m.\u001B[39mdtype\u001B[38;5;241m.\u001B[39mnames \u001B[38;5;129;01mis\u001B[39;00m \u001B[38;5;28;01mNone\u001B[39;00m:\n",
      "\u001B[0;31mValueError\u001B[0m: Expected 1D or 2D array, got 0D array instead"
     ]
    }
   ],
   "source": [
    "# save reconstruction and sdge for development\n",
    "np.savetxt(\"Vic/development/droso_sdge.csv\",sdge, delimiter=\",\")\n",
    "# dataset_reconst.write(\"development/droso_reconstruction.h5ad\")"
   ],
   "metadata": {
    "collapsed": false,
    "pycharm": {
     "name": "#%%\n"
    }
   }
  },
  {
   "cell_type": "code",
   "execution_count": null,
   "outputs": [],
   "source": [
    "# sdge = 8924 (genes) x 3039 (locations)\n",
    "sdge_small = sdge.T[:,(1,90)]"
   ],
   "metadata": {
    "collapsed": false,
    "pycharm": {
     "name": "#%%\n"
    }
   }
  },
  {
   "cell_type": "code",
   "execution_count": null,
   "outputs": [],
   "source": [
    "sdge_small # 2 genes (columns), 3039 locations (rows)"
   ],
   "metadata": {
    "collapsed": false,
    "pycharm": {
     "name": "#%%\n"
    }
   }
  },
  {
   "cell_type": "code",
   "execution_count": null,
   "outputs": [],
   "source": [],
   "metadata": {
    "collapsed": false,
    "pycharm": {
     "name": "#%%\n"
    }
   }
  },
  {
   "cell_type": "code",
   "execution_count": null,
   "outputs": [],
   "source": [
    "X = plt.hist(sdge_small) # (expression at gene per location)"
   ],
   "metadata": {
    "collapsed": false,
    "pycharm": {
     "name": "#%%\n"
    }
   }
  },
  {
   "cell_type": "code",
   "execution_count": null,
   "outputs": [],
   "source": [
    "X"
   ],
   "metadata": {
    "collapsed": false,
    "pycharm": {
     "name": "#%%\n"
    }
   }
  },
  {
   "cell_type": "code",
   "execution_count": null,
   "outputs": [],
   "source": [
    "from sklearn.mixture import GaussianMixture\n",
    "gmm = GaussianMixture(n_components=1).fit(sdge_small)"
   ],
   "metadata": {
    "collapsed": false,
    "pycharm": {
     "name": "#%%\n"
    }
   }
  },
  {
   "cell_type": "code",
   "execution_count": null,
   "outputs": [],
   "source": [
    "help(gmm)"
   ],
   "metadata": {
    "collapsed": false,
    "pycharm": {
     "name": "#%%\n"
    }
   }
  },
  {
   "cell_type": "code",
   "execution_count": null,
   "outputs": [],
   "source": [
    "# # cross-validation and self-consistency analysis\n",
    "# repeats = 3 #10\n",
    "# num_markerss = [40]\n",
    "# alpha_linears = np.arange(0.7, 0.9, 0.1) # np.arange(0.5, 1.0001, 0.1)\n",
    "\n",
    "\n",
    "# df_corr_atlas, df_corr_repeats = novosparc.an.correlation_random_markers(tissue, with_atlas=True, with_repeats=True,\n",
    "#                              alpha_linears=alpha_linears, epsilons=[epsilon], num_markerss=num_markerss, repeats=repeats)\n",
    "\n",
    "# base = alt.Chart().mark_boxplot().encode(x=alt.X('alpha_linear:Q', axis=alt.Axis(values=alpha_linears), scale=alt.Scale(zero=False)),\n",
    "#                                         y=alt.Y('Pearson correlation:Q', scale=alt.Scale(zero=False)),\n",
    "#                                         color=alt.value('blue'), opacity=alt.value(0.5))\n",
    "\n",
    "# pl_atlas = base.properties(data=df_corr_atlas, title='Correlation with atlas')\n",
    "# pl_repeats = base.properties(data=df_corr_repeats, title='Correlation with repeats')\n",
    "\n",
    "# alt.hconcat(pl_atlas, pl_repeats).configure_axis(grid=False, labelFontSize=15, titleFontSize=20)"
   ],
   "metadata": {
    "collapsed": false,
    "pycharm": {
     "name": "#%%\n"
    }
   }
  },
  {
   "cell_type": "markdown",
   "source": [
    "### Validate localized mapping of individual cells\n",
    "The mapping of cells to locations is available in tissue.gw. The dimensions of the matrix is cells x locations of the target space, and each entry is the “belong-ness” of a cell, to the spatial position. Cells can be spread across multiple locations as their expression can truthfully correlate with multiple locations within the tissue and the overall goal is to recover the spatial expression which is computed as a weighted sum of cells’ expression."
   ],
   "metadata": {
    "collapsed": false,
    "pycharm": {
     "name": "#%% md\n"
    }
   }
  },
  {
   "cell_type": "code",
   "execution_count": null,
   "outputs": [],
   "source": [
    "# probability of individual cells belonging to each location\n",
    "gw = tissue.gw\n",
    "ngw = (gw.T / gw.sum(1)).T\n",
    "cell_idx = [1, 12]\n",
    "cell_prb_cols = ['cell %d' % i for i in cell_idx]\n",
    "dataset_reconst.obs = pd.DataFrame(ngw.T[:, cell_idx], columns=cell_prb_cols)\n",
    "\n",
    "title=['Cell %d, entropy=%.02f' % (i, novosparc.an.get_cell_entropy(ngw[i,:])) for i in cell_idx]\n",
    "novosparc.pl.embedding(dataset_reconst, cell_prb_cols, title=title)"
   ],
   "metadata": {
    "collapsed": false,
    "pycharm": {
     "name": "#%%\n"
    }
   }
  },
  {
   "cell_type": "code",
   "execution_count": null,
   "outputs": [],
   "source": [
    "# comparing distributions of entropy for transporting a cell to locations\n",
    "ent_T, ent_T_unif, ent_T_rproj, ent_T_shuf = novosparc.pl.plot_transport_entropy_dist(tissue)\n",
    "\n",
    "print(ks_2samp(ent_T, ent_T_rproj))\n",
    "print(ks_2samp(ent_T, ent_T_shuf))"
   ],
   "metadata": {
    "collapsed": false,
    "pycharm": {
     "name": "#%%\n"
    }
   }
  },
  {
   "cell_type": "markdown",
   "source": [
    "### Identifying spatially informative genes\n",
    "In addition to inserting known marker genes, we can also look for spatially informative genes from the reconstruction results:"
   ],
   "metadata": {
    "collapsed": false,
    "pycharm": {
     "name": "#%% md\n"
    }
   }
  },
  {
   "cell_type": "code",
   "execution_count": null,
   "outputs": [],
   "source": [
    "%%time\n",
    "# Looking for spatially informative genes according to reconstruction in highly variable genes\n",
    "\n",
    "cyc_genes = [g for g in gene_names if g.startswith('Cyc')]\n",
    "atlas_genes = list(atlas.var_names)\n",
    "mI_genes = cyc_genes + atlas_genes\n",
    "\n",
    "tissue.calculate_spatially_informative_genes(mI_genes)\n",
    "genes_with_scores = tissue.spatially_informative_genes\n",
    "\n",
    "genes_with_scores.index = genes_with_scores['genes']\n",
    "\n",
    "gene_groups = {'Atlas': atlas_genes, 'Cell-cycle': cyc_genes}\n",
    "novosparc.pl.plot_morans_dists(genes_with_scores, gene_groups)\n",
    "\n",
    "gene_max_mI = genes_with_scores['genes'].iloc[0]\n",
    "gene_min_mI = genes_with_scores['genes'].iloc[-1]\n",
    "\n",
    "title = ['%s, Morans`I=%.02f' % (gene_max_mI, genes_with_scores.loc[gene_max_mI]['mI']), \n",
    "         '%s, Morans`I=%.02f' % (gene_min_mI, genes_with_scores.loc[gene_min_mI]['mI'])]\n",
    "\n",
    "novosparc.pl.embedding(dataset_reconst, [gene_max_mI, gene_min_mI], title=title)\n",
    "\n",
    "print('Mean Morans I for cell-cycle genes: %.02f' % genes_with_scores.loc[cyc_genes]['mI'].mean())\n",
    "print('Mean Morans I for atlas genes: %.02f' % genes_with_scores.loc[atlas_genes]['mI'].mean())"
   ],
   "metadata": {
    "collapsed": false,
    "pycharm": {
     "name": "#%%\n"
    }
   }
  },
  {
   "cell_type": "markdown",
   "source": [
    "### Extract archetypes"
   ],
   "metadata": {
    "collapsed": false,
    "pycharm": {
     "name": "#%% md\n"
    }
   }
  },
  {
   "cell_type": "code",
   "execution_count": null,
   "outputs": [],
   "source": [
    "# plot spatial expression archtypes\n",
    "num_clusters = 10\n",
    "atlas_indices = pd.DataFrame(np.arange(num_genes), index=gene_names)[0].loc[atlas_genes].values\n",
    "archetypes, clusters, gene_corrs = novosparc.rc.find_spatial_archetypes(num_clusters, sdge[atlas_indices,:])\n",
    "\n",
    "arch_cols = ['archetype %d'% i for i in np.arange(num_clusters)]\n",
    "dataset_reconst.obs = pd.DataFrame(index=dataset_reconst.obs.index)\n",
    "df = pd.DataFrame(archetypes.T, columns=arch_cols)\n",
    "dataset_reconst.obs = pd.concat((dataset_reconst.obs, df), 1)\n",
    "\n",
    "novosparc.pl.embedding(dataset_reconst, arch_cols)"
   ],
   "metadata": {
    "collapsed": false,
    "pycharm": {
     "name": "#%%\n"
    }
   }
  },
  {
   "cell_type": "code",
   "execution_count": null,
   "outputs": [],
   "source": [],
   "metadata": {
    "collapsed": false,
    "pycharm": {
     "name": "#%%\n"
    }
   }
  }
 ],
 "metadata": {
  "hide_input": false,
  "kernelspec": {
   "display_name": "Python 3",
   "language": "python",
   "name": "python3"
  },
  "language_info": {
   "codemirror_mode": {
    "name": "ipython",
    "version": 3
   },
   "file_extension": ".py",
   "mimetype": "text/x-python",
   "name": "python",
   "nbconvert_exporter": "python",
   "pygments_lexer": "ipython3",
   "version": "3.7.5"
  },
  "toc": {
   "base_numbering": 1,
   "nav_menu": {},
   "number_sections": true,
   "sideBar": true,
   "skip_h1_title": false,
   "title_cell": "Table of Contents",
   "title_sidebar": "Contents",
   "toc_cell": false,
   "toc_position": {},
   "toc_section_display": true,
   "toc_window_display": false
  }
 },
 "nbformat": 4,
 "nbformat_minor": 2
}