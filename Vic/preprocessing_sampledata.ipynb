{
 "cells": [
  {
   "cell_type": "markdown",
   "source": [
    "# Preprocessing sample data\n",
    "date: 27/05/2022\n",
    "\n",
    "This notebook is for all additional steps that I do to raw-data or andata to bring them in a format that I then use as input for novosparc"
   ],
   "metadata": {
    "collapsed": false,
    "pycharm": {
     "name": "#%% md\n"
    }
   }
  },
  {
   "cell_type": "code",
   "execution_count": 1,
   "outputs": [],
   "source": [
    "import scanpy as sc\n",
    "import os\n",
    "import pandas as pd"
   ],
   "metadata": {
    "collapsed": false,
    "pycharm": {
     "name": "#%%\n"
    }
   }
  },
  {
   "cell_type": "markdown",
   "source": [
    "## preprocessed uterus anndata\n",
    "Filtering for only using some samples. Full overview and metadata about the samples can be found [here](https://docs.google.com/spreadsheets/d/1tdr0X3Wal_oeU0BquVvuG7jegJTfN9h4W7HyzHCvJII/edit#gid=470062290)"
   ],
   "metadata": {
    "collapsed": false,
    "pycharm": {
     "name": "#%% md\n"
    }
   }
  },
  {
   "cell_type": "code",
   "execution_count": 2,
   "outputs": [],
   "source": [
    "dirname = '/mnt/ramdisk'\n",
    "fname = os.path.join(dirname,'endometrium_all.h5ad')"
   ],
   "metadata": {
    "collapsed": false,
    "pycharm": {
     "name": "#%%\n"
    }
   }
  },
  {
   "cell_type": "code",
   "execution_count": 3,
   "outputs": [],
   "source": [
    "endometrium_all = sc.read(fname)"
   ],
   "metadata": {
    "collapsed": false,
    "pycharm": {
     "name": "#%%\n"
    }
   }
  },
  {
   "cell_type": "code",
   "execution_count": 4,
   "outputs": [
    {
     "data": {
      "text/plain": "                                         SampleID  log2p1_count  percent_mito  \\\n4861STDY7387181_AAACCTGAGGCATGGT  4861STDY7387181     13.951467      0.057320   \n4861STDY7387181_AAACCTGAGGGCACTA  4861STDY7387181     13.776227      0.043838   \n4861STDY7387181_AAACCTGAGTGAAGTT  4861STDY7387181     12.894628      0.070791   \n4861STDY7387181_AAACCTGAGTGGGCTA  4861STDY7387181     12.329235      0.071137   \n4861STDY7387181_AAACCTGCACCGAAAG  4861STDY7387181     12.171176      0.063977   \n...                                           ...           ...           ...   \nGSM4577315_TTTGGTTAGGATAATC            GSM4577315     15.003430      0.041133   \nGSM4577315_TTTGGTTCACTACACA            GSM4577315     14.409987      0.025634   \nGSM4577315_TTTGGTTGTCCGACGT            GSM4577315     13.338180      0.079575   \nGSM4577315_TTTGTTGGTTCGGCCA            GSM4577315     13.996120      0.059918   \nGSM4577315_TTTGTTGTCATCTGTT            GSM4577315     12.164278      0.052953   \n\n                                  n_genes       DonorID          BiopsyType  \\\n4861STDY7387181_AAACCTGAGGCATGGT     3842           A13         Organ_Donor   \n4861STDY7387181_AAACCTGAGGGCACTA     3544           A13         Organ_Donor   \n4861STDY7387181_AAACCTGAGTGAAGTT     2507           A13         Organ_Donor   \n4861STDY7387181_AAACCTGAGTGGGCTA     1928           A13         Organ_Donor   \n4861STDY7387181_AAACCTGCACCGAAAG     1824           A13         Organ_Donor   \n...                                   ...           ...                 ...   \nGSM4577315_TTTGGTTAGGATAATC          6244  SAMN15049042  Superficial_Biopsy   \nGSM4577315_TTTGGTTCACTACACA          5045  SAMN15049042  Superficial_Biopsy   \nGSM4577315_TTTGGTTGTCCGACGT          2911  SAMN15049042  Superficial_Biopsy   \nGSM4577315_TTTGTTGGTTCGGCCA          4592  SAMN15049042  Superficial_Biopsy   \nGSM4577315_TTTGTTGTCATCTGTT          1924  SAMN15049042  Superficial_Biopsy   \n\n                                              Location   Binary Stage  \\\n4861STDY7387181_AAACCTGAGGCATGGT  endometrium_enriched  Proliferative   \n4861STDY7387181_AAACCTGAGGGCACTA  endometrium_enriched  Proliferative   \n4861STDY7387181_AAACCTGAGTGAAGTT  endometrium_enriched  Proliferative   \n4861STDY7387181_AAACCTGAGTGGGCTA  endometrium_enriched  Proliferative   \n4861STDY7387181_AAACCTGCACCGAAAG  endometrium_enriched  Proliferative   \n...                                                ...            ...   \nGSM4577315_TTTGGTTAGGATAATC         endometrium_biopsy  Proliferative   \nGSM4577315_TTTGGTTCACTACACA         endometrium_biopsy  Proliferative   \nGSM4577315_TTTGGTTGTCCGACGT         endometrium_biopsy  Proliferative   \nGSM4577315_TTTGTTGGTTCGGCCA         endometrium_biopsy  Proliferative   \nGSM4577315_TTTGTTGTCATCTGTT         endometrium_biopsy  Proliferative   \n\n                                          Stage Broad cell type  Cell type  \\\n4861STDY7387181_AAACCTGAGGCATGGT  proliferative         Stromal         eS   \n4861STDY7387181_AAACCTGAGGGCACTA  proliferative         Stromal         eS   \n4861STDY7387181_AAACCTGAGTGAAGTT  proliferative      Supporting  PV STEAP4   \n4861STDY7387181_AAACCTGAGTGGGCTA  proliferative         Stromal         dS   \n4861STDY7387181_AAACCTGCACCGAAAG  proliferative         Stromal         eS   \n...                                         ...             ...        ...   \nGSM4577315_TTTGGTTAGGATAATC       proliferative      Epithelial       SOX9   \nGSM4577315_TTTGGTTCACTACACA       proliferative      Epithelial       SOX9   \nGSM4577315_TTTGGTTGTCCGACGT       proliferative      Epithelial       SOX9   \nGSM4577315_TTTGTTGGTTCGGCCA       proliferative      Epithelial       SOX9   \nGSM4577315_TTTGTTGTCATCTGTT       proliferative          Immune   Lymphoid   \n\n                                 CellCycle Phase  \n4861STDY7387181_AAACCTGAGGCATGGT               S  \n4861STDY7387181_AAACCTGAGGGCACTA              G1  \n4861STDY7387181_AAACCTGAGTGAAGTT              G1  \n4861STDY7387181_AAACCTGAGTGGGCTA              G1  \n4861STDY7387181_AAACCTGCACCGAAAG              G1  \n...                                          ...  \nGSM4577315_TTTGGTTAGGATAATC                  G2M  \nGSM4577315_TTTGGTTCACTACACA                   G1  \nGSM4577315_TTTGGTTGTCCGACGT                   G1  \nGSM4577315_TTTGTTGGTTCGGCCA                  G2M  \nGSM4577315_TTTGTTGTCATCTGTT                   G1  \n\n[100307 rows x 12 columns]",
      "text/html": "<div>\n<style scoped>\n    .dataframe tbody tr th:only-of-type {\n        vertical-align: middle;\n    }\n\n    .dataframe tbody tr th {\n        vertical-align: top;\n    }\n\n    .dataframe thead th {\n        text-align: right;\n    }\n</style>\n<table border=\"1\" class=\"dataframe\">\n  <thead>\n    <tr style=\"text-align: right;\">\n      <th></th>\n      <th>SampleID</th>\n      <th>log2p1_count</th>\n      <th>percent_mito</th>\n      <th>n_genes</th>\n      <th>DonorID</th>\n      <th>BiopsyType</th>\n      <th>Location</th>\n      <th>Binary Stage</th>\n      <th>Stage</th>\n      <th>Broad cell type</th>\n      <th>Cell type</th>\n      <th>CellCycle Phase</th>\n    </tr>\n  </thead>\n  <tbody>\n    <tr>\n      <th>4861STDY7387181_AAACCTGAGGCATGGT</th>\n      <td>4861STDY7387181</td>\n      <td>13.951467</td>\n      <td>0.057320</td>\n      <td>3842</td>\n      <td>A13</td>\n      <td>Organ_Donor</td>\n      <td>endometrium_enriched</td>\n      <td>Proliferative</td>\n      <td>proliferative</td>\n      <td>Stromal</td>\n      <td>eS</td>\n      <td>S</td>\n    </tr>\n    <tr>\n      <th>4861STDY7387181_AAACCTGAGGGCACTA</th>\n      <td>4861STDY7387181</td>\n      <td>13.776227</td>\n      <td>0.043838</td>\n      <td>3544</td>\n      <td>A13</td>\n      <td>Organ_Donor</td>\n      <td>endometrium_enriched</td>\n      <td>Proliferative</td>\n      <td>proliferative</td>\n      <td>Stromal</td>\n      <td>eS</td>\n      <td>G1</td>\n    </tr>\n    <tr>\n      <th>4861STDY7387181_AAACCTGAGTGAAGTT</th>\n      <td>4861STDY7387181</td>\n      <td>12.894628</td>\n      <td>0.070791</td>\n      <td>2507</td>\n      <td>A13</td>\n      <td>Organ_Donor</td>\n      <td>endometrium_enriched</td>\n      <td>Proliferative</td>\n      <td>proliferative</td>\n      <td>Supporting</td>\n      <td>PV STEAP4</td>\n      <td>G1</td>\n    </tr>\n    <tr>\n      <th>4861STDY7387181_AAACCTGAGTGGGCTA</th>\n      <td>4861STDY7387181</td>\n      <td>12.329235</td>\n      <td>0.071137</td>\n      <td>1928</td>\n      <td>A13</td>\n      <td>Organ_Donor</td>\n      <td>endometrium_enriched</td>\n      <td>Proliferative</td>\n      <td>proliferative</td>\n      <td>Stromal</td>\n      <td>dS</td>\n      <td>G1</td>\n    </tr>\n    <tr>\n      <th>4861STDY7387181_AAACCTGCACCGAAAG</th>\n      <td>4861STDY7387181</td>\n      <td>12.171176</td>\n      <td>0.063977</td>\n      <td>1824</td>\n      <td>A13</td>\n      <td>Organ_Donor</td>\n      <td>endometrium_enriched</td>\n      <td>Proliferative</td>\n      <td>proliferative</td>\n      <td>Stromal</td>\n      <td>eS</td>\n      <td>G1</td>\n    </tr>\n    <tr>\n      <th>...</th>\n      <td>...</td>\n      <td>...</td>\n      <td>...</td>\n      <td>...</td>\n      <td>...</td>\n      <td>...</td>\n      <td>...</td>\n      <td>...</td>\n      <td>...</td>\n      <td>...</td>\n      <td>...</td>\n      <td>...</td>\n    </tr>\n    <tr>\n      <th>GSM4577315_TTTGGTTAGGATAATC</th>\n      <td>GSM4577315</td>\n      <td>15.003430</td>\n      <td>0.041133</td>\n      <td>6244</td>\n      <td>SAMN15049042</td>\n      <td>Superficial_Biopsy</td>\n      <td>endometrium_biopsy</td>\n      <td>Proliferative</td>\n      <td>proliferative</td>\n      <td>Epithelial</td>\n      <td>SOX9</td>\n      <td>G2M</td>\n    </tr>\n    <tr>\n      <th>GSM4577315_TTTGGTTCACTACACA</th>\n      <td>GSM4577315</td>\n      <td>14.409987</td>\n      <td>0.025634</td>\n      <td>5045</td>\n      <td>SAMN15049042</td>\n      <td>Superficial_Biopsy</td>\n      <td>endometrium_biopsy</td>\n      <td>Proliferative</td>\n      <td>proliferative</td>\n      <td>Epithelial</td>\n      <td>SOX9</td>\n      <td>G1</td>\n    </tr>\n    <tr>\n      <th>GSM4577315_TTTGGTTGTCCGACGT</th>\n      <td>GSM4577315</td>\n      <td>13.338180</td>\n      <td>0.079575</td>\n      <td>2911</td>\n      <td>SAMN15049042</td>\n      <td>Superficial_Biopsy</td>\n      <td>endometrium_biopsy</td>\n      <td>Proliferative</td>\n      <td>proliferative</td>\n      <td>Epithelial</td>\n      <td>SOX9</td>\n      <td>G1</td>\n    </tr>\n    <tr>\n      <th>GSM4577315_TTTGTTGGTTCGGCCA</th>\n      <td>GSM4577315</td>\n      <td>13.996120</td>\n      <td>0.059918</td>\n      <td>4592</td>\n      <td>SAMN15049042</td>\n      <td>Superficial_Biopsy</td>\n      <td>endometrium_biopsy</td>\n      <td>Proliferative</td>\n      <td>proliferative</td>\n      <td>Epithelial</td>\n      <td>SOX9</td>\n      <td>G2M</td>\n    </tr>\n    <tr>\n      <th>GSM4577315_TTTGTTGTCATCTGTT</th>\n      <td>GSM4577315</td>\n      <td>12.164278</td>\n      <td>0.052953</td>\n      <td>1924</td>\n      <td>SAMN15049042</td>\n      <td>Superficial_Biopsy</td>\n      <td>endometrium_biopsy</td>\n      <td>Proliferative</td>\n      <td>proliferative</td>\n      <td>Immune</td>\n      <td>Lymphoid</td>\n      <td>G1</td>\n    </tr>\n  </tbody>\n</table>\n<p>100307 rows × 12 columns</p>\n</div>"
     },
     "execution_count": 4,
     "metadata": {},
     "output_type": "execute_result"
    }
   ],
   "source": [
    "endometrium_all.obs"
   ],
   "metadata": {
    "collapsed": false,
    "pycharm": {
     "name": "#%%\n"
    }
   }
  },
  {
   "cell_type": "code",
   "execution_count": 5,
   "outputs": [
    {
     "data": {
      "text/plain": "Index(['A13', 'A30', 'E1', 'E2', 'E3', 'SAMN15049042', 'SAMN15049043',\n       'SAMN15049044', 'SAMN15049045', 'SAMN15049046', 'SAMN15049047',\n       'SAMN15049048', 'SAMN15049049', 'SAMN15049050', 'SAMN15049051'],\n      dtype='object')"
     },
     "execution_count": 5,
     "metadata": {},
     "output_type": "execute_result"
    }
   ],
   "source": [
    "endometrium_all.obs['DonorID'].cat.categories"
   ],
   "metadata": {
    "collapsed": false,
    "pycharm": {
     "name": "#%%\n"
    }
   }
  },
  {
   "cell_type": "markdown",
   "source": [
    "### First try sample\n",
    "\n",
    "For a first try I only take donors A13 and A30 (\"Full-thickness uterine wall samples, obtained from deceased transplant organ donors. Uterus was removed within 1h of circulatory arrest\" (Garcia-Alonso et.al)"
   ],
   "metadata": {
    "collapsed": false,
    "pycharm": {
     "name": "#%% md\n"
    }
   }
  },
  {
   "cell_type": "code",
   "execution_count": 6,
   "outputs": [],
   "source": [
    "endometrium_histo = endometrium_all[endometrium_all.obs[\"DonorID\"].isin([\"A13\",\"A30\"]),:]"
   ],
   "metadata": {
    "collapsed": false,
    "pycharm": {
     "name": "#%%\n"
    }
   }
  },
  {
   "cell_type": "code",
   "execution_count": 7,
   "outputs": [],
   "source": [
    "subsample_histo_samples = \"/mnt/ramdisk/uterus_histo.h5ad\"\n",
    "endometrium_histo.write(subsample_histo_samples)"
   ],
   "metadata": {
    "collapsed": false,
    "pycharm": {
     "name": "#%%\n"
    }
   }
  },
  {
   "cell_type": "code",
   "execution_count": null,
   "outputs": [],
   "source": [],
   "metadata": {
    "collapsed": false,
    "pycharm": {
     "name": "#%%\n"
    }
   }
  }
 ],
 "metadata": {
  "kernelspec": {
   "display_name": "Python 3",
   "language": "python",
   "name": "python3"
  },
  "language_info": {
   "codemirror_mode": {
    "name": "ipython",
    "version": 2
   },
   "file_extension": ".py",
   "mimetype": "text/x-python",
   "name": "python",
   "nbconvert_exporter": "python",
   "pygments_lexer": "ipython2",
   "version": "2.7.6"
  }
 },
 "nbformat": 4,
 "nbformat_minor": 0
}