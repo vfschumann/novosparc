{
 "cells": [
  {
   "cell_type": "markdown",
   "source": [
    "# Terminal commands for data access\n",
    "\n",
    "```\n",
    "autossh -AtX vschuma@ssh1.mdc-berlin.de ssh vschuma@murphy.mdc-berlin.net\n",
    "# open the ssh screen and/or type\n",
    "ssh -NR 6667:localhost:22 vfs@79.197.179.128 (current network ID)\n",
    "\n",
    "# mount\n",
    "sshfs -p 6667 vschuma@localhost:/data/local/rajewsky/home/vschuma /mnt/murphy_workspace/\n",
    "or\n",
    "sshfs vschuma@murphy:/data/local/rajewsky/home/vschuma/ ~/mounts/murphy_workspace/\n",
    "\n",
    "# if working with the mount is to slow, copy the data to a ramdisk\n",
    "sudo mount -t tmpfs -o size=6g tmpfs /mnt/ramdisk/\n",
    "\n",
    "# then copy the file to the ramdisk\n",
    "mkdir /mnt/ramdisk/data && rsync -av /mnt/murphy_workspace/NSTT/data/GarciaAlsono_uterus/hot_data/* /mnt/ramdisk/data\n",
    "or\n",
    "mkdir /dev/shm/data && rsync -av /home/vschuma/mounts/murphy_workspace/NSTT/data/GarciaAlsono_uterus/hot_data/* /dev/shm/data/\n",
    "# symlink inside the pycharm project to the data dir\n",
    "(example command)\n",
    "ln -s /mnt/ramdisk/data data\n",
    "e.g.: ln -s /mnt/murphy_workspace/NSTT/data/ data\n",
    "or\n",
    "ln -s /dev/shm/data/ data\n",
    "```"
   ],
   "metadata": {
    "collapsed": false,
    "pycharm": {
     "name": "#%% md\n"
    }
   }
  },
  {
   "cell_type": "code",
   "execution_count": 3,
   "outputs": [],
   "source": [
    "%matplotlib inline\n",
    "import anndata\n",
    "import novosparc\n",
    "import os\n",
    "import numpy as np\n",
    "import pandas as pd\n",
    "import scanpy as sc\n",
    "import seaborn as sns\n",
    "from matplotlib.pyplot import figure\n",
    "import matplotlib.pyplot as plt\n",
    "import copy\n",
    "\n",
    "\n",
    "import plotly.express as px\n",
    "import plotly.graph_objects as go"
   ],
   "metadata": {
    "collapsed": false,
    "pycharm": {
     "name": "#%%\n"
    }
   }
  },
  {
   "cell_type": "markdown",
   "source": [
    "# Reading data\n",
    "I got the data from Anna & Tancredi. The spatial file is 6w tumor slide, spatial in-house method processed with spacemake. The other data is annotated single-nuclei data, exported by Anna. Method details - idk.\n",
    "\n",
    "The data is located in Anna's home directory on the lab server:\n",
    "`/data/local/rajewsky/home/aantona/novaseq/H5AD_snRNA_ST/`\n",
    "I created a symlink within my own directory:\n",
    "`/data/local/rajewsky/home/vschuma/NSTT/data/TNBC`"
   ],
   "metadata": {
    "collapsed": false,
    "pycharm": {
     "name": "#%% md\n"
    }
   }
  },
  {
   "cell_type": "code",
   "execution_count": 6,
   "outputs": [],
   "source": [
    "data_dir = 'data' # symlinked to /data/local/rajewsky/home/vschuma/NSTT/data/TNBC_inhouse"
   ],
   "metadata": {
    "collapsed": false,
    "pycharm": {
     "name": "#%%\n"
    }
   }
  },
  {
   "cell_type": "markdown",
   "source": [
    "## Single-nuclei data\n",
    "\n",
    "The `snRNA_TNBC_integreted.h5ad` file is the processed file from Anna which she imported to seurat, did stuff and all the annotations with it and exported back from seurat --> h5ad."
   ],
   "metadata": {
    "collapsed": false,
    "pycharm": {
     "name": "#%% md\n"
    }
   }
  },
  {
   "cell_type": "code",
   "execution_count": 5,
   "outputs": [
    {
     "ename": "KeyboardInterrupt",
     "evalue": "",
     "output_type": "error",
     "traceback": [
      "\u001B[0;31m---------------------------------------------------------------------------\u001B[0m",
      "\u001B[0;31mKeyboardInterrupt\u001B[0m                         Traceback (most recent call last)",
      "File \u001B[0;32m<timed exec>:2\u001B[0m, in \u001B[0;36m<module>\u001B[0;34m\u001B[0m\n",
      "File \u001B[0;32m~/anaconda3/envs/NovoSpaRc/lib/python3.9/site-packages/anndata/_io/h5ad.py:238\u001B[0m, in \u001B[0;36mread_h5ad\u001B[0;34m(filename, backed, as_sparse, as_sparse_fmt, chunk_size)\u001B[0m\n\u001B[1;32m    236\u001B[0m         d[k] \u001B[38;5;241m=\u001B[39m read_dataframe(f[k])\n\u001B[1;32m    237\u001B[0m     \u001B[38;5;28;01melse\u001B[39;00m:  \u001B[38;5;66;03m# Base case\u001B[39;00m\n\u001B[0;32m--> 238\u001B[0m         d[k] \u001B[38;5;241m=\u001B[39m \u001B[43mread_elem\u001B[49m\u001B[43m(\u001B[49m\u001B[43mf\u001B[49m\u001B[43m[\u001B[49m\u001B[43mk\u001B[49m\u001B[43m]\u001B[49m\u001B[43m)\u001B[49m\n\u001B[1;32m    240\u001B[0m d[\u001B[38;5;124m\"\u001B[39m\u001B[38;5;124mraw\u001B[39m\u001B[38;5;124m\"\u001B[39m] \u001B[38;5;241m=\u001B[39m _read_raw(f, as_sparse, rdasp)\n\u001B[1;32m    242\u001B[0m X_dset \u001B[38;5;241m=\u001B[39m f\u001B[38;5;241m.\u001B[39mget(\u001B[38;5;124m\"\u001B[39m\u001B[38;5;124mX\u001B[39m\u001B[38;5;124m\"\u001B[39m, \u001B[38;5;28;01mNone\u001B[39;00m)\n",
      "File \u001B[0;32m~/anaconda3/envs/NovoSpaRc/lib/python3.9/site-packages/anndata/_io/specs/registry.py:183\u001B[0m, in \u001B[0;36mread_elem\u001B[0;34m(elem, modifiers)\u001B[0m\n\u001B[1;32m    178\u001B[0m \u001B[38;5;28;01mdef\u001B[39;00m \u001B[38;5;21mread_elem\u001B[39m(\n\u001B[1;32m    179\u001B[0m     elem: Union[H5Array, H5Group, ZarrGroup, ZarrArray],\n\u001B[1;32m    180\u001B[0m     modifiers: \u001B[38;5;28mfrozenset\u001B[39m(\u001B[38;5;28mstr\u001B[39m) \u001B[38;5;241m=\u001B[39m \u001B[38;5;28mfrozenset\u001B[39m(),\n\u001B[1;32m    181\u001B[0m ) \u001B[38;5;241m-\u001B[39m\u001B[38;5;241m>\u001B[39m Any:\n\u001B[1;32m    182\u001B[0m     \u001B[38;5;124;03m\"\"\"Read an element from an on disk store.\"\"\"\u001B[39;00m\n\u001B[0;32m--> 183\u001B[0m     \u001B[38;5;28;01mreturn\u001B[39;00m \u001B[43m_REGISTRY\u001B[49m\u001B[38;5;241;43m.\u001B[39;49m\u001B[43mget_reader\u001B[49m\u001B[43m(\u001B[49m\u001B[38;5;28;43mtype\u001B[39;49m\u001B[43m(\u001B[49m\u001B[43melem\u001B[49m\u001B[43m)\u001B[49m\u001B[43m,\u001B[49m\u001B[43m \u001B[49m\u001B[43mget_spec\u001B[49m\u001B[43m(\u001B[49m\u001B[43melem\u001B[49m\u001B[43m)\u001B[49m\u001B[43m,\u001B[49m\u001B[43m \u001B[49m\u001B[38;5;28;43mfrozenset\u001B[39;49m\u001B[43m(\u001B[49m\u001B[43mmodifiers\u001B[49m\u001B[43m)\u001B[49m\u001B[43m)\u001B[49m\u001B[43m(\u001B[49m\u001B[43melem\u001B[49m\u001B[43m)\u001B[49m\n",
      "File \u001B[0;32m~/anaconda3/envs/NovoSpaRc/lib/python3.9/site-packages/anndata/_io/specs/methods.py:92\u001B[0m, in \u001B[0;36mread_basic\u001B[0;34m(elem)\u001B[0m\n\u001B[1;32m     90\u001B[0m     \u001B[38;5;28;01mif\u001B[39;00m \u001B[38;5;124m\"\u001B[39m\u001B[38;5;124mh5sparse_format\u001B[39m\u001B[38;5;124m\"\u001B[39m \u001B[38;5;129;01min\u001B[39;00m elem\u001B[38;5;241m.\u001B[39mattrs:\n\u001B[1;32m     91\u001B[0m         \u001B[38;5;28;01mreturn\u001B[39;00m SparseDataset(elem)\u001B[38;5;241m.\u001B[39mto_memory()\n\u001B[0;32m---> 92\u001B[0m     \u001B[38;5;28;01mreturn\u001B[39;00m {k: read_elem(v) \u001B[38;5;28;01mfor\u001B[39;00m k, v \u001B[38;5;129;01min\u001B[39;00m elem\u001B[38;5;241m.\u001B[39mitems()}\n\u001B[1;32m     93\u001B[0m \u001B[38;5;28;01melif\u001B[39;00m \u001B[38;5;28misinstance\u001B[39m(elem, h5py\u001B[38;5;241m.\u001B[39mDataset):\n\u001B[1;32m     94\u001B[0m     \u001B[38;5;28;01mreturn\u001B[39;00m h5ad\u001B[38;5;241m.\u001B[39mread_dataset(elem)\n",
      "File \u001B[0;32m~/anaconda3/envs/NovoSpaRc/lib/python3.9/site-packages/anndata/_io/specs/methods.py:92\u001B[0m, in \u001B[0;36m<dictcomp>\u001B[0;34m(.0)\u001B[0m\n\u001B[1;32m     90\u001B[0m     \u001B[38;5;28;01mif\u001B[39;00m \u001B[38;5;124m\"\u001B[39m\u001B[38;5;124mh5sparse_format\u001B[39m\u001B[38;5;124m\"\u001B[39m \u001B[38;5;129;01min\u001B[39;00m elem\u001B[38;5;241m.\u001B[39mattrs:\n\u001B[1;32m     91\u001B[0m         \u001B[38;5;28;01mreturn\u001B[39;00m SparseDataset(elem)\u001B[38;5;241m.\u001B[39mto_memory()\n\u001B[0;32m---> 92\u001B[0m     \u001B[38;5;28;01mreturn\u001B[39;00m {k: \u001B[43mread_elem\u001B[49m\u001B[43m(\u001B[49m\u001B[43mv\u001B[49m\u001B[43m)\u001B[49m \u001B[38;5;28;01mfor\u001B[39;00m k, v \u001B[38;5;129;01min\u001B[39;00m elem\u001B[38;5;241m.\u001B[39mitems()}\n\u001B[1;32m     93\u001B[0m \u001B[38;5;28;01melif\u001B[39;00m \u001B[38;5;28misinstance\u001B[39m(elem, h5py\u001B[38;5;241m.\u001B[39mDataset):\n\u001B[1;32m     94\u001B[0m     \u001B[38;5;28;01mreturn\u001B[39;00m h5ad\u001B[38;5;241m.\u001B[39mread_dataset(elem)\n",
      "File \u001B[0;32m~/anaconda3/envs/NovoSpaRc/lib/python3.9/site-packages/anndata/_io/specs/registry.py:183\u001B[0m, in \u001B[0;36mread_elem\u001B[0;34m(elem, modifiers)\u001B[0m\n\u001B[1;32m    178\u001B[0m \u001B[38;5;28;01mdef\u001B[39;00m \u001B[38;5;21mread_elem\u001B[39m(\n\u001B[1;32m    179\u001B[0m     elem: Union[H5Array, H5Group, ZarrGroup, ZarrArray],\n\u001B[1;32m    180\u001B[0m     modifiers: \u001B[38;5;28mfrozenset\u001B[39m(\u001B[38;5;28mstr\u001B[39m) \u001B[38;5;241m=\u001B[39m \u001B[38;5;28mfrozenset\u001B[39m(),\n\u001B[1;32m    181\u001B[0m ) \u001B[38;5;241m-\u001B[39m\u001B[38;5;241m>\u001B[39m Any:\n\u001B[1;32m    182\u001B[0m     \u001B[38;5;124;03m\"\"\"Read an element from an on disk store.\"\"\"\u001B[39;00m\n\u001B[0;32m--> 183\u001B[0m     \u001B[38;5;28;01mreturn\u001B[39;00m \u001B[43m_REGISTRY\u001B[49m\u001B[38;5;241;43m.\u001B[39;49m\u001B[43mget_reader\u001B[49m\u001B[43m(\u001B[49m\u001B[38;5;28;43mtype\u001B[39;49m\u001B[43m(\u001B[49m\u001B[43melem\u001B[49m\u001B[43m)\u001B[49m\u001B[43m,\u001B[49m\u001B[43m \u001B[49m\u001B[43mget_spec\u001B[49m\u001B[43m(\u001B[49m\u001B[43melem\u001B[49m\u001B[43m)\u001B[49m\u001B[43m,\u001B[49m\u001B[43m \u001B[49m\u001B[38;5;28;43mfrozenset\u001B[39;49m\u001B[43m(\u001B[49m\u001B[43mmodifiers\u001B[49m\u001B[43m)\u001B[49m\u001B[43m)\u001B[49m\u001B[43m(\u001B[49m\u001B[43melem\u001B[49m\u001B[43m)\u001B[49m\n",
      "File \u001B[0;32m~/anaconda3/envs/NovoSpaRc/lib/python3.9/site-packages/anndata/_io/specs/methods.py:94\u001B[0m, in \u001B[0;36mread_basic\u001B[0;34m(elem)\u001B[0m\n\u001B[1;32m     92\u001B[0m     \u001B[38;5;28;01mreturn\u001B[39;00m {k: read_elem(v) \u001B[38;5;28;01mfor\u001B[39;00m k, v \u001B[38;5;129;01min\u001B[39;00m elem\u001B[38;5;241m.\u001B[39mitems()}\n\u001B[1;32m     93\u001B[0m \u001B[38;5;28;01melif\u001B[39;00m \u001B[38;5;28misinstance\u001B[39m(elem, h5py\u001B[38;5;241m.\u001B[39mDataset):\n\u001B[0;32m---> 94\u001B[0m     \u001B[38;5;28;01mreturn\u001B[39;00m \u001B[43mh5ad\u001B[49m\u001B[38;5;241;43m.\u001B[39;49m\u001B[43mread_dataset\u001B[49m\u001B[43m(\u001B[49m\u001B[43melem\u001B[49m\u001B[43m)\u001B[49m\n",
      "File \u001B[0;32m~/anaconda3/envs/NovoSpaRc/lib/python3.9/site-packages/anndata/_io/utils.py:182\u001B[0m, in \u001B[0;36mreport_read_key_on_error.<locals>.func_wrapper\u001B[0;34m(elem, *args, **kwargs)\u001B[0m\n\u001B[1;32m    179\u001B[0m \u001B[38;5;129m@wraps\u001B[39m(func)\n\u001B[1;32m    180\u001B[0m \u001B[38;5;28;01mdef\u001B[39;00m \u001B[38;5;21mfunc_wrapper\u001B[39m(elem, \u001B[38;5;241m*\u001B[39margs, \u001B[38;5;241m*\u001B[39m\u001B[38;5;241m*\u001B[39mkwargs):\n\u001B[1;32m    181\u001B[0m     \u001B[38;5;28;01mtry\u001B[39;00m:\n\u001B[0;32m--> 182\u001B[0m         \u001B[38;5;28;01mreturn\u001B[39;00m \u001B[43mfunc\u001B[49m\u001B[43m(\u001B[49m\u001B[43melem\u001B[49m\u001B[43m,\u001B[49m\u001B[43m \u001B[49m\u001B[38;5;241;43m*\u001B[39;49m\u001B[43margs\u001B[49m\u001B[43m,\u001B[49m\u001B[43m \u001B[49m\u001B[38;5;241;43m*\u001B[39;49m\u001B[38;5;241;43m*\u001B[39;49m\u001B[43mkwargs\u001B[49m\u001B[43m)\u001B[49m\n\u001B[1;32m    183\u001B[0m     \u001B[38;5;28;01mexcept\u001B[39;00m \u001B[38;5;167;01mException\u001B[39;00m \u001B[38;5;28;01mas\u001B[39;00m e:\n\u001B[1;32m    184\u001B[0m         \u001B[38;5;28;01mif\u001B[39;00m \u001B[38;5;28misinstance\u001B[39m(e, AnnDataReadError):\n",
      "File \u001B[0;32m~/anaconda3/envs/NovoSpaRc/lib/python3.9/site-packages/anndata/_io/h5ad.py:310\u001B[0m, in \u001B[0;36mread_dataset\u001B[0;34m(dataset)\u001B[0m\n\u001B[1;32m    308\u001B[0m     \u001B[38;5;28;01mif\u001B[39;00m (string_dtype \u001B[38;5;129;01mis\u001B[39;00m \u001B[38;5;129;01mnot\u001B[39;00m \u001B[38;5;28;01mNone\u001B[39;00m) \u001B[38;5;129;01mand\u001B[39;00m (string_dtype\u001B[38;5;241m.\u001B[39mencoding \u001B[38;5;241m==\u001B[39m \u001B[38;5;124m\"\u001B[39m\u001B[38;5;124mutf-8\u001B[39m\u001B[38;5;124m\"\u001B[39m):\n\u001B[1;32m    309\u001B[0m         dataset \u001B[38;5;241m=\u001B[39m dataset\u001B[38;5;241m.\u001B[39masstr()\n\u001B[0;32m--> 310\u001B[0m value \u001B[38;5;241m=\u001B[39m \u001B[43mdataset\u001B[49m\u001B[43m[\u001B[49m\u001B[43m(\u001B[49m\u001B[43m)\u001B[49m\u001B[43m]\u001B[49m\n\u001B[1;32m    311\u001B[0m \u001B[38;5;28;01mif\u001B[39;00m \u001B[38;5;129;01mnot\u001B[39;00m \u001B[38;5;28mhasattr\u001B[39m(value, \u001B[38;5;124m\"\u001B[39m\u001B[38;5;124mdtype\u001B[39m\u001B[38;5;124m\"\u001B[39m):\n\u001B[1;32m    312\u001B[0m     \u001B[38;5;28;01mreturn\u001B[39;00m value\n",
      "File \u001B[0;32mh5py/_objects.pyx:54\u001B[0m, in \u001B[0;36mh5py._objects.with_phil.wrapper\u001B[0;34m()\u001B[0m\n",
      "File \u001B[0;32mh5py/_objects.pyx:55\u001B[0m, in \u001B[0;36mh5py._objects.with_phil.wrapper\u001B[0;34m()\u001B[0m\n",
      "File \u001B[0;32m~/anaconda3/envs/NovoSpaRc/lib/python3.9/site-packages/h5py/_hl/dataset.py:710\u001B[0m, in \u001B[0;36mDataset.__getitem__\u001B[0;34m(self, args, new_dtype)\u001B[0m\n\u001B[1;32m    708\u001B[0m \u001B[38;5;28;01mif\u001B[39;00m \u001B[38;5;28mself\u001B[39m\u001B[38;5;241m.\u001B[39m_fast_read_ok \u001B[38;5;129;01mand\u001B[39;00m (new_dtype \u001B[38;5;129;01mis\u001B[39;00m \u001B[38;5;28;01mNone\u001B[39;00m):\n\u001B[1;32m    709\u001B[0m     \u001B[38;5;28;01mtry\u001B[39;00m:\n\u001B[0;32m--> 710\u001B[0m         \u001B[38;5;28;01mreturn\u001B[39;00m \u001B[38;5;28;43mself\u001B[39;49m\u001B[38;5;241;43m.\u001B[39;49m\u001B[43m_fast_reader\u001B[49m\u001B[38;5;241;43m.\u001B[39;49m\u001B[43mread\u001B[49m\u001B[43m(\u001B[49m\u001B[43margs\u001B[49m\u001B[43m)\u001B[49m\n\u001B[1;32m    711\u001B[0m     \u001B[38;5;28;01mexcept\u001B[39;00m \u001B[38;5;167;01mTypeError\u001B[39;00m:\n\u001B[1;32m    712\u001B[0m         \u001B[38;5;28;01mpass\u001B[39;00m  \u001B[38;5;66;03m# Fall back to Python read pathway below\u001B[39;00m\n",
      "\u001B[0;31mKeyboardInterrupt\u001B[0m: "
     ]
    }
   ],
   "source": [
    "%%time\n",
    "\n",
    "sn_file = os.path.join(data_dir,\"snRNA_TNBC_integreted.h5ad\")\n",
    "adata_sn = sc.read_h5ad(sn_file) # this is ~10GB RAM\n",
    "print(adata_sn)\n",
    "\n",
    "# uns[\"neighbors\"] ="
   ],
   "metadata": {
    "collapsed": false,
    "pycharm": {
     "name": "#%%\n"
    }
   }
  },
  {
   "cell_type": "code",
   "execution_count": 17,
   "outputs": [],
   "source": [
    "# adata_reduced = copy.deepcopy(adata_sn)"
   ],
   "metadata": {
    "collapsed": false,
    "pycharm": {
     "name": "#%%\n"
    }
   }
  },
  {
   "cell_type": "code",
   "execution_count": 18,
   "outputs": [],
   "source": [
    "unneccessary = ['Bach.id', 'Bach.Avd', 'Bach.BCells', 'Bach.Bsl1', 'Bach.Bsl2', 'Bach.BslG', 'Bach.Cafs', 'Bach.CD41', 'Bach.CD42', 'Bach.CD81', 'Bach.CD82', 'Bach.CD83', 'Bach.cDC1', 'Bach.cDC2', 'Bach.CTLs', 'Bach.CyclingT', 'Bach.Ec1', 'Bach.Ec2', 'Bach.Ec3', 'Bach.Ec4', 'Bach.Fb1', 'Bach.Fb2', 'Bach.Fb3', 'Bach.Fb4', 'Bach.Fb5', 'Bach.Fb6', 'Bach.Fb7', 'Bach.Fb8', 'Bach.Fb9', 'Bach.Hs', 'Bach.Hsp', 'Bach.ILCs', 'Bach.Lp', 'Bach.LpBsl', 'Bach.MastCells', 'Bach.MdC1', 'Bach.MdC2', 'Bach.MdC3', 'Bach.migDC', 'Bach.Mo1', 'Bach.Mo2', 'Bach.Mo3', 'Bach.Neutrophils', 'Bach.NK', 'Bach.pDC', 'Bach.Pericytes1', 'Bach.Pericytes2', 'Bach.PlasmaCells', 'Bach.Swc', 'Bach.Tam1', 'Bach.Tam2', 'Bach.Tm', 'Bach.Tregs', 'Bach.max','Bach.luminal.epithelial.cell.of.mammary.gland', 'Bach.B.cell', 'Bach.stromal.cell', 'Bach.T.cell', 'Bach.endothelial.cell', 'Bach.basal.cell', 'Bach.macrophage', 'integrated_snn_res.0.8', 'Seurat_clusters_integrated.08','integrated_snn_res.2.5', 'integrated_snn_res.3', 'integrated_snn_res.4','integrated_snn_res.0.9', 'Seurat_clusters_integrated.1', 'integrated_snn_res.1', 'integrated_snn_res.2', 'Seurat_clusters_integrated.2', 'integrated_snn_res.0.4', 'Seurat_clusters_integrated.04', 'integrated_snn_res.0.2']"
   ],
   "metadata": {
    "collapsed": false,
    "pycharm": {
     "name": "#%%\n"
    }
   }
  },
  {
   "cell_type": "markdown",
   "source": [],
   "metadata": {
    "collapsed": false,
    "pycharm": {
     "name": "#%% md\n"
    }
   }
  },
  {
   "cell_type": "code",
   "execution_count": 19,
   "outputs": [],
   "source": [
    "for element in unneccessary:\n",
    "    del adata_sn.obs[element]"
   ],
   "metadata": {
    "collapsed": false,
    "pycharm": {
     "name": "#%%\n"
    }
   }
  },
  {
   "cell_type": "code",
   "execution_count": 20,
   "outputs": [
    {
     "data": {
      "text/plain": "AnnData object with n_obs × n_vars = 26978 × 3000\n    obs: 'orig.ident', 'nCount_RNA', 'nFeature_RNA', 'nCount_SCT', 'nFeature_SCT', 'percent_MT', 'SCT_snn_res.0.8', 'Seurat_clusters_individual', 'S.Score', 'G2M.Score', 'Phase', 'doublet_score', 'doublet_assignment', 'annotated_idents', 'condition', 'annotated_Cellcompartments', 'annotated_Celltypes', 'annotated_Cellcompartments2', 'seurat_clusters', 'annotated_CelltypesState.res.2', 'annotated_compartment.res.2', 'annotated_compartmentCellType.res.2', 'celltype_res2.condition', 'celltype_res2', 'annotated_compartmentCellType2.res.2', 'Reannotation_detailed', 'Reannotation_global', 'celltype.condition', 'ConditionGlobal'\n    var: 'features', 'SCT_features'\n    uns: 'neighbors'\n    obsm: 'X_pca', 'X_umap'\n    varm: 'PCs'\n    layers: 'SCT'\n    obsp: 'distances'"
     },
     "execution_count": 20,
     "metadata": {},
     "output_type": "execute_result"
    }
   ],
   "source": [
    "adata_sn"
   ],
   "metadata": {
    "collapsed": false,
    "pycharm": {
     "name": "#%%\n"
    }
   }
  },
  {
   "cell_type": "code",
   "execution_count": 21,
   "outputs": [
    {
     "data": {
      "text/plain": "Csmd1              Csmd1\nGhr                  Ghr\nPcdh15            Pcdh15\nOpcml              Opcml\nCadm2              Cadm2\n                 ...    \nHas1                Has1\nIghv5-17        Ighv5-17\nLrrc66            Lrrc66\nZpbp2              Zpbp2\nRapgef4os3    Rapgef4os3\nName: features, Length: 3000, dtype: object"
     },
     "execution_count": 21,
     "metadata": {},
     "output_type": "execute_result"
    }
   ],
   "source": [
    "adata_sn.var[\"features\"]"
   ],
   "metadata": {
    "collapsed": false,
    "pycharm": {
     "name": "#%%\n"
    }
   }
  },
  {
   "cell_type": "code",
   "execution_count": 26,
   "outputs": [],
   "source": [
    "# outfile = 'output/TNBC_sn_reduced.h5ad'\n",
    "# # there seems to be some naming issue coming from seurat, found this hack at: https://github.com/theislab/scvelo/issues/255\n",
    "# adata_reduced.__dict__['_raw'].__dict__['_var'] = adata_reduced.__dict__['_raw'].__dict__['_var'].rename(columns={'_index': 'features'})\n",
    "# adata_reduced.write(outfile)"
   ],
   "metadata": {
    "collapsed": false,
    "pycharm": {
     "name": "#%%\n"
    }
   }
  },
  {
   "cell_type": "markdown",
   "source": [
    "# Extract single parts for reconstruction\n",
    "## DGE"
   ],
   "metadata": {
    "collapsed": false,
    "pycharm": {
     "name": "#%% md\n"
    }
   }
  },
  {
   "cell_type": "code",
   "execution_count": null,
   "outputs": [],
   "source": [
    "# %%time\n",
    "# data_dir = 'output'\n",
    "# sn_file_reduced = os.path.join(data_dir,\"TNBC_sn_RedAnnotation.h5ad\")\n",
    "# adata_reduced = sc.read_h5ad(sn_file_reduced) # this is ~10GB RAM\n",
    "# print(adata_reduced)"
   ],
   "metadata": {
    "collapsed": false,
    "pycharm": {
     "name": "#%%\n"
    }
   }
  },
  {
   "cell_type": "code",
   "execution_count": null,
   "outputs": [],
   "source": [
    "adata_sn.obs[\"celltype.condition\"]"
   ],
   "metadata": {
    "collapsed": false,
    "pycharm": {
     "name": "#%%\n"
    }
   }
  },
  {
   "cell_type": "code",
   "execution_count": null,
   "outputs": [],
   "source": [
    "adata_sn.T.to_df().to_csv('output/TNBC_sn_integrated_dge.csv')\n",
    "adata_sn.T.to_df().shape  # 3000 genes, 26978 locations"
   ],
   "metadata": {
    "collapsed": false,
    "pycharm": {
     "name": "#%%\n"
    }
   }
  },
  {
   "cell_type": "markdown",
   "source": [
    "## Metadata\n",
    "* 'Phase'\n",
    "* 'annotated_idents'\n",
    "* 'condition'\n",
    "* 'annotated_Cellcompartments'\n",
    "* 'annotated_Celltypes'"
   ],
   "metadata": {
    "collapsed": false,
    "pycharm": {
     "name": "#%% md\n"
    }
   }
  },
  {
   "cell_type": "markdown",
   "source": [],
   "metadata": {
    "collapsed": false,
    "pycharm": {
     "name": "#%% md\n"
    }
   }
  },
  {
   "cell_type": "code",
   "execution_count": null,
   "outputs": [],
   "source": [
    "meta_o_interest = ['Phase','annotated_idents','celltype.condition']\n",
    "\n",
    "# meta interest but it's only numbers\n",
    "meta_notUsable = ['annotated_Cellcompartments','annotated_Celltypes','Reannotation_global','Reannotation_detailed']"
   ],
   "metadata": {
    "collapsed": false,
    "pycharm": {
     "name": "#%%\n"
    }
   }
  },
  {
   "cell_type": "code",
   "execution_count": null,
   "outputs": [],
   "source": [
    "for annotation in meta_o_interest:\n",
    "    # create acceptable filename\n",
    "    if '.' in annotation:\n",
    "        suffix = annotation.replace(\".\",\"_\").lower()\n",
    "    else:\n",
    "        suffix = annotation.lower()\n",
    "\n",
    "    filename = f\"TNBC_meta_{suffix}.csv\"\n",
    "    outdir = \"output\"\n",
    "    filename = os.path.join(outdir,filename)\n",
    "    # save as csv\n",
    "    adata_sn.obs[annotation].to_csv(filename, index=False)"
   ],
   "metadata": {
    "collapsed": false,
    "pycharm": {
     "name": "#%%\n"
    }
   }
  },
  {
   "cell_type": "code",
   "execution_count": null,
   "outputs": [],
   "source": [],
   "metadata": {
    "collapsed": false,
    "pycharm": {
     "name": "#%%\n"
    }
   }
  },
  {
   "cell_type": "code",
   "execution_count": 15,
   "outputs": [
    {
     "data": {
      "text/plain": "AAACCCAAGCTTCATG-1_1    20\nAAACCCAAGCTTGTGT-1_1     4\nAAACCCAAGGCTTTCA-1_1    22\nAAACCCACAACAACAA-1_1    35\nAAACCCACAATACGCT-1_1    23\n                        ..\nTTTGTTGAGCAGGCTA-1_3     9\nTTTGTTGAGGTCGACA-1_3    20\nTTTGTTGAGTGTAGTA-1_3     1\nTTTGTTGCAGAACTAA-1_3    13\nTTTGTTGGTCTCGACG-1_3     3\nName: seurat_clusters, Length: 26978, dtype: int32"
     },
     "execution_count": 15,
     "metadata": {},
     "output_type": "execute_result"
    }
   ],
   "source": [],
   "metadata": {
    "collapsed": false,
    "pycharm": {
     "name": "#%%\n"
    }
   }
  },
  {
   "cell_type": "code",
   "execution_count": null,
   "outputs": [],
   "source": [],
   "metadata": {
    "collapsed": false,
    "pycharm": {
     "name": "#%%\n"
    }
   }
  }
 ],
 "metadata": {
  "kernelspec": {
   "display_name": "Python 3",
   "language": "python",
   "name": "python3"
  },
  "language_info": {
   "codemirror_mode": {
    "name": "ipython",
    "version": 2
   },
   "file_extension": ".py",
   "mimetype": "text/x-python",
   "name": "python",
   "nbconvert_exporter": "python",
   "pygments_lexer": "ipython2",
   "version": "2.7.6"
  }
 },
 "nbformat": 4,
 "nbformat_minor": 0
}