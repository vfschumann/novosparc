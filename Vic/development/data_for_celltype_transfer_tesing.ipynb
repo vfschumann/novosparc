{
 "cells": [
  {
   "cell_type": "code",
   "execution_count": null,
   "outputs": [],
   "source": [
    "import scanpy as sc\n",
    "import anndata as ad\n",
    "import squidpy as sq\n",
    "\n",
    "import numpy as np\n",
    "import pandas as pd\n",
    "\n",
    "import sklearn"
   ],
   "metadata": {
    "collapsed": false,
    "pycharm": {
     "name": "#%%\n"
    }
   }
  },
  {
   "cell_type": "code",
   "execution_count": null,
   "outputs": [],
   "source": [
    "sc.logging.print_versions()\n",
    "sc.set_figure_params(facecolor=\"white\", figsize=(8, 8))\n",
    "sc.settings.verbosity = 3"
   ],
   "metadata": {
    "collapsed": false,
    "pycharm": {
     "name": "#%%\n"
    }
   }
  },
  {
   "cell_type": "markdown",
   "source": [
    "I use the mouse brain data set used in [this squidpy tutorial](https://squidpy.readthedocs.io/en/stable/auto_tutorials/tutorial_visium_hne.html#sphx-glr-auto-tutorials-tutorial-visium-hne-py).\n",
    "\n",
    "I combine this with the [scanpy tutorial for visium data](https://scanpy-tutorials.readthedocs.io/en/latest/spatial/basic-analysis.html)"
   ],
   "metadata": {
    "collapsed": false,
    "pycharm": {
     "name": "#%% md\n"
    }
   }
  },
  {
   "cell_type": "code",
   "execution_count": null,
   "outputs": [],
   "source": [
    "# load the pre-processed dataset\n",
    "img = sq.datasets.visium_hne_image()\n",
    "adata = sq.datasets.visium_hne_adata()\n",
    "\n",
    "# Do that using it from a ramdisk for better processing\n",
    "# Load on ramdisk with:\n",
    "# 1. mount ramdisk\n",
    "# 2. sudo cp Vic/development/data/Mouse_Brain_squidpy_tutorial.h5ad /mnt/ramdisk/\n",
    "# 3. sudo cp Vic/development/data/V1_Adult_Mouse_Brain_image.tif /mnt/ramdisk\n",
    "\n",
    "# img = sq.im.ImageContainer.load(\"/mnt/ramdisk/V1_Adult_Mouse_Brain_image.tif\")\n",
    "# adata = sc.read_h5ad(\"/mnt/ramdisk/Mouse_Brain_squidpy_tutorial.h5ad\")"
   ],
   "metadata": {
    "collapsed": false,
    "pycharm": {
     "name": "#%%\n"
    }
   }
  },
  {
   "cell_type": "code",
   "execution_count": null,
   "outputs": [],
   "source": [],
   "metadata": {
    "collapsed": false,
    "pycharm": {
     "name": "#%%\n"
    }
   }
  },
  {
   "cell_type": "code",
   "execution_count": null,
   "outputs": [],
   "source": [
    "adata.var_names_make_unique()\n",
    "adata.var[\"mt\"] = adata.var_names.str.startswith(\"MT-\")\n",
    "sc.pp.calculate_qc_metrics(adata, qc_vars=[\"mt\"], inplace=True)\n",
    "\n",
    "# normalize expression data\n",
    "sc.pp.normalize_total(adata)\n",
    "sc.pp.log1p(adata)\n",
    "sc.pp.highly_variable_genes(adata, min_mean=0.0125, max_mean=3, min_disp=0.5)"
   ],
   "metadata": {
    "collapsed": false,
    "pycharm": {
     "name": "#%%\n"
    }
   }
  },
  {
   "cell_type": "code",
   "execution_count": null,
   "outputs": [],
   "source": [
    "# skipping the QC and preprocessing step bc. I think this stuff should be filtered/preprocessed already"
   ],
   "metadata": {
    "collapsed": false,
    "pycharm": {
     "name": "#%%\n"
    }
   }
  },
  {
   "cell_type": "markdown",
   "source": [
    "## Image features\n",
    "Here, we will extract summary features at different crop sizes and scales to allow the calculation of multi-scale features and segmentation features.  (squidpy)"
   ],
   "metadata": {
    "collapsed": false,
    "pycharm": {
     "name": "#%% md\n"
    }
   }
  },
  {
   "cell_type": "code",
   "execution_count": null,
   "outputs": [],
   "source": [
    "# calculate features for different scales (higher value means more context)\n",
    "for scale in [1.0, 2.0]:\n",
    "    feature_name = f\"features_summary_scale{scale}\"\n",
    "    sq.im.calculate_image_features(\n",
    "        adata,\n",
    "        img.compute(),\n",
    "        features=\"summary\",\n",
    "        key_added=feature_name,\n",
    "        n_jobs=4,\n",
    "        scale=scale,\n",
    "    )\n",
    "\n",
    "\n",
    "# combine features in one dataframe\n",
    "adata.obsm[\"features\"] = pd.concat(\n",
    "    [adata.obsm[f] for f in adata.obsm.keys() if \"features_summary\" in f], axis=\"columns\"\n",
    ")\n",
    "# make sure that we have no duplicated feature names in the combined table\n",
    "adata.obsm[\"features\"].columns = ad.utils.make_index_unique(adata.obsm[\"features\"].columns)"
   ],
   "metadata": {
    "collapsed": false,
    "pycharm": {
     "name": "#%%\n"
    }
   }
  },
  {
   "cell_type": "markdown",
   "source": [
    "We can use the extracted image features to compute a new cluster annotation. This could be useful to gain insights in similarities across spots based on image morphology."
   ],
   "metadata": {
    "collapsed": false,
    "pycharm": {
     "name": "#%% md\n"
    }
   }
  },
  {
   "cell_type": "code",
   "execution_count": null,
   "outputs": [],
   "source": [
    "# helper function returning a clustering\n",
    "def cluster_features(features: pd.DataFrame, like=None) -> pd.Series:\n",
    "    \"\"\"\n",
    "    Calculate leiden clustering of features.\n",
    "\n",
    "    Specify filter of features using `like`.\n",
    "    \"\"\"\n",
    "    # filter features\n",
    "    if like is not None:\n",
    "        features = features.filter(like=like)\n",
    "    # create temporary adata to calculate the clustering\n",
    "    adata = ad.AnnData(features)\n",
    "    # important - feature values are not scaled, so need to scale them before PCA\n",
    "    sc.pp.scale(adata)\n",
    "    # calculate leiden clustering\n",
    "    sc.pp.pca(adata, n_comps=min(10, features.shape[1] - 1))\n",
    "    sc.pp.neighbors(adata)\n",
    "    sc.tl.leiden(adata)\n",
    "\n",
    "    return adata.obs[\"leiden\"]\n",
    "\n",
    "\n",
    "# calculate feature clusters\n",
    "adata.obs[\"features_cluster\"] = cluster_features(adata.obsm[\"features\"], like=\"summary\")\n",
    "\n",
    "# compare feature and gene clusters\n",
    "sc.set_figure_params(facecolor=\"white\", figsize=(8, 8))\n",
    "sc.pl.spatial(adata, color=[\"features_cluster\", \"cluster\"])"
   ],
   "metadata": {
    "collapsed": false,
    "pycharm": {
     "name": "#%%\n"
    }
   }
  },
  {
   "cell_type": "markdown",
   "source": [
    "## Extract locations.txt and dge.txt from the anndata object"
   ],
   "metadata": {
    "collapsed": false,
    "pycharm": {
     "name": "#%% md\n"
    }
   }
  },
  {
   "cell_type": "code",
   "execution_count": null,
   "outputs": [],
   "source": [],
   "metadata": {
    "collapsed": false,
    "pycharm": {
     "name": "#%%\n"
    }
   }
  },
  {
   "cell_type": "code",
   "execution_count": null,
   "outputs": [],
   "source": [
    "coord = adata.obsm['spatial']"
   ],
   "metadata": {
    "collapsed": false,
    "pycharm": {
     "name": "#%%\n"
    }
   }
  },
  {
   "cell_type": "code",
   "execution_count": null,
   "outputs": [],
   "source": [
    "coord_df = pd.DataFrame(data=coord, columns=['xcoord','ycoord'])\\\n",
    "# coord_df.to_csv('data/10x_MouseBrain_coordinates.csv', index=False)"
   ],
   "metadata": {
    "collapsed": false,
    "pycharm": {
     "name": "#%%\n"
    }
   }
  },
  {
   "cell_type": "code",
   "execution_count": null,
   "outputs": [],
   "source": [
    "coord_df[:4]"
   ],
   "metadata": {
    "collapsed": false,
    "pycharm": {
     "name": "#%%\n"
    }
   }
  },
  {
   "cell_type": "code",
   "execution_count": null,
   "outputs": [],
   "source": [
    "# adata.T.to_df().to_csv('data/10x_MouseBrain_dge.csv') # that's the whole sc data that we need for reconstruction"
   ],
   "metadata": {
    "collapsed": false,
    "pycharm": {
     "name": "#%%\n"
    }
   }
  },
  {
   "cell_type": "code",
   "execution_count": null,
   "outputs": [],
   "source": [
    "# ToDo for getting the marker genes ~100 - get highly-variable genes and take the top 100 or smth"
   ],
   "metadata": {
    "collapsed": false,
    "pycharm": {
     "name": "#%%\n"
    }
   }
  },
  {
   "cell_type": "code",
   "execution_count": null,
   "outputs": [],
   "source": [
    "high_var_index = adata.var[adata.var['highly_variable'] == True].index\n",
    "print(high_var_index[:2])"
   ],
   "metadata": {
    "collapsed": false,
    "pycharm": {
     "name": "#%%\n"
    }
   }
  },
  {
   "cell_type": "code",
   "execution_count": null,
   "outputs": [],
   "source": [
    "atlas_genes_indexes = []\n",
    "for gene in high_var_index[:10]:\n",
    "    atlas_genes_indexes.append(adata.var_names.get_loc(gene))\n",
    "atlas_genes_indexes"
   ],
   "metadata": {
    "collapsed": false,
    "pycharm": {
     "name": "#%%\n"
    }
   }
  },
  {
   "cell_type": "code",
   "execution_count": null,
   "outputs": [],
   "source": [
    "data_to_write = pd.DataFrame(adata.X[:,atlas_genes_indexes].toarray(),columns=high_var_index[:10])\n",
    "# data_to_write.to_csv(\"data/tmp.txt\", index_label=False)"
   ],
   "metadata": {
    "collapsed": false,
    "pycharm": {
     "name": "#%%\n"
    }
   }
  },
  {
   "cell_type": "code",
   "execution_count": null,
   "outputs": [],
   "source": [
    "adata[:,gene].X"
   ],
   "metadata": {
    "collapsed": false,
    "pycharm": {
     "name": "#%%\n"
    }
   }
  },
  {
   "cell_type": "markdown",
   "source": [
    "# Check randomnes/uniqueness of the marker gene locations\n",
    "\n",
    "In order to have a good atlas, the marker genes should not all be cluttered in one or few locations but should actually span the whole map - ideally.\n",
    "\n",
    "There are two ideas so far:\n",
    "\n",
    "* Nikos: sth simple like counting gene combos per spot should work e.g. spot1:gene1_gene3_gene4, spot2:gene1_gene2, spot3:gene4 etc, all three spots are unique here\n",
    "Comment me: although then I still don't know how distributed the spots are, no?\n",
    "* I think I would like to try some kind of randomness test on how much the points aka locaiton cooridantes are distributed accross the space - and maybe additionally how much of the space they cover. Maybe getting some kind of ratio value from this and using this as orientation\n",
    "* Some reading on the randomness stuff is [here](https://www.geeksforgeeks.org/runs-test-of-randomness-in-python/#:~:text=Runs%20test%20of%20randomness%20is,increasing%20values%20or%20decreasing%20values.)\n",
    "* also wikipedia, also ask Jakob :)\n",
    "\n",
    "Update:\n",
    "I talked to Jakob and the idea of:\n",
    "1. transform the location matrix into a heap\n",
    "2. collect the differences from any point to a marker-gene point\n",
    "3. calculate the deviation of the means\n",
    "4. aim for a set that has the lowest deviation possible\n",
    "\n",
    "New approach:\n",
    "using KD-trees - see [wiki](https://en.wikipedia.org/wiki/K-d_tree), [sklear](https://scikit-learn.org/stable/modules/generated/sklearn.neighbors.KDTree.html)\n",
    "\n",
    "Last edit:\n",
    "I realized that this simple approach of Nikos together with a sanity check of the location coverage is all I need. So I wrote it (see below).\n",
    "ToDo: make a function out of this that one could use as an extra sanity check of atlas quality"
   ],
   "metadata": {
    "collapsed": false,
    "pycharm": {
     "name": "#%% md\n"
    }
   }
  },
  {
   "cell_type": "markdown",
   "source": [
    "## Lazy method - even distribution by coverage - uniqueness by like nikos gene combos ?"
   ],
   "metadata": {
    "collapsed": false,
    "pycharm": {
     "name": "#%% md\n"
    }
   }
  },
  {
   "cell_type": "code",
   "execution_count": null,
   "outputs": [],
   "source": [
    "savepath = \"data/mouse_brain_test_atlas.txt\"\n",
    "\n",
    "# all highly variable genes from which I will subsample\n",
    "high_var_index = adata.var[adata.var['highly_variable'] == True].index\n",
    "\n",
    "# subsampling\n",
    "marker_subsample_names = high_var_index.to_frame().sample(100)\n",
    "# marker_subsample_names = adata.var_names.to_frame().sample(50)\n",
    "marker_subsample_idx = []\n",
    "for gene in marker_subsample_names[0] :\n",
    "    marker_subsample_idx.append(adata.var_names.get_loc(gene))\n",
    "marker_subsample = pd.DataFrame(adata.X[:, marker_subsample_idx].toarray(),\n",
    "                                columns=marker_subsample_names[0])\n",
    "\n",
    "# count sets\n",
    "loc_w_gene = 0\n",
    "loc_wo_gene = 0\n",
    "for idx,row in marker_subsample.iterrows():\n",
    "    if (row == 0).all():\n",
    "        loc_wo_gene += 1\n",
    "    else:\n",
    "        loc_w_gene += 1\n",
    "marker_cov = loc_w_gene/marker_subsample.shape[0]\n",
    "print('num loc w gene = {} \\n'\n",
    "      'num loc w/o gene = {}\\n'\n",
    "      'therefore gene marker cov = {}'.format(loc_w_gene, loc_wo_gene, marker_cov))\n",
    "\n",
    "# evaluate point uniqueness\n",
    "# 1. binarize marker_subsample\n",
    "marker_subsample_bin = marker_subsample.mask(marker_subsample > 0, 1 )\n",
    "# 2. vector of gene sets\n",
    "gene_sets_p_loc = []\n",
    "# 3. get gene set per location\n",
    "for idx, row in marker_subsample_bin.iterrows():\n",
    "    gene_sets_p_loc.append(\n",
    "        tuple(row.index[row.loc[:] == 1])\n",
    "    )\n",
    "# 4. count how many unique sets are in the list\n",
    "num_unique = len(set(gene_sets_p_loc))\n",
    "\n",
    "# 5. calculate ratio of covered locations that are unique\n",
    "unique_cov = num_unique/(marker_subsample.shape[0] - loc_wo_gene)\n",
    "print(\"%.1f %% of the marker-locations are unique.\" % unique_cov)\n",
    "\n",
    "# 6. write atlas to file\n",
    "if marker_cov == 1.0 and unique_cov == 1.0:\n",
    "    marker_subsample.to_csv(savepath, index_label=False)\n",
    "else:\n",
    "    print(\"you should resample before saving this\")"
   ],
   "metadata": {
    "collapsed": false,
    "pycharm": {
     "name": "#%%\n"
    }
   }
  },
  {
   "cell_type": "code",
   "execution_count": null,
   "outputs": [],
   "source": [],
   "metadata": {
    "collapsed": false,
    "pycharm": {
     "name": "#%%\n"
    }
   }
  },
  {
   "cell_type": "code",
   "execution_count": null,
   "outputs": [],
   "source": [],
   "metadata": {
    "collapsed": false,
    "pycharm": {
     "name": "#%%\n"
    }
   }
  },
  {
   "cell_type": "code",
   "execution_count": null,
   "outputs": [],
   "source": [],
   "metadata": {
    "collapsed": false,
    "pycharm": {
     "name": "#%%\n"
    }
   }
  },
  {
   "cell_type": "code",
   "execution_count": null,
   "outputs": [],
   "source": [],
   "metadata": {
    "collapsed": false,
    "pycharm": {
     "name": "#%%\n"
    }
   }
  },
  {
   "cell_type": "code",
   "execution_count": null,
   "outputs": [],
   "source": [],
   "metadata": {
    "collapsed": false,
    "pycharm": {
     "name": "#%%\n"
    }
   }
  },
  {
   "cell_type": "code",
   "execution_count": null,
   "outputs": [],
   "source": [],
   "metadata": {
    "collapsed": false,
    "pycharm": {
     "name": "#%%\n"
    }
   }
  },
  {
   "cell_type": "code",
   "execution_count": null,
   "outputs": [],
   "source": [],
   "metadata": {
    "collapsed": false,
    "pycharm": {
     "name": "#%%\n"
    }
   }
  },
  {
   "cell_type": "code",
   "execution_count": null,
   "outputs": [],
   "source": [],
   "metadata": {
    "collapsed": false,
    "pycharm": {
     "name": "#%%\n"
    }
   }
  },
  {
   "cell_type": "code",
   "execution_count": 113,
   "outputs": [
    {
     "data": {
      "text/plain": "[1, 10, 11, 16, 17, 21, 30, 32, 38, 44]"
     },
     "execution_count": 113,
     "metadata": {},
     "output_type": "execute_result"
    }
   ],
   "source": [
    "atlas_genes_indexes = []\n",
    "for gene in high_var_index[:10]:\n",
    "    atlas_genes_indexes.append(adata.var_names.get_loc(gene))\n",
    "atlas_genes_indexes"
   ],
   "metadata": {
    "collapsed": false,
    "pycharm": {
     "name": "#%%\n"
    }
   }
  },
  {
   "cell_type": "code",
   "execution_count": 119,
   "outputs": [],
   "source": [
    "data_to_write = pd.DataFrame(adata.X[:,atlas_genes_indexes].toarray(),columns=high_var_index[:10])\n",
    "data_to_write.to_csv(\"data/tmp.txt\", index_label=False)"
   ],
   "metadata": {
    "collapsed": false,
    "pycharm": {
     "name": "#%%\n"
    }
   }
  },
  {
   "cell_type": "code",
   "execution_count": 102,
   "outputs": [
    {
     "data": {
      "text/plain": "<2688x1 sparse matrix of type '<class 'numpy.float32'>'\n\twith 298 stored elements in Compressed Sparse Row format>"
     },
     "execution_count": 102,
     "metadata": {},
     "output_type": "execute_result"
    }
   ],
   "source": [
    "adata[:,gene].X"
   ],
   "metadata": {
    "collapsed": false,
    "pycharm": {
     "name": "#%%\n"
    }
   }
  },
  {
   "cell_type": "markdown",
   "source": [
    "# Check randomnes/uniqueness of the marker gene locations\n",
    "\n",
    "In order to have a good atlas, the marker genes should not all be cluttered in one or few locations but should actually span the whole map - ideally.\n",
    "\n",
    "There are two ideas so far:\n",
    "\n",
    "* Nikos: sth simple like counting gene combos per spot should work e.g. spot1:gene1_gene3_gene4, spot2:gene1_gene2, spot3:gene4 etc, all three spots are unique here\n",
    "Comment me: although then I still don't know how distributed the spots are, no?\n",
    "* I think I would like to try some kind of randomness test on how much the points aka locaiton cooridantes are distributed accross the space - and maybe additionally how much of the space they cover. Maybe getting some kind of ratio value from this and using this as orientation\n",
    "* Some reading on the randomness stuff is [here](https://www.geeksforgeeks.org/runs-test-of-randomness-in-python/#:~:text=Runs%20test%20of%20randomness%20is,increasing%20values%20or%20decreasing%20values.)\n",
    "* also wikipedia, also ask Jakob :)"
   ],
   "metadata": {
    "collapsed": false,
    "pycharm": {
     "name": "#%% md\n"
    }
   }
  },
  {
   "cell_type": "code",
   "execution_count": 119,
   "outputs": [],
   "source": [],
   "metadata": {
    "collapsed": false,
    "pycharm": {
     "name": "#%%\n"
    }
   }
  },
  {
   "cell_type": "code",
   "execution_count": 119,
   "outputs": [],
   "source": [],
   "metadata": {
    "collapsed": false,
    "pycharm": {
     "name": "#%%\n"
    }
   }
  },
  {
   "cell_type": "code",
   "execution_count": 119,
   "outputs": [],
   "source": [],
   "metadata": {
    "collapsed": false,
    "pycharm": {
     "name": "#%%\n"
    }
   }
  },
  {
   "cell_type": "code",
   "execution_count": 119,
   "outputs": [],
   "source": [],
   "metadata": {
    "collapsed": false,
    "pycharm": {
     "name": "#%%\n"
    }
   }
  },
  {
   "cell_type": "code",
   "execution_count": 119,
   "outputs": [],
   "source": [],
   "metadata": {
    "collapsed": false,
    "pycharm": {
     "name": "#%%\n"
    }
   }
  },
  {
   "cell_type": "code",
   "execution_count": 119,
   "outputs": [],
   "source": [],
   "metadata": {
    "collapsed": false,
    "pycharm": {
     "name": "#%%\n"
    }
   }
  },
  {
   "cell_type": "code",
   "execution_count": 119,
   "outputs": [],
   "source": [],
   "metadata": {
    "collapsed": false,
    "pycharm": {
     "name": "#%%\n"
    }
   }
  },
  {
   "cell_type": "code",
   "execution_count": 119,
   "outputs": [],
   "source": [],
   "metadata": {
    "collapsed": false,
    "pycharm": {
     "name": "#%%\n"
    }
   }
  },
  {
   "cell_type": "code",
   "execution_count": 119,
   "outputs": [],
   "source": [],
   "metadata": {
    "collapsed": false,
    "pycharm": {
     "name": "#%%\n"
    }
   }
  },
  {
   "cell_type": "code",
   "execution_count": 119,
   "outputs": [],
   "source": [],
   "metadata": {
    "collapsed": false,
    "pycharm": {
     "name": "#%%\n"
    }
   }
  },
  {
   "cell_type": "code",
   "execution_count": 119,
   "outputs": [],
   "source": [],
   "metadata": {
    "collapsed": false,
    "pycharm": {
     "name": "#%%\n"
    }
   }
  },
  {
   "cell_type": "code",
   "execution_count": 119,
   "outputs": [],
   "source": [],
   "metadata": {
    "collapsed": false,
    "pycharm": {
     "name": "#%%\n"
    }
   }
  },
  {
   "cell_type": "code",
   "execution_count": 119,
   "outputs": [],
   "source": [],
   "metadata": {
    "collapsed": false,
    "pycharm": {
     "name": "#%%\n"
    }
   }
  },
  {
   "cell_type": "code",
   "execution_count": 119,
   "outputs": [],
   "source": [],
   "metadata": {
    "collapsed": false,
    "pycharm": {
     "name": "#%%\n"
    }
   }
  },
  {
   "cell_type": "code",
   "execution_count": 119,
   "outputs": [],
   "source": [],
   "metadata": {
    "collapsed": false,
    "pycharm": {
     "name": "#%%\n"
    }
   }
  },
  {
   "cell_type": "code",
   "execution_count": 119,
   "outputs": [],
   "source": [],
   "metadata": {
    "collapsed": false,
    "pycharm": {
     "name": "#%%\n"
    }
   }
  },
  {
   "cell_type": "code",
   "execution_count": null,
   "outputs": [],
   "source": [],
   "metadata": {
    "collapsed": false,
    "pycharm": {
     "name": "#%%\n"
    }
   }
  }
 ],
 "metadata": {
  "kernelspec": {
   "display_name": "Python 3",
   "language": "python",
   "name": "python3"
  },
  "language_info": {
   "codemirror_mode": {
    "name": "ipython",
    "version": 2
   },
   "file_extension": ".py",
   "mimetype": "text/x-python",
   "name": "python",
   "nbconvert_exporter": "python",
   "pygments_lexer": "ipython2",
   "version": "2.7.6"
  }
 },
 "nbformat": 4,
 "nbformat_minor": 0
}