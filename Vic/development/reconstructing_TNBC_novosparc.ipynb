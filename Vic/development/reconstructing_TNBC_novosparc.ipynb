{
 "cells": [
  {
   "cell_type": "markdown",
   "source": [
    "# Terminal commands for data access\n",
    "\n",
    "```\n",
    "autossh -AtX vschuma@ssh1.mdc-berlin.de ssh vschuma@murphy.mdc-berlin.net\n",
    "# open the ssh screen and/or type\n",
    "ssh -NR 6667:localhost:22 vfs@79.197.179.128 (current network ID)\n",
    "\n",
    "# mount\n",
    "sshfs -p 6667 vschuma@localhost:/data/local/rajewsky/home/vschuma /mnt/murphy_workspace/\n",
    "or\n",
    "sshfs vschuma@murphy:/data/local/rajewsky/home/vschuma/ ~/mounts/murphy_workspace/\n",
    "\n",
    "# if working with the mount is to slow, copy the data to a ramdisk\n",
    "sudo mount -t tmpfs -o size=6g tmpfs /mnt/ramdisk/\n",
    "\n",
    "# then copy the file to the ramdisk\n",
    "mkdir /mnt/ramdisk/data && rsync -av /mnt/murphy_workspace/NSTT/data/GarciaAlsono_uterus/hot_data/* /mnt/ramdisk/data\n",
    "or\n",
    "mkdir /dev/shm/data && rsync -av /home/vschuma/mounts/murphy_workspace/NSTT/data/GarciaAlsono_uterus/hot_data/* /dev/shm/data/\n",
    "# symlink inside the pycharm project to the data dir\n",
    "(example command)\n",
    "ln -s /mnt/ramdisk/data data\n",
    "e.g.: ln -s /mnt/murphy_workspace/NSTT/data/ data\n",
    "or\n",
    "ln -s /dev/shm/data/ data\n",
    "```"
   ],
   "metadata": {
    "collapsed": false,
    "pycharm": {
     "name": "#%% md\n"
    }
   }
  },
  {
   "cell_type": "code",
   "execution_count": 1,
   "outputs": [],
   "source": [
    "%matplotlib inline\n",
    "import anndata\n",
    "import novosparc\n",
    "import os\n",
    "import copy\n",
    "import numpy as np\n",
    "import pandas as pd\n",
    "import scanpy as sc\n",
    "import squidpy as sq\n",
    "import seaborn as sns\n",
    "from matplotlib.pyplot import figure\n",
    "import matplotlib.pyplot as plt\n",
    "\n",
    "import plotly.express as px\n",
    "import plotly.graph_objects as go"
   ],
   "metadata": {
    "collapsed": false,
    "pycharm": {
     "name": "#%%\n"
    }
   }
  },
  {
   "cell_type": "markdown",
   "source": [
    "# Data\n",
    "\n",
    "symlinked to `/data/local/rajewsky/home/vschuma/NSTT/outputs/LabelTransfer/TNBC`\n",
    "## TNBC in-house atlas"
   ],
   "metadata": {
    "collapsed": false,
    "pycharm": {
     "name": "#%% md\n"
    }
   }
  },
  {
   "cell_type": "code",
   "execution_count": 3,
   "outputs": [
    {
     "name": "stdout",
     "output_type": "stream",
     "text": [
      "600\n",
      "(55478, 600)\n",
      "(55478, 2)\n"
     ]
    },
    {
     "name": "stderr",
     "output_type": "stream",
     "text": [
      "/tmp/ipykernel_10401/4000318917.py:14: FutureWarning: X.dtype being converted to np.float32 from float64. In the next version of anndata (0.9) conversion will not be automatic. Pass dtype explicitly to avoid this warning. Pass `AnnData(X, dtype=X.dtype, ...)` to get the future behavour.\n",
      "  atlas = sc.AnnData(df)\n",
      "/home/vfs/anaconda3/envs/rajewskyLab/lib/python3.9/site-packages/anndata/_core/anndata.py:121: ImplicitModificationWarning: Transforming to str index.\n",
      "  warnings.warn(\"Transforming to str index.\", ImplicitModificationWarning)\n"
     ]
    }
   ],
   "source": [
    "# atlas coordinates\n",
    "#atlas_dir = 'output'\n",
    "atlas_dir = 'data'\n",
    "target_space_path = os.path.join(atlas_dir, 'TNBC_6w_fc51_4_coordinates.csv')\n",
    "locations = pd.read_csv(target_space_path, sep=',')\n",
    "num_locations = locations.shape[0] # coming from the spatial data #\n",
    "locations_apriori = locations[:num_locations][['xcoord', 'ycoord']].values\n",
    "locations = locations_apriori\n",
    "\n",
    "# atlas data\n",
    "atlas_path = os.path.join(atlas_dir, 'TNBC_reconstruction_atlas.csv')\n",
    "chunks = pd.read_csv(atlas_path, index_col=0, chunksize=1000000)\n",
    "df = pd.concat(chunks)\n",
    "atlas = sc.AnnData(df)\n",
    "atlas_genes = atlas.var.index.tolist()\n",
    "print(len(atlas_genes))\n",
    "print(atlas.shape)\n",
    "print(locations.shape)\n",
    "atlas.obsm['spatial'] = locations"
   ],
   "metadata": {
    "collapsed": false,
    "pycharm": {
     "name": "#%%\n"
    }
   }
  },
  {
   "cell_type": "markdown",
   "source": [
    "## TNBC single-nuclei data\n",
    "\n",
    "for preprocessing and information see `metadata_transfer_TNBC_sndata.ipynb`"
   ],
   "metadata": {
    "collapsed": false,
    "pycharm": {
     "name": "#%% md\n"
    }
   }
  },
  {
   "cell_type": "code",
   "execution_count": 5,
   "outputs": [
    {
     "name": "stdout",
     "output_type": "stream",
     "text": [
      "number of cells: 26978\n",
      "number of genes: 3000\n"
     ]
    }
   ],
   "source": [
    "# Reading expression data to scanpy AnnData (cells x genes)\n",
    "# data_dir = 'output'\n",
    "data_dir = 'data'\n",
    "data_path = os.path.join(data_dir, 'TNBC_sn_integrated_dge.csv')\n",
    "dataset = sc.read(data_path).T\n",
    "gene_names = dataset.var.index.tolist()\n",
    "num_cells, num_genes = dataset.shape\n",
    "print('number of cells total: %d' % num_cells)\n",
    "print('number of genes: %d' % num_genes)\n",
    "\n",
    "# use only a subset for testing\n",
    "num_cells = 100\n",
    "print('number of cells used: %d' % num_cells)"
   ],
   "metadata": {
    "collapsed": false,
    "pycharm": {
     "name": "#%%\n"
    }
   }
  },
  {
   "cell_type": "code",
   "execution_count": null,
   "outputs": [],
   "source": [
    "# only some genes\n",
    "pl_genes = ['Rbp1', 'Hsd17b2',]\n",
    "novosparc.pl.embedding(atlas, pl_genes,\n",
    "                       pt_size=0.1, size_x=7, size_y=4.5)\n",
    "                        # todo: this should throw an error when the pl_genes input format is wrong,\n",
    "                        # why are the dots not filled anymore?\n",
    "                        # there should be an info about the size unit\n",
    "                        # why does the size of the whole thing does not automatically get's adjusted when I change the x,y size?\n",
    "# all the genes\n",
    "# pl_genes = atlas.var.index.to_frame()\n",
    "# novosparc.pl.embedding(atlas, pl_genes.values.flatten().tolist())\n"
   ],
   "metadata": {
    "collapsed": false,
    "pycharm": {
     "name": "#%%\n"
    }
   }
  },
  {
   "cell_type": "markdown",
   "source": [
    "# Reconstruction\n",
    "## create tissue object"
   ],
   "metadata": {
    "collapsed": false,
    "pycharm": {
     "name": "#%% md\n"
    }
   }
  },
  {
   "cell_type": "code",
   "execution_count": null,
   "outputs": [],
   "source": [
    "# calculate cost matrix\n",
    "# params for smooth cost # only needed when/for the part where you don't use the atlas!\n",
    "num_neighbors_s = num_neighbors_t = 5\n",
    "\n",
    "# params for linear cost\n",
    "markers = list(set(atlas_genes).intersection(gene_names))\n",
    "atlas_matrix = atlas.to_df()[markers].values\n",
    "markers_idx = pd.DataFrame({'markers_idx': np.arange(num_genes)}, index=gene_names)\n",
    "markers_to_use = np.concatenate(markers_idx.loc[markers].values)\n",
    "\n",
    "# construct tissue object\n",
    "tissue = novosparc.cm.Tissue(dataset=dataset, locations=locations_apriori)\n",
    "\n",
    "\n",
    "# setup smooth\n",
    "num_neighbors_s = num_neighbors_t = 5\n",
    "\n",
    "# alternative 1: setup both assumptions\n",
    "tissue.setup_reconstruction(atlas_matrix=atlas_matrix,\n",
    "                            markers_to_use=markers_to_use,\n",
    "                            num_neighbors_s=num_neighbors_s,\n",
    "                            num_neighbors_t=num_neighbors_t)\n",
    "\n",
    "# compute optimal transport of cells to locations\n",
    "alpha_linear = 0.1\n",
    "epsilon = 5e-3\n",
    "# tissue.dge = sparse.csr_matrix(tissue.dge)\n",
    "tissue.reconstruct(alpha_linear=alpha_linear, epsilon=epsilon)"
   ],
   "metadata": {
    "collapsed": false,
    "pycharm": {
     "name": "#%%\n"
    }
   }
  },
  {
   "cell_type": "markdown",
   "source": [
    "## save tissue object"
   ],
   "metadata": {
    "collapsed": false,
    "pycharm": {
     "name": "#%% md\n"
    }
   }
  },
  {
   "cell_type": "code",
   "execution_count": null,
   "outputs": [],
   "source": [
    "save_dir = 'data'\n",
    "# this is worng though, tissue is no anndata, so either I need to convert it first or save it in\n",
    "# a different format\n",
    "tissue.write(os.path.join(save_dir, 'TNBC_tissueObj_basicRecon.h5ad'))"
   ],
   "metadata": {
    "collapsed": false,
    "pycharm": {
     "name": "#%%\n"
    }
   }
  },
  {
   "cell_type": "code",
   "execution_count": null,
   "outputs": [],
   "source": [
    "# create\n",
    "dataset_tissue = sc.AnnData(tissue.sdge, dtype=float)\n",
    "dataset_tissue.obsm['spatial'] = locations\n",
    "\n",
    "# save\\\n",
    "dataset_tissue.write(os.path.join(save_dir, 'TNBC_tissue_sdge_basicRecon.h5ad'))"
   ],
   "metadata": {
    "collapsed": false,
    "pycharm": {
     "name": "#%%\n"
    }
   }
  },
  {
   "cell_type": "markdown",
   "source": [],
   "metadata": {
    "collapsed": false,
    "pycharm": {
     "name": "#%% md\n"
    }
   }
  },
  {
   "cell_type": "code",
   "execution_count": null,
   "outputs": [],
   "source": [],
   "metadata": {
    "collapsed": false,
    "pycharm": {
     "name": "#%%\n"
    }
   }
  }
 ],
 "metadata": {
  "kernelspec": {
   "display_name": "Python 3",
   "language": "python",
   "name": "python3"
  },
  "language_info": {
   "codemirror_mode": {
    "name": "ipython",
    "version": 2
   },
   "file_extension": ".py",
   "mimetype": "text/x-python",
   "name": "python",
   "nbconvert_exporter": "python",
   "pygments_lexer": "ipython2",
   "version": "2.7.6"
  }
 },
 "nbformat": 4,
 "nbformat_minor": 0
}