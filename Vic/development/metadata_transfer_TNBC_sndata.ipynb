{
 "cells": [
  {
   "cell_type": "markdown",
   "source": [
    "# Terminal commands for data access\n",
    "\n",
    "```\n",
    "autossh -AtX vschuma@ssh1.mdc-berlin.de ssh vschuma@murphy.mdc-berlin.net\n",
    "# open the ssh screen and/or type\n",
    "ssh -NR 6667:localhost:22 vfs@79.197.179.128 (current network ID)\n",
    "\n",
    "# mount\n",
    "sshfs -p 6667 vschuma@localhost:/data/local/rajewsky/home/vschuma /mnt/murphy_workspace/\n",
    "or\n",
    "sshfs vschuma@murphy:/data/local/rajewsky/home/vschuma/ ~/mounts/murphy_workspace/\n",
    "\n",
    "# if working with the mount is to slow, copy the data to a ramdisk\n",
    "sudo mount -t tmpfs -o size=6g tmpfs /mnt/ramdisk/\n",
    "\n",
    "# then copy the file to the ramdisk\n",
    "mkdir /mnt/ramdisk/data && rsync -av /mnt/murphy_workspace/NSTT/data/GarciaAlsono_uterus/hot_data/* /mnt/ramdisk/data\n",
    "or\n",
    "mkdir /dev/shm/data && rsync -av /home/vschuma/mounts/murphy_workspace/NSTT/data/GarciaAlsono_uterus/hot_data/* /dev/shm/data/\n",
    "# symlink inside the pycharm project to the data dir\n",
    "(example command)\n",
    "ln -s /mnt/ramdisk/data data\n",
    "e.g.: ln -s /mnt/murphy_workspace/NSTT/data/ data\n",
    "or\n",
    "ln -s /dev/shm/data/ data\n",
    "```"
   ],
   "metadata": {
    "collapsed": false,
    "pycharm": {
     "name": "#%% md\n"
    }
   }
  },
  {
   "cell_type": "code",
   "execution_count": 22,
   "outputs": [
    {
     "ename": "ModuleNotFoundError",
     "evalue": "No module named 'hdf5plugin'",
     "output_type": "error",
     "traceback": [
      "\u001B[0;31m---------------------------------------------------------------------------\u001B[0m",
      "\u001B[0;31mModuleNotFoundError\u001B[0m                       Traceback (most recent call last)",
      "Input \u001B[0;32mIn [22]\u001B[0m, in \u001B[0;36m<cell line: 12>\u001B[0;34m()\u001B[0m\n\u001B[1;32m     10\u001B[0m \u001B[38;5;28;01mimport\u001B[39;00m \u001B[38;5;21;01mmatplotlib\u001B[39;00m\u001B[38;5;21;01m.\u001B[39;00m\u001B[38;5;21;01mpyplot\u001B[39;00m \u001B[38;5;28;01mas\u001B[39;00m \u001B[38;5;21;01mplt\u001B[39;00m\n\u001B[1;32m     11\u001B[0m \u001B[38;5;28;01mimport\u001B[39;00m \u001B[38;5;21;01mcopy\u001B[39;00m\n\u001B[0;32m---> 12\u001B[0m \u001B[38;5;28;01mimport\u001B[39;00m \u001B[38;5;21;01mhdf5plugin\u001B[39;00m\n\u001B[1;32m     14\u001B[0m \u001B[38;5;28;01mimport\u001B[39;00m \u001B[38;5;21;01mplotly\u001B[39;00m\u001B[38;5;21;01m.\u001B[39;00m\u001B[38;5;21;01mexpress\u001B[39;00m \u001B[38;5;28;01mas\u001B[39;00m \u001B[38;5;21;01mpx\u001B[39;00m\n\u001B[1;32m     15\u001B[0m \u001B[38;5;28;01mimport\u001B[39;00m \u001B[38;5;21;01mplotly\u001B[39;00m\u001B[38;5;21;01m.\u001B[39;00m\u001B[38;5;21;01mgraph_objects\u001B[39;00m \u001B[38;5;28;01mas\u001B[39;00m \u001B[38;5;21;01mgo\u001B[39;00m\n",
      "\u001B[0;31mModuleNotFoundError\u001B[0m: No module named 'hdf5plugin'"
     ]
    }
   ],
   "source": [
    "%matplotlib inline\n",
    "import anndata\n",
    "import novosparc\n",
    "import os\n",
    "import numpy as np\n",
    "import pandas as pd\n",
    "import scanpy as sc\n",
    "import seaborn as sns\n",
    "from matplotlib.pyplot import figure\n",
    "import matplotlib.pyplot as plt\n",
    "import copy\n",
    "\n",
    "\n",
    "import plotly.express as px\n",
    "import plotly.graph_objects as go"
   ],
   "metadata": {
    "collapsed": false,
    "pycharm": {
     "name": "#%%\n"
    }
   }
  },
  {
   "cell_type": "markdown",
   "source": [
    "# Reading data\n",
    "I got the data from Anna & Tancredi. The spatial file is 6w tumor slide, spatial in-house method processed with spacemake. The other data is annotated single-nuclei data, exported by Anna. Method details - idk.\n",
    "\n",
    "The data is located in Anna's home directory on the lab server:\n",
    "`/data/local/rajewsky/home/aantona/novaseq/H5AD_snRNA_ST/`\n",
    "I created a symlink within my own directory:\n",
    "`/data/local/rajewsky/home/vschuma/NSTT/data/TNBC`"
   ],
   "metadata": {
    "collapsed": false,
    "pycharm": {
     "name": "#%% md\n"
    }
   }
  },
  {
   "cell_type": "code",
   "execution_count": 2,
   "outputs": [],
   "source": [
    "data_dir = 'data' # symlinked to /data/local/rajewsky/home/vschuma/NSTT/data/TNBC_inhouse"
   ],
   "metadata": {
    "collapsed": false,
    "pycharm": {
     "name": "#%%\n"
    }
   }
  },
  {
   "cell_type": "markdown",
   "source": [
    "## Single-nuclei data\n",
    "\n",
    "The `snRNA_TNBC_integreted.h5ad` file is the processed file from Anna which she imported to seurat, did stuff and all the annotations with it and exported back from seurat --> h5ad."
   ],
   "metadata": {
    "collapsed": false,
    "pycharm": {
     "name": "#%% md\n"
    }
   }
  },
  {
   "cell_type": "code",
   "execution_count": 3,
   "outputs": [
    {
     "name": "stdout",
     "output_type": "stream",
     "text": [
      "AnnData object with n_obs × n_vars = 26978 × 3000\n",
      "    obs: 'orig.ident', 'nCount_RNA', 'nFeature_RNA', 'nCount_SCT', 'nFeature_SCT', 'percent_MT', 'SCT_snn_res.0.8', 'Seurat_clusters_individual', 'S.Score', 'G2M.Score', 'Phase', 'Bach.id', 'Bach.Avd', 'Bach.BCells', 'Bach.Bsl1', 'Bach.Bsl2', 'Bach.BslG', 'Bach.Cafs', 'Bach.CD41', 'Bach.CD42', 'Bach.CD81', 'Bach.CD82', 'Bach.CD83', 'Bach.cDC1', 'Bach.cDC2', 'Bach.CTLs', 'Bach.CyclingT', 'Bach.Ec1', 'Bach.Ec2', 'Bach.Ec3', 'Bach.Ec4', 'Bach.Fb1', 'Bach.Fb2', 'Bach.Fb3', 'Bach.Fb4', 'Bach.Fb5', 'Bach.Fb6', 'Bach.Fb7', 'Bach.Fb8', 'Bach.Fb9', 'Bach.Hs', 'Bach.Hsp', 'Bach.ILCs', 'Bach.Lp', 'Bach.LpBsl', 'Bach.MastCells', 'Bach.MdC1', 'Bach.MdC2', 'Bach.MdC3', 'Bach.migDC', 'Bach.Mo1', 'Bach.Mo2', 'Bach.Mo3', 'Bach.Neutrophils', 'Bach.NK', 'Bach.pDC', 'Bach.Pericytes1', 'Bach.Pericytes2', 'Bach.PlasmaCells', 'Bach.Swc', 'Bach.Tam1', 'Bach.Tam2', 'Bach.Tm', 'Bach.Tregs', 'Bach.max', 'doublet_score', 'doublet_assignment', 'annotated_idents', 'condition', 'Bach.luminal.epithelial.cell.of.mammary.gland', 'Bach.B.cell', 'Bach.stromal.cell', 'Bach.T.cell', 'Bach.endothelial.cell', 'Bach.basal.cell', 'Bach.macrophage', 'integrated_snn_res.0.8', 'Seurat_clusters_integrated.08', 'annotated_Cellcompartments', 'annotated_Celltypes', 'annotated_Cellcompartments2', 'integrated_snn_res.0.9', 'Seurat_clusters_integrated.1', 'integrated_snn_res.1', 'integrated_snn_res.2', 'Seurat_clusters_integrated.2', 'integrated_snn_res.0.4', 'Seurat_clusters_integrated.04', 'integrated_snn_res.0.2', 'seurat_clusters', 'annotated_CelltypesState.res.2', 'annotated_compartment.res.2', 'annotated_compartmentCellType.res.2', 'celltype_res2.condition', 'celltype_res2', 'annotated_compartmentCellType2.res.2', 'Reannotation_detailed', 'Reannotation_global', 'celltype.condition', 'ConditionGlobal', 'integrated_snn_res.2.5', 'integrated_snn_res.3', 'integrated_snn_res.4'\n",
      "    var: 'features', 'SCT_features'\n",
      "    uns: 'neighbors'\n",
      "    obsm: 'X_pca', 'X_umap'\n",
      "    varm: 'PCs'\n",
      "    layers: 'SCT'\n",
      "    obsp: 'distances'\n",
      "CPU times: user 14.6 s, sys: 1.51 s, total: 16.1 s\n",
      "Wall time: 36.7 s\n"
     ]
    },
    {
     "name": "stderr",
     "output_type": "stream",
     "text": [
      "/home/vschuma/anaconda3/envs/NovoSpaRc/lib/python3.9/site-packages/anndata/compat/__init__.py:232: FutureWarning: Moving element from .uns['neighbors']['distances'] to .obsp['distances'].\n",
      "\n",
      "This is where adjacency matrices should go now.\n",
      "  warn(\n"
     ]
    }
   ],
   "source": [
    "%%time\n",
    "\n",
    "sn_file = os.path.join(data_dir,\"snRNA_TNBC_integreted.h5ad\")\n",
    "adata_sn = sc.read_h5ad(sn_file) # this is ~10GB RAM\n",
    "print(adata_sn)\n",
    "\n",
    "# uns[\"neighbors\"] ="
   ],
   "metadata": {
    "collapsed": false,
    "pycharm": {
     "name": "#%%\n"
    }
   }
  },
  {
   "cell_type": "code",
   "execution_count": 17,
   "outputs": [],
   "source": [
    "adata_reduced = copy.deepcopy(adata_sn)"
   ],
   "metadata": {
    "collapsed": false,
    "pycharm": {
     "name": "#%%\n"
    }
   }
  },
  {
   "cell_type": "code",
   "execution_count": 18,
   "outputs": [],
   "source": [
    "unneccessary = ['Bach.id', 'Bach.Avd', 'Bach.BCells', 'Bach.Bsl1', 'Bach.Bsl2', 'Bach.BslG', 'Bach.Cafs', 'Bach.CD41', 'Bach.CD42', 'Bach.CD81', 'Bach.CD82', 'Bach.CD83', 'Bach.cDC1', 'Bach.cDC2', 'Bach.CTLs', 'Bach.CyclingT', 'Bach.Ec1', 'Bach.Ec2', 'Bach.Ec3', 'Bach.Ec4', 'Bach.Fb1', 'Bach.Fb2', 'Bach.Fb3', 'Bach.Fb4', 'Bach.Fb5', 'Bach.Fb6', 'Bach.Fb7', 'Bach.Fb8', 'Bach.Fb9', 'Bach.Hs', 'Bach.Hsp', 'Bach.ILCs', 'Bach.Lp', 'Bach.LpBsl', 'Bach.MastCells', 'Bach.MdC1', 'Bach.MdC2', 'Bach.MdC3', 'Bach.migDC', 'Bach.Mo1', 'Bach.Mo2', 'Bach.Mo3', 'Bach.Neutrophils', 'Bach.NK', 'Bach.pDC', 'Bach.Pericytes1', 'Bach.Pericytes2', 'Bach.PlasmaCells', 'Bach.Swc', 'Bach.Tam1', 'Bach.Tam2', 'Bach.Tm', 'Bach.Tregs', 'Bach.max','Bach.luminal.epithelial.cell.of.mammary.gland', 'Bach.B.cell', 'Bach.stromal.cell', 'Bach.T.cell', 'Bach.endothelial.cell', 'Bach.basal.cell', 'Bach.macrophage', 'integrated_snn_res.0.8', 'Seurat_clusters_integrated.08','integrated_snn_res.2.5', 'integrated_snn_res.3', 'integrated_snn_res.4','integrated_snn_res.0.9', 'Seurat_clusters_integrated.1', 'integrated_snn_res.1', 'integrated_snn_res.2', 'Seurat_clusters_integrated.2', 'integrated_snn_res.0.4', 'Seurat_clusters_integrated.04', 'integrated_snn_res.0.2']"
   ],
   "metadata": {
    "collapsed": false,
    "pycharm": {
     "name": "#%%\n"
    }
   }
  },
  {
   "cell_type": "markdown",
   "source": [],
   "metadata": {
    "collapsed": false,
    "pycharm": {
     "name": "#%% md\n"
    }
   }
  },
  {
   "cell_type": "code",
   "execution_count": 19,
   "outputs": [],
   "source": [
    "for element in unneccessary:\n",
    "    del adata_reduced.obs[element]"
   ],
   "metadata": {
    "collapsed": false,
    "pycharm": {
     "name": "#%%\n"
    }
   }
  },
  {
   "cell_type": "code",
   "execution_count": 20,
   "outputs": [
    {
     "data": {
      "text/plain": "AnnData object with n_obs × n_vars = 26978 × 3000\n    obs: 'orig.ident', 'nCount_RNA', 'nFeature_RNA', 'nCount_SCT', 'nFeature_SCT', 'percent_MT', 'SCT_snn_res.0.8', 'Seurat_clusters_individual', 'S.Score', 'G2M.Score', 'Phase', 'doublet_score', 'doublet_assignment', 'annotated_idents', 'condition', 'annotated_Cellcompartments', 'annotated_Celltypes', 'annotated_Cellcompartments2', 'seurat_clusters', 'annotated_CelltypesState.res.2', 'annotated_compartment.res.2', 'annotated_compartmentCellType.res.2', 'celltype_res2.condition', 'celltype_res2', 'annotated_compartmentCellType2.res.2', 'Reannotation_detailed', 'Reannotation_global', 'celltype.condition', 'ConditionGlobal'\n    var: 'features', 'SCT_features'\n    uns: 'neighbors'\n    obsm: 'X_pca', 'X_umap'\n    varm: 'PCs'\n    layers: 'SCT'\n    obsp: 'distances'"
     },
     "execution_count": 20,
     "metadata": {},
     "output_type": "execute_result"
    }
   ],
   "source": [
    "adata_reduced"
   ],
   "metadata": {
    "collapsed": false,
    "pycharm": {
     "name": "#%%\n"
    }
   }
  },
  {
   "cell_type": "code",
   "execution_count": 21,
   "outputs": [
    {
     "data": {
      "text/plain": "Csmd1              Csmd1\nGhr                  Ghr\nPcdh15            Pcdh15\nOpcml              Opcml\nCadm2              Cadm2\n                 ...    \nHas1                Has1\nIghv5-17        Ighv5-17\nLrrc66            Lrrc66\nZpbp2              Zpbp2\nRapgef4os3    Rapgef4os3\nName: features, Length: 3000, dtype: object"
     },
     "execution_count": 21,
     "metadata": {},
     "output_type": "execute_result"
    }
   ],
   "source": [
    "adata_reduced.var[\"features\"]"
   ],
   "metadata": {
    "collapsed": false,
    "pycharm": {
     "name": "#%%\n"
    }
   }
  },
  {
   "cell_type": "code",
   "execution_count": 26,
   "outputs": [],
   "source": [
    "# outfile = 'output/TNBC_sn_reduced.h5ad'\n",
    "# # there seems to be some naming issue coming from seurat, found this hack at: https://github.com/theislab/scvelo/issues/255\n",
    "# adata_reduced.__dict__['_raw'].__dict__['_var'] = adata_reduced.__dict__['_raw'].__dict__['_var'].rename(columns={'_index': 'features'})\n",
    "# adata_reduced.write(outfile)"
   ],
   "metadata": {
    "collapsed": false,
    "pycharm": {
     "name": "#%%\n"
    }
   }
  },
  {
   "cell_type": "markdown",
   "source": [
    "# Extract single parts for reconstruction\n",
    "## DGE"
   ],
   "metadata": {
    "collapsed": false,
    "pycharm": {
     "name": "#%% md\n"
    }
   }
  },
  {
   "cell_type": "code",
   "execution_count": null,
   "outputs": [],
   "source": [
    "%%time\n",
    "sn_file_reduced = os.path.join(data_dir,\"TNBC_sn_reduced.h5ad\")\n",
    "adata_reduced = sc.read_h5ad(sn_file) # this is ~10GB RAM\n",
    "print(adata_sn)\n"
   ],
   "metadata": {
    "collapsed": false,
    "pycharm": {
     "name": "#%%\n"
    }
   }
  },
  {
   "cell_type": "code",
   "execution_count": 27,
   "outputs": [
    {
     "data": {
      "text/plain": "(3000, 26978)"
     },
     "execution_count": 27,
     "metadata": {},
     "output_type": "execute_result"
    }
   ],
   "source": [
    "adata_reduced.T.to_df().to_csv('output/TNBC_sn_integrated_dge.csv')\n",
    "adata_reduced.T.to_df().shape  # 3000 genes, 26978 locations"
   ],
   "metadata": {
    "collapsed": false,
    "pycharm": {
     "name": "#%%\n"
    }
   }
  },
  {
   "cell_type": "markdown",
   "source": [
    "## Metadata\n",
    "* 'Phase'\n",
    "* 'annotated_idents'\n",
    "* 'condition'\n",
    "* 'annotated_Cellcompartments'\n",
    "* 'annotated_Celltypes'"
   ],
   "metadata": {
    "collapsed": false,
    "pycharm": {
     "name": "#%% md\n"
    }
   }
  },
  {
   "cell_type": "markdown",
   "source": [],
   "metadata": {
    "collapsed": false,
    "pycharm": {
     "name": "#%% md\n"
    }
   }
  },
  {
   "cell_type": "code",
   "execution_count": null,
   "outputs": [],
   "source": [
    "meta_o_interest = ['Phase','annotated_idents','annotated_Cellcompartments','annotated_Celltypes']"
   ],
   "metadata": {
    "collapsed": false,
    "pycharm": {
     "name": "#%%\n"
    }
   }
  },
  {
   "cell_type": "code",
   "execution_count": null,
   "outputs": [],
   "source": [
    "# adata.obs[\"cluster\"].to_csv(\"data/mouse_brain_meta_ct.csv\",\n",
    "#                             index=False)"
   ],
   "metadata": {
    "collapsed": false,
    "pycharm": {
     "name": "#%%\n"
    }
   }
  },
  {
   "cell_type": "code",
   "execution_count": 33,
   "outputs": [
    {
     "data": {
      "text/plain": "AAACCCAAGCTTCATG-1_1    15\nAAACCCAAGCTTGTGT-1_1     4\nAAACCCAAGGCTTTCA-1_1    11\nAAACCCACAACAACAA-1_1    23\nAAACCCACAATACGCT-1_1    23\n                        ..\nTTTGTTGAGCAGGCTA-1_3     1\nTTTGTTGAGGTCGACA-1_3    15\nTTTGTTGAGTGTAGTA-1_3     2\nTTTGTTGCAGAACTAA-1_3    13\nTTTGTTGGTCTCGACG-1_3     5\nName: annotated_CelltypesState.res.2, Length: 26978, dtype: int32"
     },
     "execution_count": 33,
     "metadata": {},
     "output_type": "execute_result"
    }
   ],
   "source": [
    "adata_reduced.obs[\"annotated_CelltypesState.res.2\"]"
   ],
   "metadata": {
    "collapsed": false,
    "pycharm": {
     "name": "#%%\n"
    }
   }
  },
  {
   "cell_type": "code",
   "execution_count": null,
   "outputs": [],
   "source": [],
   "metadata": {
    "collapsed": false,
    "pycharm": {
     "name": "#%%\n"
    }
   }
  }
 ],
 "metadata": {
  "kernelspec": {
   "display_name": "Python 3",
   "language": "python",
   "name": "python3"
  },
  "language_info": {
   "codemirror_mode": {
    "name": "ipython",
    "version": 2
   },
   "file_extension": ".py",
   "mimetype": "text/x-python",
   "name": "python",
   "nbconvert_exporter": "python",
   "pygments_lexer": "ipython2",
   "version": "2.7.6"
  }
 },
 "nbformat": 4,
 "nbformat_minor": 0
}