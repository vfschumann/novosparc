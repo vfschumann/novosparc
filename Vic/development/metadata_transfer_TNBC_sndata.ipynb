{
 "cells": [
  {
   "cell_type": "markdown",
   "source": [
    "# Terminal commands for data access\n",
    "\n",
    "```\n",
    "autossh -AtX vschuma@ssh1.mdc-berlin.de ssh vschuma@murphy.mdc-berlin.net\n",
    "# open the ssh screen and/or type\n",
    "ssh -NR 6667:localhost:22 vfs@79.197.179.128 (current network ID)\n",
    "\n",
    "# mount\n",
    "sshfs -p 6667 vschuma@localhost:/data/local/rajewsky/home/vschuma /mnt/murphy_workspace/\n",
    "or\n",
    "sshfs vschuma@murphy:/data/local/rajewsky/home/vschuma/ ~/mounts/murphy_workspace/\n",
    "\n",
    "# if working with the mount is to slow, copy the data to a ramdisk\n",
    "sudo mount -t tmpfs -o size=6g tmpfs /mnt/ramdisk/\n",
    "\n",
    "# then copy the file to the ramdisk\n",
    "mkdir /mnt/ramdisk/data && rsync -av /mnt/murphy_workspace/NSTT/data/GarciaAlsono_uterus/hot_data/* /mnt/ramdisk/data\n",
    "or\n",
    "mkdir /dev/shm/data && rsync -av /home/vschuma/mounts/murphy_workspace/NSTT/data/GarciaAlsono_uterus/hot_data/* /dev/shm/data/\n",
    "# symlink inside the pycharm project to the data dir\n",
    "(example command)\n",
    "ln -s /mnt/ramdisk/data data\n",
    "e.g.: ln -s /mnt/murphy_workspace/NSTT/data/ data\n",
    "or\n",
    "ln -s /dev/shm/data/ data\n",
    "```"
   ],
   "metadata": {
    "collapsed": false,
    "pycharm": {
     "name": "#%% md\n"
    }
   }
  },
  {
   "cell_type": "code",
   "execution_count": 2,
   "outputs": [],
   "source": [
    "%matplotlib inline\n",
    "import anndata\n",
    "import novosparc\n",
    "import os\n",
    "import numpy as np\n",
    "import pandas as pd\n",
    "import scanpy as sc\n",
    "import seaborn as sns\n",
    "from matplotlib.pyplot import figure\n",
    "import matplotlib.pyplot as plt\n",
    "\n",
    "import plotly.express as px\n",
    "import plotly.graph_objects as go"
   ],
   "metadata": {
    "collapsed": false,
    "pycharm": {
     "name": "#%%\n"
    }
   }
  },
  {
   "cell_type": "markdown",
   "source": [
    "# Reading data\n",
    "I got the data from Anna & Tancredi. The spatial file is 6w tumor slide, spatial in-house method processed with spacemake. The other data is annotated single-nuclei data, exported by Anna. Method details - idk.\n",
    "\n",
    "The data is located in Anna's home directory on the lab server:\n",
    "`/data/local/rajewsky/home/aantona/novaseq/H5AD_snRNA_ST/`\n",
    "I created a symlink within my own directory:\n",
    "`/data/local/rajewsky/home/vschuma/NSTT/data/TNBC`"
   ],
   "metadata": {
    "collapsed": false,
    "pycharm": {
     "name": "#%% md\n"
    }
   }
  },
  {
   "cell_type": "code",
   "execution_count": 3,
   "outputs": [],
   "source": [
    "data_dir = 'data' # symlinked to /data/local/rajewsky/home/vschuma/NSTT/data/TNBC_inhouse"
   ],
   "metadata": {
    "collapsed": false,
    "pycharm": {
     "name": "#%%\n"
    }
   }
  },
  {
   "cell_type": "markdown",
   "source": [
    "## Single-nuclei data\n",
    "\n",
    "The `snRNA_TNBC_integreted.h5ad` file is the processed file from Anna which she imported to seurat, did stuff and all the annotations with it and exported back from seurat --> h5ad."
   ],
   "metadata": {
    "collapsed": false,
    "pycharm": {
     "name": "#%% md\n"
    }
   }
  },
  {
   "cell_type": "code",
   "execution_count": 4,
   "outputs": [
    {
     "name": "stdout",
     "output_type": "stream",
     "text": [
      "AnnData object with n_obs × n_vars = 26978 × 3000\n",
      "    obs: 'orig.ident', 'nCount_RNA', 'nFeature_RNA', 'nCount_SCT', 'nFeature_SCT', 'percent_MT', 'SCT_snn_res.0.8', 'Seurat_clusters_individual', 'S.Score', 'G2M.Score', 'Phase', 'Bach.id', 'Bach.Avd', 'Bach.BCells', 'Bach.Bsl1', 'Bach.Bsl2', 'Bach.BslG', 'Bach.Cafs', 'Bach.CD41', 'Bach.CD42', 'Bach.CD81', 'Bach.CD82', 'Bach.CD83', 'Bach.cDC1', 'Bach.cDC2', 'Bach.CTLs', 'Bach.CyclingT', 'Bach.Ec1', 'Bach.Ec2', 'Bach.Ec3', 'Bach.Ec4', 'Bach.Fb1', 'Bach.Fb2', 'Bach.Fb3', 'Bach.Fb4', 'Bach.Fb5', 'Bach.Fb6', 'Bach.Fb7', 'Bach.Fb8', 'Bach.Fb9', 'Bach.Hs', 'Bach.Hsp', 'Bach.ILCs', 'Bach.Lp', 'Bach.LpBsl', 'Bach.MastCells', 'Bach.MdC1', 'Bach.MdC2', 'Bach.MdC3', 'Bach.migDC', 'Bach.Mo1', 'Bach.Mo2', 'Bach.Mo3', 'Bach.Neutrophils', 'Bach.NK', 'Bach.pDC', 'Bach.Pericytes1', 'Bach.Pericytes2', 'Bach.PlasmaCells', 'Bach.Swc', 'Bach.Tam1', 'Bach.Tam2', 'Bach.Tm', 'Bach.Tregs', 'Bach.max', 'doublet_score', 'doublet_assignment', 'annotated_idents', 'condition', 'Bach.luminal.epithelial.cell.of.mammary.gland', 'Bach.B.cell', 'Bach.stromal.cell', 'Bach.T.cell', 'Bach.endothelial.cell', 'Bach.basal.cell', 'Bach.macrophage', 'integrated_snn_res.0.8', 'Seurat_clusters_integrated.08', 'annotated_Cellcompartments', 'annotated_Celltypes', 'annotated_Cellcompartments2', 'integrated_snn_res.0.9', 'Seurat_clusters_integrated.1', 'integrated_snn_res.1', 'integrated_snn_res.2', 'Seurat_clusters_integrated.2', 'integrated_snn_res.0.4', 'Seurat_clusters_integrated.04', 'integrated_snn_res.0.2', 'seurat_clusters', 'annotated_CelltypesState.res.2', 'annotated_compartment.res.2', 'annotated_compartmentCellType.res.2', 'celltype_res2.condition', 'celltype_res2', 'annotated_compartmentCellType2.res.2', 'Reannotation_detailed', 'Reannotation_global', 'celltype.condition', 'ConditionGlobal', 'integrated_snn_res.2.5', 'integrated_snn_res.3', 'integrated_snn_res.4'\n",
      "    var: 'features', 'SCT_features'\n",
      "    uns: 'neighbors'\n",
      "    obsm: 'X_pca', 'X_umap'\n",
      "    varm: 'PCs'\n",
      "    layers: 'SCT'\n",
      "    obsp: 'distances'\n",
      "CPU times: user 14.2 s, sys: 1.48 s, total: 15.6 s\n",
      "Wall time: 36.8 s\n"
     ]
    },
    {
     "name": "stderr",
     "output_type": "stream",
     "text": [
      "/home/vschuma/anaconda3/envs/NovoSpaRc/lib/python3.9/site-packages/anndata/compat/__init__.py:232: FutureWarning: Moving element from .uns['neighbors']['distances'] to .obsp['distances'].\n",
      "\n",
      "This is where adjacency matrices should go now.\n",
      "  warn(\n"
     ]
    }
   ],
   "source": [
    "%%time\n",
    "\n",
    "sn_file = os.path.join(data_dir,\"snRNA_TNBC_integreted.h5ad\")\n",
    "adata_sn = sc.read_h5ad(sn_file) # this is ~10GB RAM\n",
    "print(adata_sn)\n",
    "\n",
    "# uns[\"neighbors\"] ="
   ],
   "metadata": {
    "collapsed": false,
    "pycharm": {
     "name": "#%%\n"
    }
   }
  },
  {
   "cell_type": "markdown",
   "source": [],
   "metadata": {
    "collapsed": false,
    "pycharm": {
     "name": "#%% md\n"
    }
   }
  }
 ],
 "metadata": {
  "kernelspec": {
   "display_name": "Python 3",
   "language": "python",
   "name": "python3"
  },
  "language_info": {
   "codemirror_mode": {
    "name": "ipython",
    "version": 2
   },
   "file_extension": ".py",
   "mimetype": "text/x-python",
   "name": "python",
   "nbconvert_exporter": "python",
   "pygments_lexer": "ipython2",
   "version": "2.7.6"
  }
 },
 "nbformat": 4,
 "nbformat_minor": 0
}