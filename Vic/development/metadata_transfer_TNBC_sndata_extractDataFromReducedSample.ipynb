{
 "cells": [
  {
   "cell_type": "markdown",
   "metadata": {
    "pycharm": {
     "name": "#%% md\n"
    }
   },
   "source": [
    "# Terminal commands for data access\n",
    "\n",
    "```\n",
    "autossh -AtX vschuma@ssh1.mdc-berlin.de ssh vschuma@murphy.mdc-berlin.net\n",
    "# open the ssh screen and/or type\n",
    "ssh -NR 6667:localhost:22 vfs@79.197.179.128 (current network ID)\n",
    "\n",
    "# mount\n",
    "sshfs -p 6667 vschuma@localhost:/data/local/rajewsky/home/vschuma /mnt/murphy_workspace/\n",
    "or\n",
    "sshfs vschuma@murphy:/data/local/rajewsky/home/vschuma/ ~/mounts/murphy_workspace/\n",
    "\n",
    "# if working with the mount is to slow, copy the data to a ramdisk\n",
    "sudo mount -t tmpfs -o size=6g tmpfs /mnt/ramdisk/\n",
    "\n",
    "# then copy the file to the ramdisk\n",
    "mkdir /mnt/ramdisk/data && rsync -av /mnt/murphy_workspace/NSTT/data/GarciaAlsono_uterus/hot_data/* /mnt/ramdisk/data\n",
    "or\n",
    "mkdir /dev/shm/data && rsync -av /home/vschuma/mounts/murphy_workspace/NSTT/data/GarciaAlsono_uterus/hot_data/* /dev/shm/data/\n",
    "# symlink inside the pycharm project to the data dir\n",
    "(example command)\n",
    "ln -s /mnt/ramdisk/data data\n",
    "e.g.: ln -s /mnt/murphy_workspace/NSTT/data/ data\n",
    "or\n",
    "ln -s /dev/shm/data/ data\n",
    "```"
   ]
  },
  {
   "cell_type": "code",
   "execution_count": 1,
   "metadata": {
    "pycharm": {
     "name": "#%%\n"
    }
   },
   "outputs": [],
   "source": [
    "%matplotlib inline\n",
    "import anndata\n",
    "import novosparc\n",
    "import os\n",
    "import numpy as np\n",
    "import pandas as pd\n",
    "import scanpy as sc\n",
    "import seaborn as sns\n",
    "from matplotlib.pyplot import figure\n",
    "import matplotlib.pyplot as plt\n",
    "import copy\n",
    "\n",
    "\n",
    "import plotly.express as px\n",
    "import plotly.graph_objects as go"
   ]
  },
  {
   "cell_type": "markdown",
   "metadata": {
    "pycharm": {
     "name": "#%% md\n"
    }
   },
   "source": [
    "# Reading data\n",
    "I got the data from Anna & Tancredi. The spatial file is 6w tumor slide, spatial in-house method processed with spacemake. The other data is annotated single-nuclei data, exported by Anna. Method details - idk.\n",
    "\n",
    "The data is located in Anna's home directory on the lab server:\n",
    "`/data/local/rajewsky/home/aantona/novaseq/H5AD_snRNA_ST/`\n",
    "I created a symlink within my own directory:\n",
    "`/data/local/rajewsky/home/vschuma/NSTT/data/TNBC`"
   ]
  },
  {
   "cell_type": "code",
   "execution_count": 2,
   "metadata": {
    "pycharm": {
     "name": "#%%\n"
    }
   },
   "outputs": [],
   "source": [
    "data_dir = 'data' # symlinked to /data/local/rajewsky/home/vschuma/NSTT/output/LabelTransfer/..."
   ]
  },
  {
   "cell_type": "markdown",
   "metadata": {
    "pycharm": {
     "name": "#%% md\n"
    }
   },
   "source": [
    "# Single-nuclei data\n",
    "\n",
    "The `snRNA_TNBC_integreted.h5ad` file is the processed file from Anna which she imported to seurat, did stuff and all the annotations with it and exported back from seurat --> h5ad."
   ]
  },
  {
   "cell_type": "markdown",
   "metadata": {
    "pycharm": {
     "name": "#%% md\n"
    }
   },
   "source": [
    "### get from h5ad file"
   ]
  },
  {
   "cell_type": "code",
   "execution_count": 4,
   "metadata": {
    "pycharm": {
     "name": "#%%\n"
    }
   },
   "outputs": [
    {
     "name": "stdout",
     "output_type": "stream",
     "text": [
      "AnnData object with n_obs × n_vars = 26978 × 3000\n",
      "    obs: 'orig.ident', 'nCount_RNA', 'nFeature_RNA', 'nCount_SCT', 'nFeature_SCT', 'percent_MT', 'SCT_snn_res.0.8', 'Seurat_clusters_individual', 'S.Score', 'G2M.Score', 'Phase', 'doublet_score', 'doublet_assignment', 'annotated_idents', 'condition', 'annotated_Cellcompartments', 'annotated_Celltypes', 'annotated_Cellcompartments2', 'seurat_clusters', 'annotated_CelltypesState.res.2', 'annotated_compartment.res.2', 'annotated_compartmentCellType.res.2', 'celltype_res2.condition', 'celltype_res2', 'annotated_compartmentCellType2.res.2', 'Reannotation_detailed', 'Reannotation_global', 'celltype.condition', 'ConditionGlobal'\n",
      "    var: 'features', 'SCT_features'\n",
      "    uns: 'neighbors'\n",
      "    obsm: 'X_pca', 'X_umap'\n",
      "    varm: 'PCs'\n",
      "    layers: 'SCT'\n",
      "    obsp: 'distances'\n",
      "CPU times: user 242 ms, sys: 1.38 s, total: 1.62 s\n",
      "Wall time: 28.2 s\n"
     ]
    }
   ],
   "source": [
    "%%time\n",
    "\n",
    "sn_file = os.path.join(data_dir,\"TNBC_sn_reduced.h5ad\") # whatever reduced sample file\n",
    "adata_sn = sc.read_h5ad(sn_file) # this is ~10GB RAM\n",
    "print(adata_sn)"
   ]
  },
  {
   "cell_type": "markdown",
   "metadata": {
    "pycharm": {
     "name": "#%% md\n"
    }
   },
   "source": []
  },
  {
   "cell_type": "markdown",
   "metadata": {
    "pycharm": {
     "name": "#%% md\n"
    }
   },
   "source": [
    "### save h5ad as pickle"
   ]
  },
  {
   "cell_type": "code",
   "execution_count": null,
   "metadata": {
    "pycharm": {
     "name": "#%%\n"
    }
   },
   "outputs": [
    {
     "ename": "KeyboardInterrupt",
     "evalue": "",
     "output_type": "error",
     "traceback": [
      "\u001B[0;31m---------------------------------------------------------------------------\u001B[0m",
      "\u001B[0;31mKeyboardInterrupt\u001B[0m                         Traceback (most recent call last)",
      "Input \u001B[0;32mIn [18]\u001B[0m, in \u001B[0;36m<cell line: 7>\u001B[0;34m()\u001B[0m\n\u001B[1;32m      5\u001B[0m picklefile \u001B[38;5;241m=\u001B[39m \u001B[38;5;28mopen\u001B[39m(tissue_file, \u001B[38;5;124m'\u001B[39m\u001B[38;5;124mwb\u001B[39m\u001B[38;5;124m'\u001B[39m)\n\u001B[1;32m      6\u001B[0m \u001B[38;5;66;03m#pickle the dictionary and write it to file\u001B[39;00m\n\u001B[0;32m----> 7\u001B[0m \u001B[43mpickle\u001B[49m\u001B[38;5;241;43m.\u001B[39;49m\u001B[43mdump\u001B[49m\u001B[43m(\u001B[49m\u001B[43madata_sn\u001B[49m\u001B[43m,\u001B[49m\u001B[43m \u001B[49m\u001B[43mpicklefile\u001B[49m\u001B[43m)\u001B[49m\n\u001B[1;32m      8\u001B[0m \u001B[38;5;66;03m#close the file\u001B[39;00m\n\u001B[1;32m      9\u001B[0m picklefile\u001B[38;5;241m.\u001B[39mclose()\n",
      "\u001B[0;31mKeyboardInterrupt\u001B[0m: "
     ]
    }
   ],
   "source": [
    "import pickle"
   ]
  },
  {
   "cell_type": "code",
   "execution_count": 20,
   "metadata": {
    "pycharm": {
     "name": "#%%\n"
    }
   },
   "outputs": [],
   "source": [
    "save_dir = 'data'\n",
    "#create a pickle file\n",
    "snRNA_file = os.path.join(save_dir, \"TNBC_snRNA_integrated.zip\")"
   ]
  },
  {
   "cell_type": "code",
   "execution_count": 22,
   "metadata": {
    "pycharm": {
     "name": "#%%\n"
    }
   },
   "outputs": [
    {
     "ename": "KeyboardInterrupt",
     "evalue": "",
     "output_type": "error",
     "traceback": [
      "\u001B[0;31m---------------------------------------------------------------------------\u001B[0m",
      "\u001B[0;31mKeyboardInterrupt\u001B[0m                         Traceback (most recent call last)",
      "File \u001B[0;32m<timed exec>:3\u001B[0m, in \u001B[0;36m<module>\u001B[0;34m\u001B[0m\n",
      "\u001B[0;31mKeyboardInterrupt\u001B[0m: "
     ]
    }
   ],
   "source": [
    "%%time\n",
    "picklefile = open(snRNA_file, 'wb')\n",
    "#pickle the dictionary and write it to file\n",
    "pickle.dump(adata_sn, picklefile)\n",
    "#close the file\n",
    "picklefile.close()"
   ]
  },
  {
   "cell_type": "markdown",
   "metadata": {
    "pycharm": {
     "name": "#%% md\n"
    }
   },
   "source": [
    "### get from pickle"
   ]
  },
  {
   "cell_type": "code",
   "execution_count": 23,
   "metadata": {
    "pycharm": {
     "name": "#%%\n"
    }
   },
   "outputs": [
    {
     "ename": "EOFError",
     "evalue": "Ran out of input",
     "output_type": "error",
     "traceback": [
      "\u001B[0;31m---------------------------------------------------------------------------\u001B[0m",
      "\u001B[0;31mEOFError\u001B[0m                                  Traceback (most recent call last)",
      "File \u001B[0;32m<timed exec>:3\u001B[0m, in \u001B[0;36m<module>\u001B[0;34m\u001B[0m\n",
      "\u001B[0;31mEOFError\u001B[0m: Ran out of input"
     ]
    }
   ],
   "source": [
    "%%time\n",
    "picklefile = open(snRNA_file, 'rb')\n",
    "#unpickle the dataframe\n",
    "adata_sn = pickle.load(picklefile)\n",
    "print(type(adata_sn))"
   ]
  },
  {
   "cell_type": "code",
   "execution_count": 26,
   "metadata": {
    "pycharm": {
     "name": "#%%\n"
    }
   },
   "outputs": [],
   "source": [
    "# outfile = 'output/TNBC_sn_reduced.h5ad'\n",
    "# # there seems to be some naming issue coming from seurat, found this hack at: https://github.com/theislab/scvelo/issues/255\n",
    "# adata_reduced.__dict__['_raw'].__dict__['_var'] = adata_reduced.__dict__['_raw'].__dict__['_var'].rename(columns={'_index': 'features'})\n",
    "# adata_reduced.write(outfile)"
   ]
  },
  {
   "cell_type": "markdown",
   "metadata": {
    "pycharm": {
     "name": "#%% md\n"
    }
   },
   "source": [
    "# Extract single parts for reconstruction\n",
    "## DGE"
   ]
  },
  {
   "cell_type": "code",
   "execution_count": 16,
   "metadata": {
    "pycharm": {
     "name": "#%%\n"
    }
   },
   "outputs": [],
   "source": [
    "sn_dge = pd.DataFrame(adata_sn.X, columns=adata_sn.var_names) # 3k genes, 26978 cells"
   ]
  },
  {
   "cell_type": "code",
   "execution_count": 17,
   "metadata": {
    "pycharm": {
     "name": "#%%\n"
    }
   },
   "outputs": [],
   "source": [
    "savepath = os.path.join(data_dir,'TNBC_sn_integrated_dge.zip')\n",
    "sn_dge.to_pickle(savepath)"
   ]
  },
  {
   "cell_type": "markdown",
   "metadata": {
    "pycharm": {
     "name": "#%% md\n"
    }
   },
   "source": [
    "# Metadata\n",
    "* 'Phase'\n",
    "* 'annotated_idents'\n",
    "* 'condition'\n",
    "* 'annotated_Cellcompartments'\n",
    "* 'annotated_Celltypes'"
   ]
  },
  {
   "cell_type": "code",
   "execution_count": 13,
   "outputs": [],
   "source": [
    "def create_metadata_files(dataset, metadata_keys, filename_identifier, outputdir=''):\n",
    "    \"\"\"\n",
    "    dataset = pd.DF\n",
    "    \"\"\"\n",
    "    for annotation in metadata_keys:\n",
    "        # create acceptable filename\n",
    "        if '.' in annotation:\n",
    "            suffix = annotation.replace(\".\",\"_\").lower()\n",
    "        else:\n",
    "            suffix = annotation.lower()\n",
    "\n",
    "        filename = f\"TNBC_meta_{filename_identifier}_{suffix}.csv\"\n",
    "        outdir = outputdir\n",
    "        filename = os.path.join(outdir,filename)\n",
    "        # save as csv\n",
    "        dataset[annotation].to_csv(filename, index=False)"
   ],
   "metadata": {
    "collapsed": false,
    "pycharm": {
     "name": "#%%\n"
    }
   }
  },
  {
   "cell_type": "markdown",
   "metadata": {
    "pycharm": {
     "name": "#%% md\n"
    }
   },
   "source": [
    "## snRNA metadata"
   ]
  },
  {
   "cell_type": "code",
   "execution_count": 7,
   "outputs": [
    {
     "name": "stdout",
     "output_type": "stream",
     "text": [
      "<class 'pandas.core.frame.DataFrame'>\n",
      "CPU times: user 71.2 ms, sys: 28.2 ms, total: 99.4 ms\n",
      "Wall time: 95.8 ms\n"
     ]
    }
   ],
   "source": [
    "%%time\n",
    "snRNA_meta_file = os.path.join(data_dir,'metadata_snRNA.csv')\n",
    "# snRNA_meta = pd.read_pickle('data/meta_snRNA.zip')\n",
    "snRNA_meta = pd.read_csv(snRNA_meta_file)"
   ],
   "metadata": {
    "collapsed": false,
    "pycharm": {
     "name": "#%%\n"
    }
   }
  },
  {
   "cell_type": "code",
   "execution_count": 14,
   "metadata": {
    "pycharm": {
     "name": "#%%\n"
    }
   },
   "outputs": [],
   "source": [
    "meta_o_interest = ['ReannotationGlobal','ReannotationDetailed','ConditionGlobal','Phase']\n",
    "create_metadata_files(snRNA_meta,meta_o_interest,'snRNA','data')"
   ]
  },
  {
   "cell_type": "markdown",
   "source": [
    "## spatial metadata"
   ],
   "metadata": {
    "collapsed": false,
    "pycharm": {
     "name": "#%% md\n"
    }
   }
  },
  {
   "cell_type": "code",
   "execution_count": 15,
   "outputs": [
    {
     "name": "stdout",
     "output_type": "stream",
     "text": [
      "CPU times: user 111 ms, sys: 58.5 ms, total: 169 ms\n",
      "Wall time: 167 ms\n"
     ]
    },
    {
     "data": {
      "text/plain": "       Unnamed: 0     orig.ident  nCount_Spatial  nFeature_Spatial      V1  \\\n0            4840  SeuratProject             123               110    4840   \n1            4841  SeuratProject             300               258    4841   \n2            4905  SeuratProject             712               556    4905   \n3            4906  SeuratProject             354               299    4906   \n4            4907  SeuratProject             159               137    4907   \n...           ...            ...             ...               ...     ...   \n55473      141910  SeuratProject             157               141  141910   \n55474      141913  SeuratProject             104                94  141913   \n55475      141914  SeuratProject             260               225  141914   \n55476      141915  SeuratProject             124               119  141915   \n55477      141916  SeuratProject             103                89  141916   \n\n               y_pos  n_genes_by_counts  total_counts  total_counts_mt  \\\n0       35944.280433                110           123                5   \n1       36503.387933                258           300                3   \n2       35944.280433                556           712               36   \n3       36503.387933                299           354               10   \n4       37062.495433                137           159                1   \n...              ...                ...           ...              ...   \n55473  112694.529966                141           157                2   \n55474  114371.379966                 94           104                5   \n55475  114930.329966                225           260                4   \n55476  115489.279966                119           124                2   \n55477  116048.229966                 89           103                0   \n\n       pct_counts_mt  ...  tile  nCount_SCT  nFeature_SCT  SCT_snn_res.0.8  \\\n0           4.065041  ...  2456         166           101               11   \n1           1.000000  ...  2456         276           238               15   \n2           5.056179  ...  2456         537           478               15   \n3           2.824859  ...  2456         325           275               15   \n4           0.628931  ...  2456         228           128               15   \n...              ...  ...   ...         ...           ...              ...   \n55473       1.273885  ...  2659         225           133                0   \n55474       4.807692  ...  2659         159            94                3   \n55475       1.538462  ...  2659         268           211                6   \n55476       1.612903  ...  2659         179           116                1   \n55477       0.000000  ...  2659         166            89                1   \n\n       seurat_clusters  SCT_snn_res.1.5  SCT_snn_res.1     Annotation_1  \\\n0                   11               13             11      Endothelium   \n1                   19               23             19  Vascular stroma   \n2                   19               23             19  Vascular stroma   \n3                   19               23             19  Vascular stroma   \n4                   19               23             19  Vascular stroma   \n...                ...              ...            ...              ...   \n55473                0                0              0          low_UMI   \n55474                2                5              2       Adipocytes   \n55475                1               26              1          low_UMI   \n55476                1                1              1          low_UMI   \n55477                1                1              1          low_UMI   \n\n              x_pos     Annotation1  \n0      28429.981116     Endothelium  \n1      28429.981116  Vascularstroma  \n2      28751.214988  Vascularstroma  \n3      28751.214988  Vascularstroma  \n4      28751.214988  Vascularstroma  \n...             ...             ...  \n55473  97357.408058          lowUMI  \n55474  97357.408058      Adipocytes  \n55475  97357.408058          lowUMI  \n55476  97357.408058          lowUMI  \n55477  97357.408058          lowUMI  \n\n[55478 rows x 27 columns]",
      "text/html": "<div>\n<style scoped>\n    .dataframe tbody tr th:only-of-type {\n        vertical-align: middle;\n    }\n\n    .dataframe tbody tr th {\n        vertical-align: top;\n    }\n\n    .dataframe thead th {\n        text-align: right;\n    }\n</style>\n<table border=\"1\" class=\"dataframe\">\n  <thead>\n    <tr style=\"text-align: right;\">\n      <th></th>\n      <th>Unnamed: 0</th>\n      <th>orig.ident</th>\n      <th>nCount_Spatial</th>\n      <th>nFeature_Spatial</th>\n      <th>V1</th>\n      <th>y_pos</th>\n      <th>n_genes_by_counts</th>\n      <th>total_counts</th>\n      <th>total_counts_mt</th>\n      <th>pct_counts_mt</th>\n      <th>...</th>\n      <th>tile</th>\n      <th>nCount_SCT</th>\n      <th>nFeature_SCT</th>\n      <th>SCT_snn_res.0.8</th>\n      <th>seurat_clusters</th>\n      <th>SCT_snn_res.1.5</th>\n      <th>SCT_snn_res.1</th>\n      <th>Annotation_1</th>\n      <th>x_pos</th>\n      <th>Annotation1</th>\n    </tr>\n  </thead>\n  <tbody>\n    <tr>\n      <th>0</th>\n      <td>4840</td>\n      <td>SeuratProject</td>\n      <td>123</td>\n      <td>110</td>\n      <td>4840</td>\n      <td>35944.280433</td>\n      <td>110</td>\n      <td>123</td>\n      <td>5</td>\n      <td>4.065041</td>\n      <td>...</td>\n      <td>2456</td>\n      <td>166</td>\n      <td>101</td>\n      <td>11</td>\n      <td>11</td>\n      <td>13</td>\n      <td>11</td>\n      <td>Endothelium</td>\n      <td>28429.981116</td>\n      <td>Endothelium</td>\n    </tr>\n    <tr>\n      <th>1</th>\n      <td>4841</td>\n      <td>SeuratProject</td>\n      <td>300</td>\n      <td>258</td>\n      <td>4841</td>\n      <td>36503.387933</td>\n      <td>258</td>\n      <td>300</td>\n      <td>3</td>\n      <td>1.000000</td>\n      <td>...</td>\n      <td>2456</td>\n      <td>276</td>\n      <td>238</td>\n      <td>15</td>\n      <td>19</td>\n      <td>23</td>\n      <td>19</td>\n      <td>Vascular stroma</td>\n      <td>28429.981116</td>\n      <td>Vascularstroma</td>\n    </tr>\n    <tr>\n      <th>2</th>\n      <td>4905</td>\n      <td>SeuratProject</td>\n      <td>712</td>\n      <td>556</td>\n      <td>4905</td>\n      <td>35944.280433</td>\n      <td>556</td>\n      <td>712</td>\n      <td>36</td>\n      <td>5.056179</td>\n      <td>...</td>\n      <td>2456</td>\n      <td>537</td>\n      <td>478</td>\n      <td>15</td>\n      <td>19</td>\n      <td>23</td>\n      <td>19</td>\n      <td>Vascular stroma</td>\n      <td>28751.214988</td>\n      <td>Vascularstroma</td>\n    </tr>\n    <tr>\n      <th>3</th>\n      <td>4906</td>\n      <td>SeuratProject</td>\n      <td>354</td>\n      <td>299</td>\n      <td>4906</td>\n      <td>36503.387933</td>\n      <td>299</td>\n      <td>354</td>\n      <td>10</td>\n      <td>2.824859</td>\n      <td>...</td>\n      <td>2456</td>\n      <td>325</td>\n      <td>275</td>\n      <td>15</td>\n      <td>19</td>\n      <td>23</td>\n      <td>19</td>\n      <td>Vascular stroma</td>\n      <td>28751.214988</td>\n      <td>Vascularstroma</td>\n    </tr>\n    <tr>\n      <th>4</th>\n      <td>4907</td>\n      <td>SeuratProject</td>\n      <td>159</td>\n      <td>137</td>\n      <td>4907</td>\n      <td>37062.495433</td>\n      <td>137</td>\n      <td>159</td>\n      <td>1</td>\n      <td>0.628931</td>\n      <td>...</td>\n      <td>2456</td>\n      <td>228</td>\n      <td>128</td>\n      <td>15</td>\n      <td>19</td>\n      <td>23</td>\n      <td>19</td>\n      <td>Vascular stroma</td>\n      <td>28751.214988</td>\n      <td>Vascularstroma</td>\n    </tr>\n    <tr>\n      <th>...</th>\n      <td>...</td>\n      <td>...</td>\n      <td>...</td>\n      <td>...</td>\n      <td>...</td>\n      <td>...</td>\n      <td>...</td>\n      <td>...</td>\n      <td>...</td>\n      <td>...</td>\n      <td>...</td>\n      <td>...</td>\n      <td>...</td>\n      <td>...</td>\n      <td>...</td>\n      <td>...</td>\n      <td>...</td>\n      <td>...</td>\n      <td>...</td>\n      <td>...</td>\n      <td>...</td>\n    </tr>\n    <tr>\n      <th>55473</th>\n      <td>141910</td>\n      <td>SeuratProject</td>\n      <td>157</td>\n      <td>141</td>\n      <td>141910</td>\n      <td>112694.529966</td>\n      <td>141</td>\n      <td>157</td>\n      <td>2</td>\n      <td>1.273885</td>\n      <td>...</td>\n      <td>2659</td>\n      <td>225</td>\n      <td>133</td>\n      <td>0</td>\n      <td>0</td>\n      <td>0</td>\n      <td>0</td>\n      <td>low_UMI</td>\n      <td>97357.408058</td>\n      <td>lowUMI</td>\n    </tr>\n    <tr>\n      <th>55474</th>\n      <td>141913</td>\n      <td>SeuratProject</td>\n      <td>104</td>\n      <td>94</td>\n      <td>141913</td>\n      <td>114371.379966</td>\n      <td>94</td>\n      <td>104</td>\n      <td>5</td>\n      <td>4.807692</td>\n      <td>...</td>\n      <td>2659</td>\n      <td>159</td>\n      <td>94</td>\n      <td>3</td>\n      <td>2</td>\n      <td>5</td>\n      <td>2</td>\n      <td>Adipocytes</td>\n      <td>97357.408058</td>\n      <td>Adipocytes</td>\n    </tr>\n    <tr>\n      <th>55475</th>\n      <td>141914</td>\n      <td>SeuratProject</td>\n      <td>260</td>\n      <td>225</td>\n      <td>141914</td>\n      <td>114930.329966</td>\n      <td>225</td>\n      <td>260</td>\n      <td>4</td>\n      <td>1.538462</td>\n      <td>...</td>\n      <td>2659</td>\n      <td>268</td>\n      <td>211</td>\n      <td>6</td>\n      <td>1</td>\n      <td>26</td>\n      <td>1</td>\n      <td>low_UMI</td>\n      <td>97357.408058</td>\n      <td>lowUMI</td>\n    </tr>\n    <tr>\n      <th>55476</th>\n      <td>141915</td>\n      <td>SeuratProject</td>\n      <td>124</td>\n      <td>119</td>\n      <td>141915</td>\n      <td>115489.279966</td>\n      <td>119</td>\n      <td>124</td>\n      <td>2</td>\n      <td>1.612903</td>\n      <td>...</td>\n      <td>2659</td>\n      <td>179</td>\n      <td>116</td>\n      <td>1</td>\n      <td>1</td>\n      <td>1</td>\n      <td>1</td>\n      <td>low_UMI</td>\n      <td>97357.408058</td>\n      <td>lowUMI</td>\n    </tr>\n    <tr>\n      <th>55477</th>\n      <td>141916</td>\n      <td>SeuratProject</td>\n      <td>103</td>\n      <td>89</td>\n      <td>141916</td>\n      <td>116048.229966</td>\n      <td>89</td>\n      <td>103</td>\n      <td>0</td>\n      <td>0.000000</td>\n      <td>...</td>\n      <td>2659</td>\n      <td>166</td>\n      <td>89</td>\n      <td>1</td>\n      <td>1</td>\n      <td>1</td>\n      <td>1</td>\n      <td>low_UMI</td>\n      <td>97357.408058</td>\n      <td>lowUMI</td>\n    </tr>\n  </tbody>\n</table>\n<p>55478 rows × 27 columns</p>\n</div>"
     },
     "execution_count": 15,
     "metadata": {},
     "output_type": "execute_result"
    }
   ],
   "source": [
    "%%time\n",
    "spatial_meta_file = os.path.join(data_dir,'metadata_fc_51_4.csv')\n",
    "spatial_meta = pd.read_csv(spatial_meta_file)\n",
    "spatial_meta"
   ],
   "metadata": {
    "collapsed": false,
    "pycharm": {
     "name": "#%%\n"
    }
   }
  },
  {
   "cell_type": "code",
   "execution_count": 17,
   "metadata": {
    "pycharm": {
     "name": "#%%\n"
    }
   },
   "outputs": [],
   "source": [
    "meta_o_interest = ['Annotation_1']\n",
    "create_metadata_files(spatial_meta,meta_o_interest,'spatial','data')"
   ]
  }
 ],
 "metadata": {
  "kernelspec": {
   "display_name": "Python 3",
   "language": "python",
   "name": "python3"
  },
  "language_info": {
   "codemirror_mode": {
    "name": "ipython",
    "version": 3
   },
   "file_extension": ".py",
   "mimetype": "text/x-python",
   "name": "python",
   "nbconvert_exporter": "python",
   "pygments_lexer": "ipython3",
   "version": "3.9.7"
  }
 },
 "nbformat": 4,
 "nbformat_minor": 1
}