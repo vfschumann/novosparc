{
 "cells": [
  {
   "cell_type": "markdown",
   "source": [
    "# Terminal commands for data access\n",
    "\n",
    "```\n",
    "autossh -AtX vschuma@ssh1.mdc-berlin.de ssh vschuma@murphy.mdc-berlin.net\n",
    "# open the ssh screen and/or type\n",
    "ssh -NR 6667:localhost:22 vfs@79.197.179.128 (current network ID)\n",
    "\n",
    "# mount\n",
    "sshfs -p 6667 vschuma@localhost:/data/local/rajewsky/home/vschuma /mnt/murphy_workspace/\n",
    "or\n",
    "sshfs vschuma@murphy:/data/local/rajewsky/home/vschuma/ ~/mounts/murphy_workspace/\n",
    "\n",
    "# if working with the mount is to slow, copy the data to a ramdisk\n",
    "sudo mount -t tmpfs -o size=6g tmpfs /mnt/ramdisk/\n",
    "\n",
    "# then copy the file to the ramdisk\n",
    "mkdir /mnt/ramdisk/data && rsync -av /mnt/murphy_workspace/NSTT/data/GarciaAlsono_uterus/hot_data/* /mnt/ramdisk/data\n",
    "or\n",
    "mkdir /dev/shm/data && rsync -av /home/vschuma/mounts/murphy_workspace/NSTT/data/GarciaAlsono_uterus/hot_data/* /dev/shm/data/\n",
    "# symlink inside the pycharm project to the data dir\n",
    "(example command)\n",
    "ln -s /mnt/ramdisk/data data\n",
    "e.g.: ln -s /mnt/murphy_workspace/NSTT/data/ data\n",
    "or\n",
    "ln -s /dev/shm/data/ data\n",
    "```"
   ],
   "metadata": {
    "collapsed": false,
    "pycharm": {
     "name": "#%% md\n"
    }
   }
  },
  {
   "cell_type": "code",
   "execution_count": 1,
   "outputs": [],
   "source": [
    "%matplotlib inline\n",
    "import anndata\n",
    "import novosparc\n",
    "import os\n",
    "import numpy as np\n",
    "import pandas as pd\n",
    "import scanpy as sc\n",
    "import seaborn as sns\n",
    "from matplotlib.pyplot import figure\n",
    "import matplotlib.pyplot as plt\n",
    "import copy\n",
    "\n",
    "\n",
    "import plotly.express as px\n",
    "import plotly.graph_objects as go"
   ],
   "metadata": {
    "collapsed": false,
    "pycharm": {
     "name": "#%%\n"
    }
   }
  },
  {
   "cell_type": "markdown",
   "source": [
    "# Reading data\n",
    "I got the data from Anna & Tancredi. The spatial file is 6w tumor slide, spatial in-house method processed with spacemake. The other data is annotated single-nuclei data, exported by Anna. Method details - idk.\n",
    "\n",
    "The data is located in Anna's home directory on the lab server:\n",
    "`/data/local/rajewsky/home/aantona/novaseq/H5AD_snRNA_ST/`\n",
    "I created a symlink within my own directory:\n",
    "`/data/local/rajewsky/home/vschuma/NSTT/data/TNBC`"
   ],
   "metadata": {
    "collapsed": false,
    "pycharm": {
     "name": "#%% md\n"
    }
   }
  },
  {
   "cell_type": "code",
   "execution_count": 2,
   "outputs": [],
   "source": [
    "data_dir = 'data' # symlinked to /data/local/rajewsky/home/vschuma/NSTT/output/LabelTransfer/..."
   ],
   "metadata": {
    "collapsed": false,
    "pycharm": {
     "name": "#%%\n"
    }
   }
  },
  {
   "cell_type": "markdown",
   "source": [
    "## Single-nuclei data\n",
    "\n",
    "The `snRNA_TNBC_integreted.h5ad` file is the processed file from Anna which she imported to seurat, did stuff and all the annotations with it and exported back from seurat --> h5ad."
   ],
   "metadata": {
    "collapsed": false,
    "pycharm": {
     "name": "#%% md\n"
    }
   }
  },
  {
   "cell_type": "markdown",
   "source": [
    "### get from h5ad file"
   ],
   "metadata": {
    "collapsed": false,
    "pycharm": {
     "name": "#%% md\n"
    }
   }
  },
  {
   "cell_type": "code",
   "execution_count": 4,
   "outputs": [
    {
     "name": "stdout",
     "output_type": "stream",
     "text": [
      "AnnData object with n_obs × n_vars = 26978 × 3000\n",
      "    obs: 'orig.ident', 'nCount_RNA', 'nFeature_RNA', 'nCount_SCT', 'nFeature_SCT', 'percent_MT', 'SCT_snn_res.0.8', 'Seurat_clusters_individual', 'S.Score', 'G2M.Score', 'Phase', 'doublet_score', 'doublet_assignment', 'annotated_idents', 'condition', 'annotated_Cellcompartments', 'annotated_Celltypes', 'annotated_Cellcompartments2', 'seurat_clusters', 'annotated_CelltypesState.res.2', 'annotated_compartment.res.2', 'annotated_compartmentCellType.res.2', 'celltype_res2.condition', 'celltype_res2', 'annotated_compartmentCellType2.res.2', 'Reannotation_detailed', 'Reannotation_global', 'celltype.condition', 'ConditionGlobal'\n",
      "    var: 'features', 'SCT_features'\n",
      "    uns: 'neighbors'\n",
      "    obsm: 'X_pca', 'X_umap'\n",
      "    varm: 'PCs'\n",
      "    layers: 'SCT'\n",
      "    obsp: 'distances'\n",
      "CPU times: user 242 ms, sys: 1.38 s, total: 1.62 s\n",
      "Wall time: 28.2 s\n"
     ]
    }
   ],
   "source": [
    "%%time\n",
    "\n",
    "sn_file = os.path.join(data_dir,\"TNBC_sn_reduced.h5ad\") # whatever reduced sample file\n",
    "adata_sn = sc.read_h5ad(sn_file) # this is ~10GB RAM\n",
    "print(adata_sn)"
   ],
   "metadata": {
    "collapsed": false,
    "pycharm": {
     "name": "#%%\n"
    }
   }
  },
  {
   "cell_type": "markdown",
   "source": [],
   "metadata": {
    "collapsed": false,
    "pycharm": {
     "name": "#%% md\n"
    }
   }
  },
  {
   "cell_type": "markdown",
   "source": [
    "### save h5ad as pickle"
   ],
   "metadata": {
    "collapsed": false,
    "pycharm": {
     "name": "#%% md\n"
    }
   }
  },
  {
   "cell_type": "code",
   "execution_count": null,
   "outputs": [
    {
     "ename": "KeyboardInterrupt",
     "evalue": "",
     "output_type": "error",
     "traceback": [
      "\u001B[0;31m---------------------------------------------------------------------------\u001B[0m",
      "\u001B[0;31mKeyboardInterrupt\u001B[0m                         Traceback (most recent call last)",
      "Input \u001B[0;32mIn [18]\u001B[0m, in \u001B[0;36m<cell line: 7>\u001B[0;34m()\u001B[0m\n\u001B[1;32m      5\u001B[0m picklefile \u001B[38;5;241m=\u001B[39m \u001B[38;5;28mopen\u001B[39m(tissue_file, \u001B[38;5;124m'\u001B[39m\u001B[38;5;124mwb\u001B[39m\u001B[38;5;124m'\u001B[39m)\n\u001B[1;32m      6\u001B[0m \u001B[38;5;66;03m#pickle the dictionary and write it to file\u001B[39;00m\n\u001B[0;32m----> 7\u001B[0m \u001B[43mpickle\u001B[49m\u001B[38;5;241;43m.\u001B[39;49m\u001B[43mdump\u001B[49m\u001B[43m(\u001B[49m\u001B[43madata_sn\u001B[49m\u001B[43m,\u001B[49m\u001B[43m \u001B[49m\u001B[43mpicklefile\u001B[49m\u001B[43m)\u001B[49m\n\u001B[1;32m      8\u001B[0m \u001B[38;5;66;03m#close the file\u001B[39;00m\n\u001B[1;32m      9\u001B[0m picklefile\u001B[38;5;241m.\u001B[39mclose()\n",
      "\u001B[0;31mKeyboardInterrupt\u001B[0m: "
     ]
    }
   ],
   "source": [
    "import pickle"
   ],
   "metadata": {
    "collapsed": false,
    "pycharm": {
     "name": "#%%\n"
    }
   }
  },
  {
   "cell_type": "code",
   "execution_count": 20,
   "outputs": [],
   "source": [
    "save_dir = 'data'\n",
    "#create a pickle file\n",
    "snRNA_file = os.path.join(save_dir, \"TNBC_snRNA_integrated.zip\")"
   ],
   "metadata": {
    "collapsed": false,
    "pycharm": {
     "name": "#%%\n"
    }
   }
  },
  {
   "cell_type": "code",
   "execution_count": 22,
   "outputs": [
    {
     "ename": "KeyboardInterrupt",
     "evalue": "",
     "output_type": "error",
     "traceback": [
      "\u001B[0;31m---------------------------------------------------------------------------\u001B[0m",
      "\u001B[0;31mKeyboardInterrupt\u001B[0m                         Traceback (most recent call last)",
      "File \u001B[0;32m<timed exec>:3\u001B[0m, in \u001B[0;36m<module>\u001B[0;34m\u001B[0m\n",
      "\u001B[0;31mKeyboardInterrupt\u001B[0m: "
     ]
    }
   ],
   "source": [
    "%%time\n",
    "picklefile = open(snRNA_file, 'wb')\n",
    "#pickle the dictionary and write it to file\n",
    "pickle.dump(adata_sn, picklefile)\n",
    "#close the file\n",
    "picklefile.close()"
   ],
   "metadata": {
    "collapsed": false,
    "pycharm": {
     "name": "#%%\n"
    }
   }
  },
  {
   "cell_type": "markdown",
   "source": [
    "### get from pickle"
   ],
   "metadata": {
    "collapsed": false,
    "pycharm": {
     "name": "#%% md\n"
    }
   }
  },
  {
   "cell_type": "code",
   "execution_count": 23,
   "outputs": [
    {
     "ename": "EOFError",
     "evalue": "Ran out of input",
     "output_type": "error",
     "traceback": [
      "\u001B[0;31m---------------------------------------------------------------------------\u001B[0m",
      "\u001B[0;31mEOFError\u001B[0m                                  Traceback (most recent call last)",
      "File \u001B[0;32m<timed exec>:3\u001B[0m, in \u001B[0;36m<module>\u001B[0;34m\u001B[0m\n",
      "\u001B[0;31mEOFError\u001B[0m: Ran out of input"
     ]
    }
   ],
   "source": [
    "%%time\n",
    "picklefile = open(snRNA_file, 'rb')\n",
    "#unpickle the dataframe\n",
    "adata_sn = pickle.load(picklefile)\n",
    "print(type(adata_sn))"
   ],
   "metadata": {
    "collapsed": false,
    "pycharm": {
     "name": "#%%\n"
    }
   }
  },
  {
   "cell_type": "code",
   "execution_count": 26,
   "outputs": [],
   "source": [
    "# outfile = 'output/TNBC_sn_reduced.h5ad'\n",
    "# # there seems to be some naming issue coming from seurat, found this hack at: https://github.com/theislab/scvelo/issues/255\n",
    "# adata_reduced.__dict__['_raw'].__dict__['_var'] = adata_reduced.__dict__['_raw'].__dict__['_var'].rename(columns={'_index': 'features'})\n",
    "# adata_reduced.write(outfile)"
   ],
   "metadata": {
    "collapsed": false,
    "pycharm": {
     "name": "#%%\n"
    }
   }
  },
  {
   "cell_type": "markdown",
   "source": [
    "# Extract single parts for reconstruction\n",
    "## DGE"
   ],
   "metadata": {
    "collapsed": false,
    "pycharm": {
     "name": "#%% md\n"
    }
   }
  },
  {
   "cell_type": "code",
   "execution_count": 16,
   "outputs": [],
   "source": [
    "sn_dge = pd.DataFrame(adata_sn.X, columns=adata_sn.var_names) # 3k genes, 26978 cells"
   ],
   "metadata": {
    "collapsed": false,
    "pycharm": {
     "name": "#%%\n"
    }
   }
  },
  {
   "cell_type": "code",
   "execution_count": 17,
   "outputs": [],
   "source": [
    "savepath = os.path.join(data_dir,'TNBC_sn_integrated_dge.zip')\n",
    "sn_dge.to_pickle(savepath)"
   ],
   "metadata": {
    "collapsed": false,
    "pycharm": {
     "name": "#%%\n"
    }
   }
  },
  {
   "cell_type": "markdown",
   "source": [
    "## Metadata\n",
    "* 'Phase'\n",
    "* 'annotated_idents'\n",
    "* 'condition'\n",
    "* 'annotated_Cellcompartments'\n",
    "* 'annotated_Celltypes'"
   ],
   "metadata": {
    "collapsed": false,
    "pycharm": {
     "name": "#%% md\n"
    }
   }
  },
  {
   "cell_type": "markdown",
   "source": [],
   "metadata": {
    "collapsed": false,
    "pycharm": {
     "name": "#%% md\n"
    }
   }
  },
  {
   "cell_type": "code",
   "execution_count": null,
   "outputs": [],
   "source": [
    "meta_o_interest = ['Phase','annotated_idents','celltype.condition']\n",
    "\n",
    "# meta interest but it's only numbers\n",
    "meta_notUsable = ['annotated_Cellcompartments','annotated_Celltypes','Reannotation_global','Reannotation_detailed']"
   ],
   "metadata": {
    "collapsed": false,
    "pycharm": {
     "name": "#%%\n"
    }
   }
  },
  {
   "cell_type": "code",
   "execution_count": null,
   "outputs": [],
   "source": [
    "for annotation in meta_o_interest:\n",
    "    # create acceptable filename\n",
    "    if '.' in annotation:\n",
    "        suffix = annotation.replace(\".\",\"_\").lower()\n",
    "    else:\n",
    "        suffix = annotation.lower()\n",
    "\n",
    "    filename = f\"TNBC_meta_{suffix}.csv\"\n",
    "    outdir = \"output\"\n",
    "    filename = os.path.join(outdir,filename)\n",
    "    # save as csv\n",
    "    adata_sn.obs[annotation].to_csv(filename, index=False)"
   ],
   "metadata": {
    "collapsed": false,
    "pycharm": {
     "name": "#%%\n"
    }
   }
  },
  {
   "cell_type": "code",
   "execution_count": null,
   "outputs": [],
   "source": [],
   "metadata": {
    "collapsed": false,
    "pycharm": {
     "name": "#%%\n"
    }
   }
  },
  {
   "cell_type": "code",
   "execution_count": 15,
   "outputs": [
    {
     "data": {
      "text/plain": "AAACCCAAGCTTCATG-1_1    20\nAAACCCAAGCTTGTGT-1_1     4\nAAACCCAAGGCTTTCA-1_1    22\nAAACCCACAACAACAA-1_1    35\nAAACCCACAATACGCT-1_1    23\n                        ..\nTTTGTTGAGCAGGCTA-1_3     9\nTTTGTTGAGGTCGACA-1_3    20\nTTTGTTGAGTGTAGTA-1_3     1\nTTTGTTGCAGAACTAA-1_3    13\nTTTGTTGGTCTCGACG-1_3     3\nName: seurat_clusters, Length: 26978, dtype: int32"
     },
     "execution_count": 15,
     "metadata": {},
     "output_type": "execute_result"
    }
   ],
   "source": [],
   "metadata": {
    "collapsed": false,
    "pycharm": {
     "name": "#%%\n"
    }
   }
  },
  {
   "cell_type": "code",
   "execution_count": null,
   "outputs": [],
   "source": [],
   "metadata": {
    "collapsed": false,
    "pycharm": {
     "name": "#%%\n"
    }
   }
  }
 ],
 "metadata": {
  "kernelspec": {
   "display_name": "Python 3",
   "language": "python",
   "name": "python3"
  },
  "language_info": {
   "codemirror_mode": {
    "name": "ipython",
    "version": 2
   },
   "file_extension": ".py",
   "mimetype": "text/x-python",
   "name": "python",
   "nbconvert_exporter": "python",
   "pygments_lexer": "ipython2",
   "version": "2.7.6"
  }
 },
 "nbformat": 4,
 "nbformat_minor": 0
}