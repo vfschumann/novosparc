{
 "cells": [
  {
   "cell_type": "markdown",
   "source": [
    "# Terminal commands for data access\n",
    "\n",
    "```\n",
    "autossh -AtX vschuma@ssh1.mdc-berlin.de ssh vschuma@murphy.mdc-berlin.net\n",
    "# open the ssh screen and/or type\n",
    "ssh -NR 6667:localhost:22 vfs@79.197.179.128 (current network ID)\n",
    "\n",
    "# mount\n",
    "sshfs -p 6667 vschuma@localhost:/data/local/rajewsky/home/vschuma /mnt/murphy_workspace/\n",
    "or\n",
    "sshfs vschuma@murphy:/data/local/rajewsky/home/vschuma/ ~/mounts/murphy_workspace/\n",
    "\n",
    "# if working with the mount is to slow, copy the data to a ramdisk\n",
    "sudo mount -t tmpfs -o size=6g tmpfs /mnt/ramdisk/\n",
    "\n",
    "# then copy the file to the ramdisk\n",
    "mkdir /mnt/ramdisk/data && rsync -av /mnt/murphy_workspace/NSTT/data/GarciaAlsono_uterus/hot_data/* /mnt/ramdisk/data\n",
    "or\n",
    "mkdir /dev/shm/data && rsync -av /home/vschuma/mounts/murphy_workspace/NSTT/data/GarciaAlsono_uterus/hot_data/* /dev/shm/data/\n",
    "# symlink inside the pycharm project to the data dir\n",
    "(example command)\n",
    "ln -s /mnt/ramdisk/data data\n",
    "e.g.: ln -s /mnt/murphy_workspace/NSTT/data/ data\n",
    "or\n",
    "ln -s /dev/shm/data/ data\n",
    "```"
   ],
   "metadata": {
    "collapsed": false,
    "pycharm": {
     "name": "#%% md\n"
    }
   }
  },
  {
   "cell_type": "code",
   "execution_count": 4,
   "outputs": [],
   "source": [
    "%matplotlib inline\n",
    "import anndata\n",
    "import novosparc\n",
    "import os\n",
    "import numpy as np\n",
    "import pandas as pd\n",
    "import scanpy as sc\n",
    "import seaborn as sns\n",
    "from matplotlib.pyplot import figure\n",
    "import matplotlib.pyplot as plt\n",
    "\n",
    "import plotly.express as px\n",
    "import plotly.graph_objects as go"
   ],
   "metadata": {
    "collapsed": false,
    "pycharm": {
     "name": "#%%\n"
    }
   }
  },
  {
   "cell_type": "markdown",
   "source": [
    "# Reading data\n",
    "I got the data from Anna & Tancredi. The spatial file is 6w tumor slide, spatial in-house method processed with spacemake. The other data is annotated single-nuclei data, exported by Anna. Method details - idk.\n",
    "\n",
    "The data is located in Anna's home directory on the lab server:\n",
    "`/data/local/rajewsky/home/aantona/novaseq/H5AD_snRNA_ST/`\n",
    "I created a symlink within my own directory:\n",
    "`/data/local/rajewsky/home/vschuma/NSTT/data/TNBC`"
   ],
   "metadata": {
    "collapsed": false,
    "pycharm": {
     "name": "#%% md\n"
    }
   }
  },
  {
   "cell_type": "markdown",
   "source": [
    "## Spatial data"
   ],
   "metadata": {
    "collapsed": false,
    "pycharm": {
     "name": "#%% md\n"
    }
   }
  }
 ],
 "metadata": {
  "kernelspec": {
   "display_name": "Python 3",
   "language": "python",
   "name": "python3"
  },
  "language_info": {
   "codemirror_mode": {
    "name": "ipython",
    "version": 2
   },
   "file_extension": ".py",
   "mimetype": "text/x-python",
   "name": "python",
   "nbconvert_exporter": "python",
   "pygments_lexer": "ipython2",
   "version": "2.7.6"
  }
 },
 "nbformat": 4,
 "nbformat_minor": 0
}
