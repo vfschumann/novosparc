{
 "cells": [
  {
   "cell_type": "markdown",
   "source": [
    "ToDo: In this notebook....."
   ],
   "metadata": {
    "collapsed": false,
    "pycharm": {
     "name": "#%% md\n"
    }
   }
  },
  {
   "cell_type": "markdown",
   "source": [
    "# Imports and Functions"
   ],
   "metadata": {
    "collapsed": false,
    "pycharm": {
     "name": "#%% md\n"
    }
   }
  },
  {
   "cell_type": "code",
   "execution_count": 1,
   "outputs": [
    {
     "data": {
      "text/plain": "<Figure size 432x288 with 0 Axes>"
     },
     "metadata": {},
     "output_type": "display_data"
    }
   ],
   "source": [
    "from importlib import reload\n",
    "\n",
    "import anndata\n",
    "%matplotlib inline\n",
    "\n",
    "import importlib.util\n",
    "import sys\n",
    "spec = importlib.util.spec_from_file_location(\"novosparc\", \"/home/vfs/PycharmProjects/rajewskyLab/novosparc/novosparc/__init__.py\")\n",
    "novosparc = importlib.util.module_from_spec(spec)\n",
    "sys.modules[\"novosparc\"] = novosparc\n",
    "spec.loader.exec_module(novosparc)\n",
    "\n",
    "# import novosparc\n",
    "import os\n",
    "import numpy as np\n",
    "import pandas as pd\n",
    "import scanpy as sc\n",
    "import seaborn as sns\n",
    "from matplotlib.pyplot import figure\n",
    "import matplotlib.pyplot as plt\n",
    "plt.viridis()\n",
    "from matplotlib.gridspec import GridSpec\n",
    "# import altair as alt\n",
    "from scipy.spatial.distance import cdist, squareform, pdist\n",
    "from scipy.stats import ks_2samp\n",
    "from scipy.stats import pearsonr\n",
    "from scipy.stats import spearmanr\n",
    "from scipy.stats import zscore\n",
    "import sklearn\n",
    "from sklearn.preprocessing import scale\n",
    "from skimage import data, img_as_float\n",
    "from skimage.metrics import structural_similarity as ssim\n",
    "from skimage.metrics import mean_squared_error\n",
    "import random"
   ],
   "metadata": {
    "collapsed": false,
    "pycharm": {
     "name": "#%%\n"
    }
   }
  },
  {
   "cell_type": "markdown",
   "source": [
    "## Correlation measurement functions"
   ],
   "metadata": {
    "collapsed": false,
    "pycharm": {
     "name": "#%% md\n"
    }
   }
  },
  {
   "cell_type": "code",
   "execution_count": 2,
   "outputs": [
    {
     "data": {
      "text/plain": "<Figure size 432x288 with 0 Axes>"
     },
     "metadata": {},
     "output_type": "display_data"
    }
   ],
   "source": [
    "def mse(actual, pred):\n",
    "    actual, pred = np.array(actual), np.array(pred)\n",
    "    return np.square(np.subtract(actual,pred)).mean()\n",
    "\n",
    "def rmse(actual, pred):\n",
    "    actual, pred = np.array(actual), np.array(pred)\n",
    "    return np.sqrt(np.square(np.subtract(actual,pred)).mean())\n",
    "\n",
    "def mean_pearson(actual, pred):\n",
    "    r_per_gene = []\n",
    "    for i in range(actual.shape[1]):\n",
    "        r_score,p_value = pearsonr(actual[:,i],\n",
    "                 pred[:,i])\n",
    "        r_per_gene.append(r_score) # assumption all p-values are acceptable ToDo: make version with filtering for p-values\n",
    "    return r_per_gene, np.mean(r_per_gene)\n",
    "\n",
    "def mean_spearman(actual, pred):\n",
    "    r_per_gene = []\n",
    "    for i in range(actual.shape[1]):\n",
    "        r_score,p_value = spearmanr(actual[:,i],\n",
    "                 pred[:,i])\n",
    "        r_per_gene.append(r_score) # assumption all p-values are acceptable ToDo: make version with filtering for p-values\n",
    "    return r_per_gene, np.mean(r_per_gene)\n",
    "\n",
    "def box_swarm_label(plot_df, score_name, single_dfs=None):\n",
    "    ## plot_df must contain columns \"gene\", \"r score (pearson)\", and \"method\" (being the  reconstruction/cleaning)\n",
    "\n",
    "    figure(figsize=(11, 12), dpi=80)\n",
    "\n",
    "    sns.boxplot(x=\"method\", y=score_name, data=plot_df, whis=np.inf)\n",
    "    sns.swarmplot(x=\"method\", y=score_name, data=plot_df,\n",
    "                  palette=[\"crimson\",\"indigo\"])\n",
    "\n",
    "    if single_dfs:\n",
    "        for counter, single_df in enumerate(single_dfs):\n",
    "\n",
    "            for x,y, label in zip([counter]*len(plot_df), single_df[score_name], single_df[\"gene\"]):\n",
    "                plt.text(x = x + 0.1, y = y,\n",
    "                         s = label,\n",
    "                         rotation= 45)\n",
    "    plt.show()\n",
    "\n",
    "def filter_matrix_for_genes(dataframe, gene_list):\n",
    "    filtered_df = dataframe[dataframe.gene.isin(gene_list)]\n",
    "    return filtered_df\n",
    "\n",
    "def mean_ssim(actual, pred):\n",
    "    ssim_per_gene = []\n",
    "    for i in range(actual.shape[1]):\n",
    "        ssim_score= ssim(actual[:,i],pred[:,i],\n",
    "                         data_range= pred[:,i].max() -  pred[:,i].min())\n",
    "        ssim_per_gene.append(ssim_score) # assumption all p-values are acceptable ToDo: make version with filtering for p-values\n",
    "    return ssim_per_gene, np.mean(ssim_per_gene)\n",
    "# def invest_plot_for_correlations(truth_df, list_of_expression_mtrx, list_of_special_genes, list_of_score_cutoffs)\n",
    "# ToDo\n",
    "plt.viridis()"
   ],
   "metadata": {
    "collapsed": false,
    "pycharm": {
     "name": "#%%\n"
    }
   }
  },
  {
   "cell_type": "code",
   "execution_count": null,
   "outputs": [],
   "source": [],
   "metadata": {
    "collapsed": false,
    "pycharm": {
     "name": "#%%\n"
    }
   }
  }
 ],
 "metadata": {
  "kernelspec": {
   "display_name": "Python 3",
   "language": "python",
   "name": "python3"
  },
  "language_info": {
   "codemirror_mode": {
    "name": "ipython",
    "version": 2
   },
   "file_extension": ".py",
   "mimetype": "text/x-python",
   "name": "python",
   "nbconvert_exporter": "python",
   "pygments_lexer": "ipython2",
   "version": "2.7.6"
  }
 },
 "nbformat": 4,
 "nbformat_minor": 0
}