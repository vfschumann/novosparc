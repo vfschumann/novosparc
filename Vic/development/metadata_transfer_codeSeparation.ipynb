{
 "cells": [
  {
   "cell_type": "markdown",
   "source": [
    "# This is the notebook for separating code and develop the functions to finally be able to transfer it to scripts"
   ],
   "metadata": {
    "collapsed": false,
    "pycharm": {
     "name": "#%% md\n"
    }
   }
  },
  {
   "cell_type": "code",
   "execution_count": 10,
   "outputs": [],
   "source": [
    "%matplotlib inline\n",
    "import novosparc\n",
    "import os\n",
    "import numpy as np\n",
    "import pandas as pd\n",
    "import pickle\n",
    "\n",
    "import plotly.express as px\n",
    "import plotly.graph_objects as go"
   ],
   "metadata": {
    "collapsed": false,
    "pycharm": {
     "name": "#%%\n"
    }
   }
  },
  {
   "cell_type": "markdown",
   "source": [
    "# Input:\n",
    "\n",
    "* `tissue.gw` (from novosparc reconstruction)\n",
    "* meta data as csv, read in as pd.df(X,1"
   ],
   "metadata": {
    "collapsed": false,
    "pycharm": {
     "name": "#%% md\n"
    }
   }
  },
  {
   "cell_type": "code",
   "execution_count": null,
   "outputs": [],
   "source": [
    "data_dir = 'data'\n",
    "meta_ct_path = os.path.join(data_dir, \"mouse_brain_meta_ct.csv\")\n",
    "cell_types_raw = pd.read_csv(meta_ct_path)"
   ],
   "metadata": {
    "collapsed": false,
    "pycharm": {
     "name": "#%%\n"
    }
   }
  },
  {
   "cell_type": "code",
   "execution_count": 14,
   "outputs": [
    {
     "name": "stdout",
     "output_type": "stream",
     "text": [
      "CPU times: user 3.21 ms, sys: 12 ms, total: 15.2 ms\n",
      "Wall time: 14.4 ms\n"
     ]
    }
   ],
   "source": [
    "%%time\n",
    "#read the pickle file\n",
    "tissue_file = \"tissue_gw.pkl\"\n",
    "picklefile = open(tissue_file, 'rb')\n",
    "#unpickle the dataframe\n",
    "pckl_matrix = pickle.load(picklefile)\n",
    "#close file\n",
    "picklefile.close()\n",
    "\n",
    "gw_matrix = pd.DataFrame(pckl_matrix)"
   ],
   "metadata": {
    "collapsed": false,
    "pycharm": {
     "name": "#%%\n"
    }
   }
  },
  {
   "cell_type": "code",
   "execution_count": 15,
   "outputs": [
    {
     "name": "stdout",
     "output_type": "stream",
     "text": [
      "(2688, 1)\n",
      "(2688, 2688)\n",
      "<class 'pandas.core.frame.DataFrame'>\n"
     ]
    }
   ],
   "source": [
    "print(cell_types_raw.shape)\n",
    "print(gw_matrix.shape)\n",
    "print(type(gw_matrix))"
   ],
   "metadata": {
    "collapsed": false,
    "pycharm": {
     "name": "#%%\n"
    }
   }
  },
  {
   "cell_type": "markdown",
   "source": [
    "# onehot encoding/df merging"
   ],
   "metadata": {
    "collapsed": false,
    "pycharm": {
     "name": "#%% md\n"
    }
   }
  },
  {
   "cell_type": "code",
   "execution_count": null,
   "outputs": [],
   "source": [
    "def merge_meta_gw(gw_matrix, meta_matrix):\n",
    "    \"\"\"\n",
    "    gw_matrix - pd.DataFrame, from tissue object (tissue.gw)\n",
    "    meta_matrix - pd.DataFrame, meta data (x,1), row length (cells?) must match gw_matrix\n",
    "    \"\"\"\n",
    "\n",
    "    # ToDo: Implement Check for matching dimensions\n",
    "\n",
    "    # use one-hot encoding for meta-data labels\n",
    "    meta_encode = pd.get_dummies(meta_matrix)\n",
    "    # get unique lsit of labels\n",
    "    unque_lbs = list(meta_matrix[0].unique())\n",
    "    # merge matrixes\n",
    "    meta_gw_merge = np.dot(gw_matrix.T,meta_encode) # transpose to get locations as rows\n",
    "    # dataframe with column names\n",
    "    meta_gw_df = pd.DataFrame(meta_gw_merge, columns = unque_lbs)\n",
    "\n",
    "    return meta_gw_df\n",
    "\n",
    "def meta_to_tissue(list_of_metagw_names, list_of_metagw_df, tissue):\n",
    "    \"\"\"\n",
    "    list_of_metagw_names - list containing strings of names of meta_gw matrices to be added to the tissue obj, ordering has to match ordering in list_of_metagw_df\n",
    "    list_of_metagw_df - list containing dataframes to add, ordering has to match ordering in list_of_metagw_df\n",
    "    tissue - tissue object, output from novosparc.reconstruct\n",
    "    \"\"\"\n",
    "    # ToDo # this is a quick and dirty way, there is a more clean way here: https://stackoverflow.com/questions/18425225/getting-the-name-of-a-variable-as-a-string but I'm not so sure about using an additional package for this\n",
    "\n",
    "    # ToDo: implement check for matching length of the both lists\n",
    "\n",
    "    metadata_mapped = dict()\n",
    "\n",
    "    for df_name in list_of_metagw_names:\n",
    "        for df in list_of_metagw_df: # this assumes the usage of only a few metadata sets, not really a scalable approach\n",
    "            metadata_mapped[df_name] = df\n",
    "\n",
    "    tissue.metadata = metadata_mapped\n",
    "    print(\"tissue object modified with set of metadata dataframes\")"
   ],
   "metadata": {
    "collapsed": false,
    "pycharm": {
     "name": "#%%\n"
    }
   }
  },
  {
   "cell_type": "markdown",
   "source": [
    "**Plotting meta data lable specific works further with:**\n",
    "```\n",
    "pl_genes =[\"some\", \"genes\"]\n",
    "dataset_to_plot = sc.AnnData(tissue.metadata[\">>name_of_metadata_label<<\"], dtype=float)\n",
    "dataset_to_plot.obsm['spatial'] = locations\n",
    "novosparc.pl.embedding(dataset_to_plot, pl_genes)\n",
    "```"
   ],
   "metadata": {
    "collapsed": false,
    "pycharm": {
     "name": "#%% md\n"
    }
   }
  },
  {
   "cell_type": "markdown",
   "source": [
    "# Dataframes for \"hightes mapping prop\" plots"
   ],
   "metadata": {
    "collapsed": false,
    "pycharm": {
     "name": "#%% md\n"
    }
   }
  },
  {
   "cell_type": "code",
   "execution_count": null,
   "outputs": [],
   "source": [
    "def get_highest_prop_lbl(meta_array, plot_anndata):\n",
    "    \"\"\"\n",
    "    meta_array = pd.Df of the metadata to plot\n",
    "    plot_anndata = anndata version of the metadata matrix for plotting (compare w dataset_tissue)\n",
    "    \"\"\"\n",
    "    # find max value in the row\n",
    "    out_array = np.amax(np.array(meta_array), axis=1)\n",
    "    # find the values column name - get the index\n",
    "    out_array = np.vstack((out_array, np.argmax(np.array(meta_array), axis=1)))\n",
    "    # transform to df to enable multiple data types\n",
    "    out_df = pd.DataFrame(out_array.T)\n",
    "    # write value and column name into the new df\n",
    "    # can I add a new column like this? - yes, but it takes already quite some time\n",
    "    # ToDo: Implement speed up versions Enes wrote to you\n",
    "    out_df[2] = out_df[1].apply(lambda x: meta_array.columns[x])\n",
    "    out_df.columns = [\"mapping_prop_lbl\", \"mapped_lbl_idx\", \"mapped_lbl\"]\n",
    "\n",
    "    # add annotation to the dataset anndata\n",
    "    for col in out_df.columns:\n",
    "        plot_anndata.obsm[col] = out_df[col].to_numpy().reshape(-1,1)\n",
    "\n",
    "    return out_df"
   ],
   "metadata": {
    "collapsed": false,
    "pycharm": {
     "name": "#%%\n"
    }
   }
  },
  {
   "cell_type": "code",
   "execution_count": null,
   "outputs": [],
   "source": [
    "def plot_high_prop_label_no_opac(plot_anndata,width=1000,height=800,plot_bgcolor=\"black\",columnname=\"label\"):\n",
    "    \"\"\"\n",
    "    plot_anndata - anndata version of the metadata matrix for plotting (compare w dataset_tissue) after\n",
    "    \"get_highest_prop_lbl\" processing\n",
    "    \"\"\"\n",
    "\n",
    "    # ToDo: Implement check for existence of \"mapped_lbl\" property\n",
    "\n",
    "\n",
    "    # set coordinates\n",
    "    xy = plot_anndata.obsm['spatial']\n",
    "    x = xy[:, 1]\n",
    "    y = xy[:, 0] if xy.shape[1] > 1 else np.ones_like(x)\n",
    "\n",
    "    # set values\n",
    "    values = plot_anndata.obsm[\"mapped_lbl\"]\n",
    "    plot_df = pd.DataFrame(values, columns=[columnname])\n",
    "\n",
    "    # set figure\n",
    "    fig = px.scatter(plot_df, x=x, y=y, color=columnname,\n",
    "                 width=width, height=height)\n",
    "    fig.update_xaxes(showgrid=False, zeroline=False)\n",
    "    fig.update_yaxes(showgrid=False, zeroline=False)\n",
    "    fig.update_layout(plot_bgcolor=plot_bgcolor)\n",
    "    # ToDo: add color palette option (especially important when doing plots for multiple metadata sets)\n",
    "    fig.show()"
   ],
   "metadata": {
    "collapsed": false,
    "pycharm": {
     "name": "#%%\n"
    }
   }
  },
  {
   "cell_type": "code",
   "execution_count": null,
   "outputs": [],
   "source": [
    "def flatten(l):\n",
    "     return [item for sublist in l for item in sublist]\n",
    "\n",
    "def plot_high_prop_label_var_opac_1(plot_anndata, out_df, labelname = \"label\"):\n",
    "    \"\"\"\n",
    "    todo\n",
    "    \"\"\"\n",
    "\n",
    "    # ToDo: Implement check for assumptions (e.g. \"mapped_lbl\")\n",
    "\n",
    "    # labels as discrete colors with strings as label\n",
    "    meta_labels = plot_anndata.obsm[\"mapped_lbl\"]\n",
    "    lbl_idx = out_df[\"mapped_lbl_idx\"]\n",
    "    plot_df = pd.DataFrame({labelname : plot_anndata.obsm[\"mapped_lbl\"].tolist(),\n",
    "                            \"lbl_idx\": plot_anndata.obsm[\"mapped_lbl_idx\"].tolist()\n",
    "                             })\n",
    "    # get labels as string list\n",
    "    lbl_str = flatten(plot_df[labelname])\n",
    "    # match the lable string wiht their index number (for legend)\n",
    "    lbl_mtchng = {k:str(v) for k,v in zip(tuple(lbl_idx), tuple(lbl_str))}\n",
    "\n",
    "    return lbl_mtchng, lbl_idx\n",
    "\n",
    "def plot_high_prop_label_var_opac_2(plot_anndata, out_df, lbl_idx, lbl_mtchng, labelname = \"label\",\n",
    "                                    width=1000,height=800):\n",
    "    \"\"\"\n",
    "    todo\n",
    "    \"\"\"\n",
    "\n",
    "    # ToDo: checks for assumptions and naming conventions\n",
    "\n",
    "    # plot frame\n",
    "    xy = plot_anndata.obsm['spatial']\n",
    "    x = xy[:, 1]\n",
    "    df = pd.DataFrame({'x_lv': xy[:, 1],\n",
    "                   'y_lv': xy[:, 0] if xy.shape[1] > 1 else np.ones_like(x),\n",
    "                   'color': lbl_idx,\n",
    "                   'alpha': out_df[\"mapping_prop_lbl\"]\n",
    "                   })\n",
    "\n",
    "    # color legend\n",
    "    clrs_dscrt = px.colors.qualitative.Alphabet[:len(df['color'].unique())]\n",
    "    idx_clr = {idx:str(clr) for idx,clr in zip(df['color'].unique(),set(clrs_dscrt))}\n",
    "\n",
    "    # plot\n",
    "    fig = go.Figure()\n",
    "    fig.update_xaxes(showgrid=False, zeroline=False)\n",
    "    fig.update_yaxes(showgrid=False, zeroline=False)\n",
    "\n",
    "    fig.layout.height = height\n",
    "    fig.layout.width = width\n",
    "\n",
    "    for c in df['color'].unique():\n",
    "        df_color = df[df['color'] == c]\n",
    "        # normalize alpha values\n",
    "        alpha_raw = df_color['alpha'].to_numpy().reshape(-1,1)\n",
    "        alpha_norm = (alpha_raw - alpha_raw.min()) / (alpha_raw.max() - alpha_raw.min())\n",
    "        # plot label color\n",
    "        fig.add_trace(\n",
    "         go.Scatter(\n",
    "             x=df_color['x_lv'],\n",
    "             y=df_color['y_lv'],\n",
    "             name=lbl_mtchng[c],\n",
    "             mode=\"markers\",\n",
    "             # text = out_df[\\ mapped_ct\\ ], # todo this could be an array of joint string with cell type + probability,\n",
    "             showlegend=True,\n",
    "             marker=go.scatter.Marker(\n",
    "                 color=idx_clr[c],\n",
    "                 size=11,\n",
    "                 opacity=alpha_norm ) # I think this has to be another column in that dataframe then\n",
    "             ))\n",
    "        fig.update_layout(legend=dict(\n",
    "                 bordercolor = idx_clr[c]))\n",
    "\n",
    "    fig.show()"
   ],
   "metadata": {
    "collapsed": false,
    "pycharm": {
     "name": "#%%\n"
    }
   }
  }
 ],
 "metadata": {
  "kernelspec": {
   "display_name": "Python 3",
   "language": "python",
   "name": "python3"
  },
  "language_info": {
   "codemirror_mode": {
    "name": "ipython",
    "version": 2
   },
   "file_extension": ".py",
   "mimetype": "text/x-python",
   "name": "python",
   "nbconvert_exporter": "python",
   "pygments_lexer": "ipython2",
   "version": "2.7.6"
  }
 },
 "nbformat": 4,
 "nbformat_minor": 0
}