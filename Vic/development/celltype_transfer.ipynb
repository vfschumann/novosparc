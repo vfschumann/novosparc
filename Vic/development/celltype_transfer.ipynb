{
 "cells": [
  {
   "cell_type": "markdown",
   "source": [
    "# Development Cell type transfer"
   ],
   "metadata": {
    "collapsed": false,
    "pycharm": {
     "name": "#%% md\n"
    }
   }
  },
  {
   "cell_type": "markdown",
   "source": [
    "1. Build a dictionary with cell-types and marker genes\n",
    "    1. which cell-types?\n",
    "        1. inital set taken from reference atlas (so you would have cell types even when new data is not labeled yet)\n",
    "        2. optional: set taken from dataset - or a combination of atlas and dataset\n",
    "    2. Which marker-genes?\n",
    "        2. Option 1: provide an input txt file with a set of marker genes per cell type\n",
    "        3. Option 2: get spatially variational genes from atlas per cell-type\n",
    "2. iterate over the location point\n",
    "    1. check which genes are mapped to the location\n",
    "    1. check which cell-type would be possible for this location based on the genes found\n",
    "    1. assign one of the possible cell-types randomly\n",
    "3. repeat step 2 X times\n",
    "4. per location - assign the cell-type that was assigned most often"
   ],
   "metadata": {
    "collapsed": false,
    "pycharm": {
     "name": "#%% md\n"
    }
   }
  },
  {
   "cell_type": "markdown",
   "source": [
    "## ToDo List\n",
    "\n",
    "1. Make a new notebook for preparing the squidpy-tutorial data\n",
    "2. Download the data\n",
    "3. Process/display with scanpy\n",
    "4. Get the atlas data - dge, locations, marker genes\n",
    "5. Get the cell type dictionary"
   ],
   "metadata": {
    "collapsed": false,
    "pycharm": {
     "name": "#%% md\n"
    }
   }
  },
  {
   "cell_type": "code",
   "execution_count": null,
   "outputs": [],
   "source": [],
   "metadata": {
    "collapsed": false,
    "pycharm": {
     "name": "#%%\n"
    }
   }
  }
 ],
 "metadata": {
  "kernelspec": {
   "display_name": "Python 3",
   "language": "python",
   "name": "python3"
  },
  "language_info": {
   "codemirror_mode": {
    "name": "ipython",
    "version": 2
   },
   "file_extension": ".py",
   "mimetype": "text/x-python",
   "name": "python",
   "nbconvert_exporter": "python",
   "pygments_lexer": "ipython2",
   "version": "2.7.6"
  }
 },
 "nbformat": 4,
 "nbformat_minor": 0
}