{
 "cells": [
  {
   "cell_type": "markdown",
   "source": [
    "This notebook is for...\n",
    "\n",
    "Using visium data from [Garcia-Alsono et.al](https://www.ebi.ac.uk/arrayexpress/experiments/E-MTAB-9260/files/)\n",
    "Overview also [here](https://docs.google.com/spreadsheets/d/1c7K7C5ZKNTSnSxgTO7oJte0juwFMqmX3sjeS4wjXy4I/edit#gid=1885672978)\n",
    "\n",
    "Starting with the sample 152811, A13, early secretory phase.\n",
    "\n",
    "Following the [scanpy-visium tutorial](https://scanpy-tutorials.readthedocs.io/en/latest/spatial/basic-analysis.html)."
   ],
   "metadata": {
    "collapsed": false,
    "pycharm": {
     "name": "#%% md\n"
    }
   }
  },
  {
   "cell_type": "code",
   "execution_count": 1,
   "outputs": [],
   "source": [
    "import scanpy as sc\n",
    "import pandas as pd\n",
    "import matplotlib.pyplot as plt\n",
    "import seaborn as sns"
   ],
   "metadata": {
    "collapsed": false,
    "pycharm": {
     "name": "#%%\n"
    }
   }
  },
  {
   "cell_type": "code",
   "execution_count": 2,
   "outputs": [
    {
     "name": "stdout",
     "output_type": "stream",
     "text": [
      "-----\n",
      "anndata     0.8.0\n",
      "scanpy      1.9.1\n",
      "-----\n",
      "PIL                 9.1.1\n",
      "asttokens           NA\n",
      "backcall            0.2.0\n",
      "beta_ufunc          NA\n",
      "binom_ufunc         NA\n",
      "cffi                1.15.0\n",
      "colorama            0.4.4\n",
      "cycler              0.10.0\n",
      "cython_runtime      NA\n",
      "dateutil            2.8.2\n",
      "debugpy             1.6.0\n",
      "decorator           5.1.1\n",
      "defusedxml          0.7.1\n",
      "entrypoints         0.4\n",
      "executing           0.8.3\n",
      "h5py                3.6.0\n",
      "hypergeom_ufunc     NA\n",
      "ipykernel           6.13.0\n",
      "ipython_genutils    0.2.0\n",
      "ipywidgets          7.7.0\n",
      "jedi                0.18.1\n",
      "joblib              1.1.0\n",
      "kiwisolver          1.4.2\n",
      "llvmlite            0.36.0\n",
      "matplotlib          3.5.2\n",
      "mpl_toolkits        NA\n",
      "natsort             8.1.0\n",
      "nbinom_ufunc        NA\n",
      "numba               0.53.1\n",
      "numpy               1.22.4\n",
      "packaging           21.3\n",
      "pandas              1.4.2\n",
      "parso               0.8.3\n",
      "pexpect             4.8.0\n",
      "pickleshare         0.7.5\n",
      "pkg_resources       NA\n",
      "prompt_toolkit      3.0.29\n",
      "psutil              5.9.1\n",
      "ptyprocess          0.7.0\n",
      "pure_eval           0.2.2\n",
      "pydev_ipython       NA\n",
      "pydevconsole        NA\n",
      "pydevd              2.8.0\n",
      "pydevd_file_utils   NA\n",
      "pydevd_plugins      NA\n",
      "pydevd_tracing      NA\n",
      "pygments            2.12.0\n",
      "pyparsing           3.0.9\n",
      "pytz                2022.1\n",
      "scipy               1.8.1\n",
      "seaborn             0.11.2\n",
      "session_info        1.0.0\n",
      "setuptools          62.3.2\n",
      "six                 1.16.0\n",
      "sklearn             1.1.1\n",
      "sphinxcontrib       NA\n",
      "stack_data          0.2.0\n",
      "statsmodels         0.13.2\n",
      "threadpoolctl       3.1.0\n",
      "tornado             6.1\n",
      "traitlets           5.2.2\n",
      "wcwidth             0.2.5\n",
      "zipp                NA\n",
      "zmq                 23.1.0\n",
      "-----\n",
      "IPython             8.4.0\n",
      "jupyter_client      7.3.1\n",
      "jupyter_core        4.10.0\n",
      "notebook            6.4.11\n",
      "-----\n",
      "Python 3.9.13 | packaged by conda-forge | (main, May 27 2022, 16:56:21) [GCC 10.3.0]\n",
      "Linux-3.10.0-1160.42.2.el7.x86_64-x86_64-with-glibc2.17\n",
      "-----\n",
      "Session information updated at 2022-06-09 17:50\n"
     ]
    }
   ],
   "source": [
    "sc.logging.print_versions()\n",
    "sc.set_figure_params(facecolor=\"white\", figsize=(8, 8))\n",
    "sc.settings.verbosity = 3"
   ],
   "metadata": {
    "collapsed": false,
    "pycharm": {
     "name": "#%%\n"
    }
   }
  },
  {
   "cell_type": "markdown",
   "source": [
    "## Reading the data"
   ],
   "metadata": {
    "collapsed": false,
    "pycharm": {
     "name": "#%% md\n"
    }
   }
  },
  {
   "cell_type": "code",
   "execution_count": 3,
   "outputs": [],
   "source": [
    "datadir = \"/data/local/rajewsky/home/vschuma/Jackie/data/GarciaAlsono_uterus/visium_data/uterus_152811/152811\"\n",
    "imageloc = \"/data/local/rajewsky/home/vschuma/Jackie/data/GarciaAlsono_uterus/visium_data/152811_20x_highest_res_image.jpg\""
   ],
   "metadata": {
    "collapsed": false,
    "pycharm": {
     "name": "#%%\n"
    }
   }
  },
  {
   "cell_type": "code",
   "execution_count": 7,
   "outputs": [
    {
     "name": "stdout",
     "output_type": "stream",
     "text": [
      "reading /data/local/rajewsky/home/vschuma/Jackie/data/GarciaAlsono_uterus/visium_data/uterus_152811/152811/152811_manual_filtered_feature_bc_matrix.h5\n",
      " (0:00:00)\n",
      "WARNING: You seem to be missing an image file.\n",
      "Could not find '/data/local/rajewsky/home/vschuma/Jackie/data/GarciaAlsono_uterus/visium_data/uterus_152811/152811/spatial/tissue_hires_image.png'.\n",
      "WARNING: You seem to be missing an image file.\n",
      "Could not find '/data/local/rajewsky/home/vschuma/Jackie/data/GarciaAlsono_uterus/visium_data/uterus_152811/152811/spatial/tissue_lowres_image.png'.\n"
     ]
    },
    {
     "name": "stderr",
     "output_type": "stream",
     "text": [
      "/data/local/rajewsky/home/vschuma/anaconda3/envs/NovoSpaRc/lib/python3.9/site-packages/anndata/_core/anndata.py:1830: UserWarning: Variable names are not unique. To make them unique, call `.var_names_make_unique`.\n",
      "  utils.warn_names_duplicates(\"var\")\n"
     ]
    },
    {
     "ename": "OSError",
     "evalue": "Could not find 'hires_image'",
     "output_type": "error",
     "traceback": [
      "\u001B[0;31m---------------------------------------------------------------------------\u001B[0m",
      "\u001B[0;31mFileNotFoundError\u001B[0m                         Traceback (most recent call last)",
      "File \u001B[0;32m/data/local/rajewsky/home/vschuma/anaconda3/envs/NovoSpaRc/lib/python3.9/site-packages/scanpy/readwrite.py:395\u001B[0m, in \u001B[0;36mread_visium\u001B[0;34m(path, genome, count_file, library_id, load_images, source_image_path)\u001B[0m\n\u001B[1;32m    394\u001B[0m \u001B[38;5;28;01mtry\u001B[39;00m:\n\u001B[0;32m--> 395\u001B[0m     adata\u001B[38;5;241m.\u001B[39muns[\u001B[38;5;124m\"\u001B[39m\u001B[38;5;124mspatial\u001B[39m\u001B[38;5;124m\"\u001B[39m][library_id][\u001B[38;5;124m'\u001B[39m\u001B[38;5;124mimages\u001B[39m\u001B[38;5;124m'\u001B[39m][res] \u001B[38;5;241m=\u001B[39m \u001B[43mimread\u001B[49m\u001B[43m(\u001B[49m\n\u001B[1;32m    396\u001B[0m \u001B[43m        \u001B[49m\u001B[38;5;28;43mstr\u001B[39;49m\u001B[43m(\u001B[49m\u001B[43mfiles\u001B[49m\u001B[43m[\u001B[49m\u001B[38;5;124;43mf\u001B[39;49m\u001B[38;5;124;43m'\u001B[39;49m\u001B[38;5;132;43;01m{\u001B[39;49;00m\u001B[43mres\u001B[49m\u001B[38;5;132;43;01m}\u001B[39;49;00m\u001B[38;5;124;43m_image\u001B[39;49m\u001B[38;5;124;43m'\u001B[39;49m\u001B[43m]\u001B[49m\u001B[43m)\u001B[49m\n\u001B[1;32m    397\u001B[0m \u001B[43m    \u001B[49m\u001B[43m)\u001B[49m\n\u001B[1;32m    398\u001B[0m \u001B[38;5;28;01mexcept\u001B[39;00m \u001B[38;5;167;01mException\u001B[39;00m:\n",
      "File \u001B[0;32m/data/local/rajewsky/home/vschuma/anaconda3/envs/NovoSpaRc/lib/python3.9/site-packages/matplotlib/image.py:1560\u001B[0m, in \u001B[0;36mimread\u001B[0;34m(fname, format)\u001B[0m\n\u001B[1;32m   1559\u001B[0m             \u001B[38;5;28;01mreturn\u001B[39;00m imread(response, \u001B[38;5;28mformat\u001B[39m\u001B[38;5;241m=\u001B[39mext)\n\u001B[0;32m-> 1560\u001B[0m \u001B[38;5;28;01mwith\u001B[39;00m \u001B[43mimg_open\u001B[49m\u001B[43m(\u001B[49m\u001B[43mfname\u001B[49m\u001B[43m)\u001B[49m \u001B[38;5;28;01mas\u001B[39;00m image:\n\u001B[1;32m   1561\u001B[0m     \u001B[38;5;28;01mreturn\u001B[39;00m (_pil_png_to_float_array(image)\n\u001B[1;32m   1562\u001B[0m             \u001B[38;5;28;01mif\u001B[39;00m \u001B[38;5;28misinstance\u001B[39m(image, PIL\u001B[38;5;241m.\u001B[39mPngImagePlugin\u001B[38;5;241m.\u001B[39mPngImageFile) \u001B[38;5;28;01melse\u001B[39;00m\n\u001B[1;32m   1563\u001B[0m             pil_to_array(image))\n",
      "File \u001B[0;32m/data/local/rajewsky/home/vschuma/anaconda3/envs/NovoSpaRc/lib/python3.9/site-packages/PIL/ImageFile.py:104\u001B[0m, in \u001B[0;36mImageFile.__init__\u001B[0;34m(self, fp, filename)\u001B[0m\n\u001B[1;32m    102\u001B[0m \u001B[38;5;28;01mif\u001B[39;00m isPath(fp):\n\u001B[1;32m    103\u001B[0m     \u001B[38;5;66;03m# filename\u001B[39;00m\n\u001B[0;32m--> 104\u001B[0m     \u001B[38;5;28mself\u001B[39m\u001B[38;5;241m.\u001B[39mfp \u001B[38;5;241m=\u001B[39m \u001B[38;5;28;43mopen\u001B[39;49m\u001B[43m(\u001B[49m\u001B[43mfp\u001B[49m\u001B[43m,\u001B[49m\u001B[43m \u001B[49m\u001B[38;5;124;43m\"\u001B[39;49m\u001B[38;5;124;43mrb\u001B[39;49m\u001B[38;5;124;43m\"\u001B[39;49m\u001B[43m)\u001B[49m\n\u001B[1;32m    105\u001B[0m     \u001B[38;5;28mself\u001B[39m\u001B[38;5;241m.\u001B[39mfilename \u001B[38;5;241m=\u001B[39m fp\n",
      "\u001B[0;31mFileNotFoundError\u001B[0m: [Errno 2] No such file or directory: '/data/local/rajewsky/home/vschuma/Jackie/data/GarciaAlsono_uterus/visium_data/uterus_152811/152811/spatial/tissue_hires_image.png'",
      "\nDuring handling of the above exception, another exception occurred:\n",
      "\u001B[0;31mOSError\u001B[0m                                   Traceback (most recent call last)",
      "Input \u001B[0;32mIn [7]\u001B[0m, in \u001B[0;36m<cell line: 1>\u001B[0;34m()\u001B[0m\n\u001B[0;32m----> 1\u001B[0m adata \u001B[38;5;241m=\u001B[39m \u001B[43msc\u001B[49m\u001B[38;5;241;43m.\u001B[39;49m\u001B[43mread_visium\u001B[49m\u001B[43m(\u001B[49m\u001B[43mdatadir\u001B[49m\u001B[43m,\u001B[49m\n\u001B[1;32m      2\u001B[0m \u001B[43m                       \u001B[49m\u001B[43mcount_file\u001B[49m\u001B[38;5;241;43m=\u001B[39;49m\u001B[38;5;124;43m'\u001B[39;49m\u001B[38;5;124;43m152811_manual_filtered_feature_bc_matrix.h5\u001B[39;49m\u001B[38;5;124;43m'\u001B[39;49m\u001B[43m,\u001B[49m\n\u001B[1;32m      3\u001B[0m \u001B[43m                       \u001B[49m\u001B[43msource_image_path\u001B[49m\u001B[38;5;241;43m=\u001B[39;49m\u001B[43mimageloc\u001B[49m\u001B[43m)\u001B[49m\n",
      "File \u001B[0;32m/data/local/rajewsky/home/vschuma/anaconda3/envs/NovoSpaRc/lib/python3.9/site-packages/scanpy/readwrite.py:399\u001B[0m, in \u001B[0;36mread_visium\u001B[0;34m(path, genome, count_file, library_id, load_images, source_image_path)\u001B[0m\n\u001B[1;32m    395\u001B[0m         adata\u001B[38;5;241m.\u001B[39muns[\u001B[38;5;124m\"\u001B[39m\u001B[38;5;124mspatial\u001B[39m\u001B[38;5;124m\"\u001B[39m][library_id][\u001B[38;5;124m'\u001B[39m\u001B[38;5;124mimages\u001B[39m\u001B[38;5;124m'\u001B[39m][res] \u001B[38;5;241m=\u001B[39m imread(\n\u001B[1;32m    396\u001B[0m             \u001B[38;5;28mstr\u001B[39m(files[\u001B[38;5;124mf\u001B[39m\u001B[38;5;124m'\u001B[39m\u001B[38;5;132;01m{\u001B[39;00mres\u001B[38;5;132;01m}\u001B[39;00m\u001B[38;5;124m_image\u001B[39m\u001B[38;5;124m'\u001B[39m])\n\u001B[1;32m    397\u001B[0m         )\n\u001B[1;32m    398\u001B[0m     \u001B[38;5;28;01mexcept\u001B[39;00m \u001B[38;5;167;01mException\u001B[39;00m:\n\u001B[0;32m--> 399\u001B[0m         \u001B[38;5;28;01mraise\u001B[39;00m \u001B[38;5;167;01mOSError\u001B[39;00m(\u001B[38;5;124mf\u001B[39m\u001B[38;5;124m\"\u001B[39m\u001B[38;5;124mCould not find \u001B[39m\u001B[38;5;124m'\u001B[39m\u001B[38;5;132;01m{\u001B[39;00mres\u001B[38;5;132;01m}\u001B[39;00m\u001B[38;5;124m_image\u001B[39m\u001B[38;5;124m'\u001B[39m\u001B[38;5;124m\"\u001B[39m)\n\u001B[1;32m    401\u001B[0m \u001B[38;5;66;03m# read json scalefactors\u001B[39;00m\n\u001B[1;32m    402\u001B[0m adata\u001B[38;5;241m.\u001B[39muns[\u001B[38;5;124m\"\u001B[39m\u001B[38;5;124mspatial\u001B[39m\u001B[38;5;124m\"\u001B[39m][library_id][\u001B[38;5;124m'\u001B[39m\u001B[38;5;124mscalefactors\u001B[39m\u001B[38;5;124m'\u001B[39m] \u001B[38;5;241m=\u001B[39m json\u001B[38;5;241m.\u001B[39mloads(\n\u001B[1;32m    403\u001B[0m     files[\u001B[38;5;124m'\u001B[39m\u001B[38;5;124mscalefactors_json_file\u001B[39m\u001B[38;5;124m'\u001B[39m]\u001B[38;5;241m.\u001B[39mread_bytes()\n\u001B[1;32m    404\u001B[0m )\n",
      "\u001B[0;31mOSError\u001B[0m: Could not find 'hires_image'"
     ]
    }
   ],
   "source": [
    "adata = sc.read_visium(datadir,\n",
    "                       count_file='152811_manual_filtered_feature_bc_matrix.h5',\n",
    "                       source_image_path=imageloc)"
   ],
   "metadata": {
    "collapsed": false,
    "pycharm": {
     "name": "#%%\n"
    }
   }
  },
  {
   "cell_type": "code",
   "execution_count": null,
   "outputs": [],
   "source": [
    "adata"
   ],
   "metadata": {
    "collapsed": false,
    "pycharm": {
     "name": "#%%\n"
    }
   }
  }
 ],
 "metadata": {
  "kernelspec": {
   "display_name": "Python 3",
   "language": "python",
   "name": "python3"
  },
  "language_info": {
   "codemirror_mode": {
    "name": "ipython",
    "version": 2
   },
   "file_extension": ".py",
   "mimetype": "text/x-python",
   "name": "python",
   "nbconvert_exporter": "python",
   "pygments_lexer": "ipython2",
   "version": "2.7.6"
  }
 },
 "nbformat": 4,
 "nbformat_minor": 0
}