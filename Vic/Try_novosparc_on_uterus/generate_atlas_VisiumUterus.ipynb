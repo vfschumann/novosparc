{
 "cells": [
  {
   "cell_type": "markdown",
   "source": [
    "This notebook is for...\n",
    "\n",
    "Using visium data from [Garcia-Alsono et.al](https://www.ebi.ac.uk/arrayexpress/experiments/E-MTAB-9260/files/)\n",
    "Overview also [here](https://docs.google.com/spreadsheets/d/1c7K7C5ZKNTSnSxgTO7oJte0juwFMqmX3sjeS4wjXy4I/edit#gid=1885672978)\n",
    "\n",
    "Starting with the sample 152811, A13, early secretory phase.\n",
    "\n",
    "Following the [scanpy-visium tutorial](https://scanpy-tutorials.readthedocs.io/en/latest/spatial/basic-analysis.html)."
   ],
   "metadata": {
    "collapsed": false,
    "pycharm": {
     "name": "#%% md\n"
    }
   }
  },
  {
   "cell_type": "code",
   "execution_count": null,
   "outputs": [],
   "source": [
    "import scanpy as sc\n",
    "import squidpy as sq\n",
    "\n",
    "import pandas as pd\n",
    "import matplotlib.pyplot as plt\n",
    "import seaborn as sns\n",
    "import numpy as np\n",
    "import os"
   ],
   "metadata": {
    "collapsed": false,
    "pycharm": {
     "name": "#%%\n"
    }
   }
  },
  {
   "cell_type": "code",
   "execution_count": null,
   "outputs": [],
   "source": [
    "sc.logging.print_versions()\n",
    "sc.set_figure_params(facecolor=\"white\", figsize=(8, 8))\n",
    "sc.settings.verbosity = 3"
   ],
   "metadata": {
    "collapsed": false,
    "pycharm": {
     "name": "#%%\n"
    }
   }
  },
  {
   "cell_type": "markdown",
   "source": [
    "## Reading the data"
   ],
   "metadata": {
    "collapsed": false,
    "pycharm": {
     "name": "#%% md\n"
    }
   }
  },
  {
   "cell_type": "code",
   "execution_count": null,
   "outputs": [],
   "source": [
    "datadir = \"data/GarciaAlsono_uterus/visium_data/uterus_152811/152811\" # workstation\n",
    "\n",
    "imageloc = \"data/GarciaAlsono_uterus/visium_data/152811_20x_highest_res_image.jpg\""
   ],
   "metadata": {
    "collapsed": false,
    "pycharm": {
     "name": "#%%\n"
    }
   }
  },
  {
   "cell_type": "code",
   "execution_count": null,
   "outputs": [],
   "source": [
    "adata = sc.read_visium(datadir,\n",
    "                       count_file='152811_manual_filtered_feature_bc_matrix.h5',\n",
    "                      # source_image_path='/data/local/rajewsky/home/vschuma/Jackie/data/GarciaAlsono_uterus/visium_data/')\n",
    "                       source_image_path='data/GarciaAlsono_uterus/visium_data/') # workstation"
   ],
   "metadata": {
    "collapsed": false,
    "pycharm": {
     "name": "#%%\n"
    }
   }
  },
  {
   "cell_type": "code",
   "execution_count": null,
   "outputs": [],
   "source": [
    "adata.var[\"feature_types\"]"
   ],
   "metadata": {
    "collapsed": false,
    "pycharm": {
     "name": "#%%\n"
    }
   }
  },
  {
   "cell_type": "code",
   "execution_count": null,
   "outputs": [],
   "source": [
    "adata.var_names_make_unique()\n",
    "# adata.var['mt'] = adata.var_names.str.startswith(\"MT-\")\n",
    "# sc.pp.calculate_qc_metrics(adata, qc_vars=[\"mt\"], inplace=True)"
   ],
   "metadata": {
    "collapsed": false,
    "pycharm": {
     "name": "#%%\n"
    }
   }
  },
  {
   "cell_type": "code",
   "execution_count": null,
   "outputs": [],
   "source": [
    "# skipping the QC and preprocessing step bc. I think this stuff should be filtered/preprocessed already"
   ],
   "metadata": {
    "collapsed": false,
    "pycharm": {
     "name": "#%%\n"
    }
   }
  },
  {
   "cell_type": "markdown",
   "source": [
    "## Manifold embedding and clustering based on transcriptional similarity"
   ],
   "metadata": {
    "collapsed": false,
    "pycharm": {
     "name": "#%% md\n"
    }
   }
  },
  {
   "cell_type": "code",
   "execution_count": null,
   "outputs": [],
   "source": [
    "# sc.pp.pca(adata)\n",
    "# sc.pp.neighbors(adata)\n",
    "# sc.tl.umap(adata)\n",
    "# sc.tl.leiden(adata, key_added=\"clusters\")"
   ],
   "metadata": {
    "collapsed": false,
    "pycharm": {
     "name": "#%%\n"
    }
   }
  },
  {
   "cell_type": "markdown",
   "source": [
    "We plot some covariates to check if there is any particular structure in the UMAP associated with total counts and detected genes."
   ],
   "metadata": {
    "collapsed": false,
    "pycharm": {
     "name": "#%% md\n"
    }
   }
  },
  {
   "cell_type": "code",
   "execution_count": null,
   "outputs": [],
   "source": [
    "# plt.rcParams[\"figure.figsize\"] = (4, 4)\n",
    "# sc.pl.umap(adata, color=[\"total_counts\", \"n_genes_by_counts\", \"clusters\"], wspace=0.4)"
   ],
   "metadata": {
    "collapsed": false,
    "pycharm": {
     "name": "#%%\n"
    }
   }
  },
  {
   "cell_type": "markdown",
   "source": [
    "## Visualization in spatial coordinates"
   ],
   "metadata": {
    "collapsed": false,
    "pycharm": {
     "name": "#%% md\n"
    }
   }
  },
  {
   "cell_type": "code",
   "execution_count": null,
   "outputs": [],
   "source": [
    "plt.rcParams[\"figure.figsize\"] = (8, 8)\n",
    "sc.pl.spatial(adata, img_key=\"hires\", color=[\"total_counts\", \"n_genes_by_counts\"])"
   ],
   "metadata": {
    "collapsed": false,
    "pycharm": {
     "name": "#%%\n"
    }
   }
  },
  {
   "cell_type": "markdown",
   "source": [
    " ## Cluster/show marker genes"
   ],
   "metadata": {
    "collapsed": false,
    "pycharm": {
     "name": "#%% md\n"
    }
   }
  },
  {
   "cell_type": "code",
   "execution_count": null,
   "outputs": [],
   "source": [
    "marker_genes = ['LGR5', # epithel\n",
    "            'PAX2',# lumenal\n",
    "            'SCGB2A2','PAEP', # glandular\n",
    "            'IGF1', # stroma\n",
    "            'CFD','CEBPB', 'PDGFRA', # secretory stroma\n",
    "            'ACTA2', 'OGN' # fibroblasts\n",
    "             ] # add marker genes from other notebook here\n",
    "# make a loop to show the image for all the marker genes\n",
    "sc.pl.spatial(adata, img_key=\"hires\", color=marker_genes)"
   ],
   "metadata": {
    "collapsed": false,
    "pycharm": {
     "name": "#%%\n"
    }
   }
  },
  {
   "cell_type": "markdown",
   "source": [],
   "metadata": {
    "collapsed": false,
    "pycharm": {
     "name": "#%% md\n"
    }
   }
  },
  {
   "cell_type": "markdown",
   "source": [
    "## Extract locations.txt and dge.txt from the anndata object"
   ],
   "metadata": {
    "collapsed": false,
    "pycharm": {
     "name": "#%% md\n"
    }
   }
  },
  {
   "cell_type": "code",
   "execution_count": null,
   "outputs": [],
   "source": [
    "# normalize expression data\n",
    "sc.pp.normalize_total(adata)\n",
    "sc.pp.log1p(adata)\n",
    "sc.pp.highly_variable_genes(adata, min_mean=0.0125, max_mean=3, min_disp=0.5)"
   ],
   "metadata": {
    "collapsed": false,
    "pycharm": {
     "name": "#%%\n"
    }
   }
  },
  {
   "cell_type": "code",
   "execution_count": null,
   "outputs": [],
   "source": [
    "adata"
   ],
   "metadata": {
    "collapsed": false,
    "pycharm": {
     "name": "#%%\n"
    }
   }
  },
  {
   "cell_type": "code",
   "execution_count": null,
   "outputs": [],
   "source": [
    "adata.obsm['spatial'] # probably coordinates according to https://github.com/scverse/squidpy_notebooks/blob/main/docs/source/auto_tutorials/tutorial_read_spatial.rst"
   ],
   "metadata": {
    "collapsed": false,
    "pycharm": {
     "name": "#%%\n"
    }
   }
  },
  {
   "cell_type": "markdown",
   "source": [
    "## Save atlas coordinates"
   ],
   "metadata": {
    "collapsed": false,
    "pycharm": {
     "name": "#%% md\n"
    }
   }
  },
  {
   "cell_type": "code",
   "execution_count": null,
   "outputs": [],
   "source": [
    "coord = adata.obsm['spatial']\n",
    "datadir = \"data/GarciaAlsono_uterus\"\n",
    "pd.DataFrame(data=coord, columns=['x','y']).to_csv(os.path.join(datadir,'endometr_coordinates.csv'))"
   ],
   "metadata": {
    "collapsed": false,
    "pycharm": {
     "name": "#%%\n"
    }
   }
  },
  {
   "cell_type": "markdown",
   "source": [
    "## Creating the atlas and test it's uniqueness\n",
    "atlas based on top 100 highly variable genes\n",
    "\n",
    "This code is taken from the \"data_for_celltpye_transfer_testing\" notebook. I think it could be an intersting idea, to put this into a fucntion in a small script and add it to the repo."
   ],
   "metadata": {
    "collapsed": false,
    "pycharm": {
     "name": "#%% md\n"
    }
   }
  },
  {
   "cell_type": "code",
   "execution_count": null,
   "outputs": [],
   "source": [
    "savepath = \"data/GarciaAlsono_uterus/uterus_GarciaAlsonso_atlas_dge.txt\"\n",
    "\n",
    "# all highly variable genes from which I will subsample\n",
    "high_var_index = adata.var[adata.var['highly_variable'] == True].index\n",
    "high_var_index\n",
    "\n",
    "# subsampling\n",
    "marker_subsample_names = high_var_index.to_frame().sample(150)\n",
    "# marker_subsample_names = adata.var_names.to_frame().sample(50)\n",
    "marker_subsample_idx = []\n",
    "for gene in marker_subsample_names[0] :\n",
    "    marker_subsample_idx.append(adata.var_names.get_loc(gene))\n",
    "marker_subsample = pd.DataFrame(adata.X[:, marker_subsample_idx].toarray(),\n",
    "                                columns=marker_subsample_names[0])\n",
    "# count sets\n",
    "loc_w_gene = 0\n",
    "loc_wo_gene = 0\n",
    "for idx,row in marker_subsample.iterrows():\n",
    "    if (row == 0).all():\n",
    "        loc_wo_gene += 1\n",
    "    else:\n",
    "        loc_w_gene += 1\n",
    "marker_cov = loc_w_gene/marker_subsample.shape[0]\n",
    "print('num loc w gene = {} \\n'\n",
    "      'num loc w/o gene = {}\\n'\n",
    "      'therefore gene marker cov = {}'.format(loc_w_gene, loc_wo_gene, marker_cov))\n",
    "\n",
    "# evaluate point uniqueness\n",
    "# 1. binarize marker_subsample\n",
    "marker_subsample_bin = marker_subsample.mask(marker_subsample > 0, 1 )\n",
    "# 2. vector of gene sets\n",
    "gene_sets_p_loc = []\n",
    "# 3. get gene set per location\n",
    "for idx, row in marker_subsample_bin.iterrows():\n",
    "    gene_sets_p_loc.append(\n",
    "        tuple(row.index[row.loc[:] == 1])\n",
    "    )\n",
    "# 4. count how many unique sets are in the list\n",
    "num_unique = len(set(gene_sets_p_loc))\n",
    "\n",
    "# 5. calculate ratio of covered locations that are unique\n",
    "unique_cov = num_unique/(marker_subsample.shape[0] - loc_wo_gene)\n",
    "print(\"{:.2%} of the marker-locations are unique.\".format(unique_cov))\n",
    "\n",
    "# 6. write atlas to file\n",
    "if marker_cov == 1.0 and unique_cov == 1.0:\n",
    "    marker_subsample.to_csv(savepath, index_label=False)\n",
    "else:\n",
    "    print(\"you should resample before saving this\")"
   ],
   "metadata": {
    "collapsed": false,
    "pycharm": {
     "name": "#%%\n"
    }
   }
  },
  {
   "cell_type": "markdown",
   "source": [
    "## getting spatialy informative genes\n",
    "following [this squidpy tutorial](https://squidpy.readthedocs.io/en/stable/auto_tutorials/tutorial_visium_hne.html#spatially-variable-genes-with-moran-s-i)"
   ],
   "metadata": {
    "collapsed": false,
    "pycharm": {
     "name": "#%% md\n"
    }
   }
  },
  {
   "cell_type": "code",
   "execution_count": null,
   "outputs": [],
   "source": [
    "spatial_info_genes = adata[:, adata.var.highly_variable].var_names.values[:1000]\n",
    "sq.gr.spatial_neighbors(adata)\n",
    "sq.gr.spatial_autocorr(\n",
    "    adata,\n",
    "    mode=\"moran\",\n",
    "    genes=spatial_info_genes,\n",
    "    n_perms=100,\n",
    "    n_jobs=1,\n",
    ")"
   ],
   "metadata": {
    "collapsed": false,
    "pycharm": {
     "name": "#%%\n"
    }
   }
  },
  {
   "cell_type": "markdown",
   "source": [
    "### make atlas from spatially informative genes"
   ],
   "metadata": {
    "collapsed": false,
    "pycharm": {
     "name": "#%% md\n"
    }
   }
  },
  {
   "cell_type": "code",
   "execution_count": null,
   "outputs": [],
   "source": [
    "savepath = \"data/GarciaAlsono_uterus/uterus_GarciaAlsonso_atlas_spatial_info_dge.csv\"\n",
    "\n",
    "# all spatially informative genes from which I will subsample\n",
    "spat_info_index = adata.uns[\"moranI\"].head(200).index\n",
    "spat_info_index\n",
    "\n",
    "# subsampling\n",
    "marker_subsample_names = spat_info_index.to_frame().sample(80)\n",
    "# marker_subsample_names = adata.var_names.to_frame().sample(50)\n",
    "marker_subsample_idx = []\n",
    "for gene in marker_subsample_names[0] :\n",
    "    marker_subsample_idx.append(adata.var_names.get_loc(gene))\n",
    "marker_subsample = pd.DataFrame(adata.X[:, marker_subsample_idx].toarray(),\n",
    "                                columns=marker_subsample_names[0])\n",
    "# count sets\n",
    "loc_w_gene = 0\n",
    "loc_wo_gene = 0\n",
    "for idx,row in marker_subsample.iterrows():\n",
    "    if (row == 0).all():\n",
    "        loc_wo_gene += 1\n",
    "    else:\n",
    "        loc_w_gene += 1\n",
    "marker_cov = loc_w_gene/marker_subsample.shape[0]\n",
    "print('num loc w gene = {} \\n'\n",
    "      'num loc w/o gene = {}\\n'\n",
    "      'therefore gene marker cov = {}'.format(loc_w_gene, loc_wo_gene, marker_cov))\n",
    "\n",
    "# evaluate point uniqueness\n",
    "# 1. binarize marker_subsample\n",
    "marker_subsample_bin = marker_subsample.mask(marker_subsample > 0, 1 )\n",
    "# 2. vector of gene sets\n",
    "gene_sets_p_loc = []\n",
    "# 3. get gene set per location\n",
    "for idx, row in marker_subsample_bin.iterrows():\n",
    "    gene_sets_p_loc.append(\n",
    "        tuple(row.index[row.loc[:] == 1])\n",
    "    )\n",
    "# 4. count how many unique sets are in the list\n",
    "num_unique = len(set(gene_sets_p_loc))\n",
    "\n",
    "# 5. calculate ratio of covered locations that are unique\n",
    "unique_cov = num_unique/(marker_subsample.shape[0] - loc_wo_gene)\n",
    "print(\"{:.2%} of the marker-locations are unique.\".format(unique_cov))\n",
    "\n",
    "# 6. write atlas to file\n",
    "if marker_cov == 1.0 and unique_cov == 1.0:\n",
    "    marker_subsample.to_csv(savepath, index_label=False)\n",
    "else:\n",
    "    print(\"you should resample before saving this\")"
   ],
   "metadata": {
    "collapsed": false,
    "pycharm": {
     "name": "#%%\n"
    }
   }
  },
  {
   "cell_type": "markdown",
   "source": [
    "### make atlas from spatially informative genes"
   ],
   "metadata": {
    "collapsed": false,
    "pycharm": {
     "name": "#%% md\n"
    }
   }
  },
  {
   "cell_type": "code",
   "execution_count": null,
   "outputs": [],
   "source": [
    "savepath = \"data/GarciaAlsono_uterus/uterus_GarciaAlsonso_atlas_spatial_info_dge.csv\"\n",
    "\n",
    "# all spatially informative genes from which I will subsample\n",
    "spat_info_index = adata.uns[\"moranI\"].head(200).index\n",
    "spat_info_index\n",
    "\n",
    "# subsampling\n",
    "marker_subsample_names = spat_info_index.to_frame().sample(80)\n",
    "# marker_subsample_names = adata.var_names.to_frame().sample(50)\n",
    "marker_subsample_idx = []\n",
    "for gene in marker_subsample_names[0] :\n",
    "    marker_subsample_idx.append(adata.var_names.get_loc(gene))\n",
    "marker_subsample = pd.DataFrame(adata.X[:, marker_subsample_idx].toarray(),\n",
    "                                columns=marker_subsample_names[0])\n",
    "# count sets\n",
    "loc_w_gene = 0\n",
    "loc_wo_gene = 0\n",
    "for idx,row in marker_subsample.iterrows():\n",
    "    if (row == 0).all():\n",
    "        loc_wo_gene += 1\n",
    "    else:\n",
    "        loc_w_gene += 1\n",
    "marker_cov = loc_w_gene/marker_subsample.shape[0]\n",
    "print('num loc w gene = {} \\n'\n",
    "      'num loc w/o gene = {}\\n'\n",
    "      'therefore gene marker cov = {}'.format(loc_w_gene, loc_wo_gene, marker_cov))\n",
    "\n",
    "# evaluate point uniqueness\n",
    "# 1. binarize marker_subsample\n",
    "marker_subsample_bin = marker_subsample.mask(marker_subsample > 0, 1 )\n",
    "# 2. vector of gene sets\n",
    "gene_sets_p_loc = []\n",
    "# 3. get gene set per location\n",
    "for idx, row in marker_subsample_bin.iterrows():\n",
    "    gene_sets_p_loc.append(\n",
    "        tuple(row.index[row.loc[:] == 1])\n",
    "    )\n",
    "# 4. count how many unique sets are in the list\n",
    "num_unique = len(set(gene_sets_p_loc))\n",
    "\n",
    "# 5. calculate ratio of covered locations that are unique\n",
    "unique_cov = num_unique/(marker_subsample.shape[0] - loc_wo_gene)\n",
    "print(\"{:.2%} of the marker-locations are unique.\".format(unique_cov))\n",
    "\n",
    "# 6. write atlas to file\n",
    "if marker_cov == 1.0 and unique_cov == 1.0:\n",
    "    marker_subsample.to_csv(savepath, index_label=False)\n",
    "else:\n",
    "    print(\"you should resample before saving this\")"
   ],
   "metadata": {
    "collapsed": false,
    "pycharm": {
     "name": "#%%\n"
    }
   }
  },
  {
   "cell_type": "code",
   "execution_count": null,
   "outputs": [],
   "source": [],
   "metadata": {
    "collapsed": false,
    "pycharm": {
     "name": "#%%\n"
    }
   }
  },
  {
   "cell_type": "code",
   "execution_count": 29,
   "outputs": [
    {
     "name": "stdout",
     "output_type": "stream",
     "text": [
      "num loc w gene = 3871 \n",
      "num loc w/o gene = 0\n",
      "therefore gene marker cov = 1.0\n",
      "100.00% of the marker-locations are unique.\n"
     ]
    }
   ],
   "source": [
    "savepath = \"data/GarciaAlsono_uterus/uterus_GarciaAlsonso_atlas_spatial_info_dge.csv\"\n",
    "\n",
    "# all spatially informative genes from which I will subsample\n",
    "spat_info_index = adata.uns[\"moranI\"].head(200).index\n",
    "spat_info_index\n",
    "\n",
    "# subsampling\n",
    "marker_subsample_names = spat_info_index.to_frame().sample(80)\n",
    "# marker_subsample_names = adata.var_names.to_frame().sample(50)\n",
    "marker_subsample_idx = []\n",
    "for gene in marker_subsample_names[0] :\n",
    "    marker_subsample_idx.append(adata.var_names.get_loc(gene))\n",
    "marker_subsample = pd.DataFrame(adata.X[:, marker_subsample_idx].toarray(),\n",
    "                                columns=marker_subsample_names[0])\n",
    "# count sets\n",
    "loc_w_gene = 0\n",
    "loc_wo_gene = 0\n",
    "for idx,row in marker_subsample.iterrows():\n",
    "    if (row == 0).all():\n",
    "        loc_wo_gene += 1\n",
    "    else:\n",
    "        loc_w_gene += 1\n",
    "marker_cov = loc_w_gene/marker_subsample.shape[0]\n",
    "print('num loc w gene = {} \\n'\n",
    "      'num loc w/o gene = {}\\n'\n",
    "      'therefore gene marker cov = {}'.format(loc_w_gene, loc_wo_gene, marker_cov))\n",
    "\n",
    "# evaluate point uniqueness\n",
    "# 1. binarize marker_subsample\n",
    "marker_subsample_bin = marker_subsample.mask(marker_subsample > 0, 1 )\n",
    "# 2. vector of gene sets\n",
    "gene_sets_p_loc = []\n",
    "# 3. get gene set per location\n",
    "for idx, row in marker_subsample_bin.iterrows():\n",
    "    gene_sets_p_loc.append(\n",
    "        tuple(row.index[row.loc[:] == 1])\n",
    "    )\n",
    "# 4. count how many unique sets are in the list\n",
    "num_unique = len(set(gene_sets_p_loc))\n",
    "\n",
    "# 5. calculate ratio of covered locations that are unique\n",
    "unique_cov = num_unique/(marker_subsample.shape[0] - loc_wo_gene)\n",
    "print(\"{:.2%} of the marker-locations are unique.\".format(unique_cov))\n",
    "\n",
    "# 6. write atlas to file\n",
    "if marker_cov == 1.0 and unique_cov == 1.0:\n",
    "    marker_subsample.to_csv(savepath, index_label=False)\n",
    "else:\n",
    "    print(\"you should resample before saving this\")"
   ],
   "metadata": {
    "collapsed": false,
    "pycharm": {
     "name": "#%%\n"
    }
   }
  },
  {
   "cell_type": "code",
   "execution_count": null,
   "outputs": [],
   "source": [],
   "metadata": {
    "collapsed": false,
    "pycharm": {
     "name": "#%%\n"
    }
   }
  }
 ],
 "metadata": {
  "kernelspec": {
   "display_name": "Python 3",
   "language": "python",
   "name": "python3"
  },
  "language_info": {
   "codemirror_mode": {
    "name": "ipython",
    "version": 2
   },
   "file_extension": ".py",
   "mimetype": "text/x-python",
   "name": "python",
   "nbconvert_exporter": "python",
   "pygments_lexer": "ipython2",
   "version": "2.7.6"
  }
 },
 "nbformat": 4,
 "nbformat_minor": 0
}