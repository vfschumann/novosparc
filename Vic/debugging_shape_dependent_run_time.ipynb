{
 "cells": [
  {
   "cell_type": "markdown",
   "source": [
    "## Hypothesis: The shapes number of vertices influences the de-novo reconstruction runtime\n",
    "To test this I want to test this by using the same dataset on different shapes with increasing number of vertixes/edges etc.. My Idea is to first use a rectangle, and then generate multiple polygone with increasing about of edges and see how the runtime behaves.\n",
    "\n",
    "I think this is a general visualization problem so from the visu community there should be workarounds or solutions for this. Although before jumping into those I should first evaluate which shapes work and which not and then further question how necessary shapes like circles etc. really are for this experiment."
   ],
   "metadata": {
    "collapsed": false,
    "pycharm": {
     "name": "#%% md\n"
    }
   }
  },
  {
   "cell_type": "code",
   "execution_count": 16,
   "outputs": [],
   "source": [
    "import os\n",
    "import novosparc\n",
    "import scanpy as sc\n",
    "import scipy\n",
    "import numpy as np\n",
    "import pandas as pd\n",
    "import matplotlib.pyplot as plt\n",
    "\n",
    "import warnings\n",
    "warnings.filterwarnings(\"ignore\")\n",
    "\n",
    "from matplotlib import rcParams\n",
    "rcParams['font.family'] = 'sans-serif'"
   ],
   "metadata": {
    "collapsed": false,
    "pycharm": {
     "name": "#%%\n"
    }
   }
  },
  {
   "cell_type": "code",
   "execution_count": 17,
   "outputs": [],
   "source": [
    "# dirname = '/mnt/ramdisk'\n",
    "dirname = '/dev/shm/ramdisk/'\n",
    "# dirname = '/data/local/rajewsky/home/vschuma/Jackie/data/GarciaAlsono_uterus/'\n",
    "\n",
    "fname = os.path.join(dirname,'uterus_histo.h5ad')\n",
    "\n",
    "# read data\n",
    "adata = sc.read(fname)"
   ],
   "metadata": {
    "collapsed": false,
    "pycharm": {
     "name": "#%%\n"
    }
   }
  },
  {
   "cell_type": "markdown",
   "source": [
    "### sample preparation"
   ],
   "metadata": {
    "collapsed": false,
    "pycharm": {
     "name": "#%% md\n"
    }
   }
  },
  {
   "cell_type": "code",
   "execution_count": 19,
   "outputs": [
    {
     "name": "stdout",
     "output_type": "stream",
     "text": [
      "number of cells: 10\n",
      "Number of genes: 28614\n"
     ]
    }
   ],
   "source": [
    "# filtering excluded cells\n",
    "col_ct = \"Cell type\"\n",
    "included = ~(adata.obs[col_ct] == 'Excluded')\n",
    "adata = adata[included]\n",
    "\n",
    "# subset cells\n",
    "num_cells = 10\n",
    "sc.pp.subsample(adata, n_obs=num_cells)\n",
    "\n",
    "genenames = list(adata.var.index)\n",
    "ngenes = len(genenames)\n",
    "num_cells, num_genes = adata.shape\n",
    "\n",
    "print('number of cells: %d' % num_cells)\n",
    "print('Number of genes: %d' % ngenes)"
   ],
   "metadata": {
    "collapsed": false,
    "pycharm": {
     "name": "#%%\n"
    }
   }
  },
  {
   "cell_type": "code",
   "execution_count": 20,
   "outputs": [],
   "source": [
    "dge_rep = None # a representation of cells gene expression\n",
    "sc.pp.highly_variable_genes(adata)\n",
    "is_var_gene = adata.var['highly_variable']\n",
    "var_genes = list(is_var_gene.index[is_var_gene])\n",
    "\n",
    "# alternative 1: variable expressed genes representation\n",
    "dge_rep = adata.to_df()[var_genes]"
   ],
   "metadata": {
    "collapsed": false,
    "pycharm": {
     "name": "#%%\n"
    }
   }
  },
  {
   "cell_type": "markdown",
   "source": [
    "### shape and image settings\n",
    "\n",
    "**geometries**"
   ],
   "metadata": {
    "collapsed": false,
    "pycharm": {
     "name": "#%% md\n"
    }
   }
  },
  {
   "cell_type": "code",
   "execution_count": 21,
   "outputs": [
    {
     "data": {
      "text/plain": "<Figure size 432x288 with 1 Axes>",
      "image/png": "[encoded data removed]"
     },
     "metadata": {
      "needs_background": "light"
     },
     "output_type": "display_data"
    }
   ],
   "source": [
    "num_locations = 50 # where does this come from?\n",
    "\n",
    "locations_squared =novosparc.gm.construct_target_grid(num_locations=num_locations)\n",
    "locations_circle = novosparc.gm.construct_circle(num_locations=num_locations)\n",
    "\n",
    "tit_size = 15\n",
    "dpi = 100\n",
    "fig = plt.scatter(locations_squared[:, 0], locations_squared[:, 1], s=3)\n",
    "plt.tight_layout()\n",
    "plt.show()"
   ],
   "metadata": {
    "collapsed": false,
    "pycharm": {
     "name": "#%%\n"
    }
   }
  },
  {
   "cell_type": "markdown",
   "source": [
    "**random shape images**"
   ],
   "metadata": {
    "collapsed": false,
    "pycharm": {
     "name": "#%% md\n"
    }
   }
  },
  {
   "cell_type": "code",
   "execution_count": 23,
   "outputs": [
    {
     "data": {
      "text/plain": "<Figure size 432x288 with 1 Axes>",
      "image/png": "[encoded data removed]"
     },
     "metadata": {
      "needs_background": "light"
     },
     "output_type": "display_data"
    }
   ],
   "source": [
    "tissue_path = '../novosparc/datasets/tissue_example.png'\n",
    "locations_from_image = novosparc.gm.create_target_space_from_image(tissue_path)\n",
    "locations_from_image = locations_from_image[np.random.choice(locations_from_image.shape[0], num_locations), :]\n",
    "tit_size = 15\n",
    "dpi = 100\n",
    "fig = plt.scatter(locations_from_image[:, 0], locations_from_image[:, 1], s=3)\n",
    "plt.tight_layout()\n",
    "plt.show()"
   ],
   "metadata": {
    "collapsed": false,
    "pycharm": {
     "name": "#%%\n"
    }
   }
  },
  {
   "cell_type": "code",
   "execution_count": null,
   "outputs": [],
   "source": [
    "# tit_size = 15\n",
    "# dpi = 100\n",
    "# fig, ax = plt.subplots(1,3, figsize=(12,3), dpi=dpi)\n",
    "#\n",
    "# ax[0].scatter(locations_apriori[:, 0], locations_apriori[:, 1], s=3)\n",
    "# ax[1].scatter(locations_from_image[:, 0], locations_from_image[:, 1], s=3)\n",
    "# ax[2].scatter(locations_circle[:, 0], locations_circle[:, 1], s=3)\n",
    "#\n",
    "# ax[0].set_title('Target space available apriori', size=tit_size)\n",
    "# ax[1].set_title('Prior shape without exact locations', size=tit_size)\n",
    "# ax[2].set_title('No prior knowledge of target space', size=tit_size)\n",
    "#\n",
    "# ax[0].axis('off')\n",
    "# ax[1].axis('off')\n",
    "# ax[2].axis('off')\n",
    "#\n",
    "# plt.tight_layout()\n",
    "# plt.show()"
   ],
   "metadata": {
    "collapsed": false,
    "pycharm": {
     "name": "#%%\n"
    }
   }
  },
  {
   "cell_type": "markdown",
   "source": [
    "### Generate Tissue object"
   ],
   "metadata": {
    "collapsed": false,
    "pycharm": {
     "name": "#%% md\n"
    }
   }
  },
  {
   "cell_type": "markdown",
   "source": [
    "**Square**"
   ],
   "metadata": {
    "collapsed": false,
    "pycharm": {
     "name": "#%% md\n"
    }
   }
  },
  {
   "cell_type": "code",
   "execution_count": 24,
   "outputs": [
    {
     "name": "stdout",
     "output_type": "stream",
     "text": [
      "Setting up for reconstruction ... done ( 0.01 seconds )\n",
      "CPU times: user 21.7 ms, sys: 138 µs, total: 21.9 ms\n",
      "Wall time: 20.4 ms\n"
     ]
    }
   ],
   "source": [
    "%%time\n",
    "tissue = novosparc.cm.Tissue(dataset=adata, locations=locations_squared)\n",
    "num_neighbors_s = num_neighbors_t = 5\n",
    "\n",
    "# since we don't have the atlas assumption, we can also setup only the smooth costs.\n",
    "tissue.setup_smooth_costs(dge_rep=dge_rep, num_neighbors_s=num_neighbors_s, num_neighbors_t=num_neighbors_t)"
   ],
   "metadata": {
    "collapsed": false,
    "pycharm": {
     "name": "#%%\n"
    }
   }
  },
  {
   "cell_type": "code",
   "execution_count": 25,
   "outputs": [
    {
     "name": "stdout",
     "output_type": "stream",
     "text": [
      "Reconstructing spatial information with 0 markers: 10 cells and 63 locations ... \n",
      "Trying with epsilon: 5.00e-03\n",
      "CPU times: user 909 ms, sys: 5.91 ms, total: 915 ms\n",
      "Wall time: 884 ms\n"
     ]
    }
   ],
   "source": [
    "%%time\n",
    "tissue.reconstruct(alpha_linear=0, epsilon=5e-3)"
   ],
   "metadata": {
    "collapsed": false,
    "pycharm": {
     "name": "#%%\n"
    }
   }
  },
  {
   "cell_type": "markdown",
   "source": [
    "**Circle**"
   ],
   "metadata": {
    "collapsed": false,
    "pycharm": {
     "name": "#%% md\n"
    }
   }
  },
  {
   "cell_type": "code",
   "execution_count": 30,
   "outputs": [
    {
     "name": "stdout",
     "output_type": "stream",
     "text": [
      "Setting up for reconstruction ... done ( 0.01 seconds )\n",
      "CPU times: user 20.1 ms, sys: 0 ns, total: 20.1 ms\n",
      "Wall time: 18.6 ms\n"
     ]
    }
   ],
   "source": [
    "%%time\n",
    "tissue = novosparc.cm.Tissue(dataset=adata, locations=locations_circle)\n",
    "num_neighbors_s = num_neighbors_t = 5\n",
    "\n",
    "# since we don't have the atlas assumption, we can also setup only the smooth costs.\n",
    "tissue.setup_smooth_costs(dge_rep=dge_rep, num_neighbors_s=num_neighbors_s, num_neighbors_t=num_neighbors_t)"
   ],
   "metadata": {
    "collapsed": false,
    "pycharm": {
     "name": "#%%\n"
    }
   }
  },
  {
   "cell_type": "code",
   "execution_count": 31,
   "outputs": [
    {
     "name": "stdout",
     "output_type": "stream",
     "text": [
      "Reconstructing spatial information with 0 markers: 10 cells and 50 locations ... \n",
      "Trying with epsilon: 5.00e-03\n",
      "CPU times: user 8.06 s, sys: 0 ns, total: 8.06 s\n",
      "Wall time: 8.02 s\n"
     ]
    }
   ],
   "source": [
    "%%time\n",
    "tissue.reconstruct(alpha_linear=0, epsilon=5e-3)"
   ],
   "metadata": {
    "collapsed": false,
    "pycharm": {
     "name": "#%%\n"
    }
   }
  },
  {
   "cell_type": "markdown",
   "source": [
    "**Tissue**"
   ],
   "metadata": {
    "collapsed": false,
    "pycharm": {
     "name": "#%% md\n"
    }
   }
  },
  {
   "cell_type": "code",
   "execution_count": 32,
   "outputs": [
    {
     "name": "stdout",
     "output_type": "stream",
     "text": [
      "Setting up for reconstruction ... done ( 0.02 seconds )\n",
      "CPU times: user 177 ms, sys: 210 ms, total: 387 ms\n",
      "Wall time: 37.2 ms\n"
     ]
    }
   ],
   "source": [
    "%%time\n",
    "tissue = novosparc.cm.Tissue(dataset=adata, locations=locations_from_image)\n",
    "num_neighbors_s = num_neighbors_t = 5\n",
    "\n",
    "# since we don't have the atlas assumption, we can also setup only the smooth costs.\n",
    "tissue.setup_smooth_costs(dge_rep=dge_rep, num_neighbors_s=num_neighbors_s, num_neighbors_t=num_neighbors_t)"
   ],
   "metadata": {
    "collapsed": false,
    "pycharm": {
     "name": "#%%\n"
    }
   }
  },
  {
   "cell_type": "code",
   "execution_count": 33,
   "outputs": [
    {
     "name": "stdout",
     "output_type": "stream",
     "text": [
      "Reconstructing spatial information with 0 markers: 10 cells and 50 locations ... \n",
      "Trying with epsilon: 5.00e-03\n",
      "CPU times: user 2.11 s, sys: 133 ms, total: 2.24 s\n",
      "Wall time: 2.01 s\n"
     ]
    }
   ],
   "source": [
    "%%time\n",
    "tissue.reconstruct(alpha_linear=0, epsilon=5e-3)"
   ],
   "metadata": {
    "collapsed": false,
    "pycharm": {
     "name": "#%%\n"
    }
   }
  },
  {
   "cell_type": "markdown",
   "source": [
    "## Random thoughts and sources so far\n",
    "\n",
    "* the first test with just using square, circle, tissue seems like to support the hypothesis. (square: 909ms, tissue: 2.01s, circle: 8.02s)\n",
    "* next steps here:\n",
    "    - generate polygones with increasing amount of edges and benchmark runtime (e.g using [OpenCV polylines()](https://www.geeksforgeeks.org/python-opencv-cv2-polylines-method/)\n",
    "    - also check runtime differences with increasing amount of vertices (num_locations) on 1 or 2 different geometries and shapes\n",
    "\n",
    "\n",
    "Furthermore my theory on that there should be some optimization material from the visu/comp graphics community looks like the right direction. Here some sources that I found from a fast initial skimm:\n",
    "* https://docs.unity3d.com/550/Documentation/Manual/OptimizingGraphicsPerformance.html\n",
    "* also maybe: https://developer.arm.com/documentation/102448/0100/Triangle-and-polygon-usage\n",
    "\n",
    "I guess one task here now would be to figure out how the mapping process works and how to figure out which geometries etc are used, how to get the infos about it and how to tweak it.\n",
    "\n",
    "But again - maybe this is not even necessary because of relevance. However, it might be a good thing to include in the documentation/issues of novosparc so ppl are better informed about it.\n",
    "\n",
    "Also maybe do the test wiht the drosophila data - since there is already more experience and known stuff on it. Although it also could be interesting to test the runtime stuff with different number of genes."
   ],
   "metadata": {
    "collapsed": false,
    "pycharm": {
     "name": "#%% md\n"
    }
   }
  },
  {
   "cell_type": "code",
   "execution_count": 33,
   "outputs": [],
   "source": [],
   "metadata": {
    "collapsed": false,
    "pycharm": {
     "name": "#%%\n"
    }
   }
  }
 ],
 "metadata": {
  "kernelspec": {
   "display_name": "Python 3",
   "language": "python",
   "name": "python3"
  },
  "language_info": {
   "codemirror_mode": {
    "name": "ipython",
    "version": 2
   },
   "file_extension": ".py",
   "mimetype": "text/x-python",
   "name": "python",
   "nbconvert_exporter": "python",
   "pygments_lexer": "ipython2",
   "version": "2.7.6"
  }
 },
 "nbformat": 4,
 "nbformat_minor": 0
}