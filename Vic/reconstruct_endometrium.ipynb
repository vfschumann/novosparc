{
 "cells": [
  {
   "cell_type": "markdown",
   "source": [
    "# Reconstruct endomterium\n",
    "\n",
    "This notebook is for...\n",
    "using this data...\n",
    "\n",
    "the aim is...\n",
    "it contains....\n"
   ],
   "metadata": {
    "collapsed": false,
    "pycharm": {
     "name": "#%% md\n"
    }
   }
  },
  {
   "cell_type": "code",
   "execution_count": 1,
   "outputs": [],
   "source": [
    "import os\n",
    "import novosparc\n",
    "import scanpy as sc\n",
    "import numpy as np\n",
    "import pandas as pd\n",
    "import matplotlib.pyplot as pl\n",
    "\n",
    "import warnings\n",
    "warnings.filterwarnings(\"ignore\")\n",
    "\n",
    "from matplotlib import rcParams\n",
    "rcParams['font.family'] = 'sans-serif'"
   ],
   "metadata": {
    "collapsed": false,
    "pycharm": {
     "name": "#%%\n"
    }
   }
  },
  {
   "cell_type": "markdown",
   "source": [
    "## the data\n",
    "downloaded here:\n",
    "placed here on murphy:"
   ],
   "metadata": {
    "collapsed": false,
    "pycharm": {
     "name": "#%% md\n"
    }
   }
  },
  {
   "cell_type": "code",
   "execution_count": 2,
   "outputs": [],
   "source": [
    "dirname = '/mnt/ramdisk'\n",
    "fname = os.path.join(dirname,'uterus_histo.h5ad')"
   ],
   "metadata": {
    "collapsed": false,
    "pycharm": {
     "name": "#%%\n"
    }
   }
  },
  {
   "cell_type": "code",
   "execution_count": 3,
   "outputs": [],
   "source": [
    "# read data\n",
    "adata = sc.read(fname)"
   ],
   "metadata": {
    "collapsed": false,
    "pycharm": {
     "name": "#%%\n"
    }
   }
  },
  {
   "cell_type": "code",
   "execution_count": 4,
   "outputs": [
    {
     "data": {
      "text/plain": "                                         SampleID  log2p1_count  percent_mito  \\\n4861STDY7387181_AAACCTGAGGCATGGT  4861STDY7387181     13.951467      0.057320   \n4861STDY7387181_AAACCTGAGGGCACTA  4861STDY7387181     13.776227      0.043838   \n4861STDY7387181_AAACCTGAGTGAAGTT  4861STDY7387181     12.894628      0.070791   \n4861STDY7387181_AAACCTGAGTGGGCTA  4861STDY7387181     12.329235      0.071137   \n4861STDY7387181_AAACCTGCACCGAAAG  4861STDY7387181     12.171176      0.063977   \n...                                           ...           ...           ...   \n4861STDY7771123_TTTGTCATCCACGCAG  4861STDY7771123     10.534303      0.027665   \n4861STDY7771123_TTTGTCATCCACTCCA  4861STDY7771123     10.245553      0.065952   \n4861STDY7771123_TTTGTCATCCCATTAT  4861STDY7771123     10.759888      0.052510   \n4861STDY7771123_TTTGTCATCGGTCTAA  4861STDY7771123     10.208235      0.016920   \n4861STDY7771123_TTTGTCATCTTCGAGA  4861STDY7771123     11.063395      0.028050   \n\n                                  n_genes DonorID   BiopsyType  \\\n4861STDY7387181_AAACCTGAGGCATGGT     3842     A13  Organ_Donor   \n4861STDY7387181_AAACCTGAGGGCACTA     3544     A13  Organ_Donor   \n4861STDY7387181_AAACCTGAGTGAAGTT     2507     A13  Organ_Donor   \n4861STDY7387181_AAACCTGAGTGGGCTA     1928     A13  Organ_Donor   \n4861STDY7387181_AAACCTGCACCGAAAG     1824     A13  Organ_Donor   \n...                                   ...     ...          ...   \n4861STDY7771123_TTTGTCATCCACGCAG      700     A30  Organ_Donor   \n4861STDY7771123_TTTGTCATCCACTCCA      635     A30  Organ_Donor   \n4861STDY7771123_TTTGTCATCCCATTAT      855     A30  Organ_Donor   \n4861STDY7771123_TTTGTCATCGGTCTAA      580     A30  Organ_Donor   \n4861STDY7771123_TTTGTCATCTTCGAGA     1046     A30  Organ_Donor   \n\n                                              Location   Binary Stage  \\\n4861STDY7387181_AAACCTGAGGCATGGT  endometrium_enriched  Proliferative   \n4861STDY7387181_AAACCTGAGGGCACTA  endometrium_enriched  Proliferative   \n4861STDY7387181_AAACCTGAGTGAAGTT  endometrium_enriched  Proliferative   \n4861STDY7387181_AAACCTGAGTGGGCTA  endometrium_enriched  Proliferative   \n4861STDY7387181_AAACCTGCACCGAAAG  endometrium_enriched  Proliferative   \n...                                                ...            ...   \n4861STDY7771123_TTTGTCATCCACGCAG  endometrium_enriched      Secretory   \n4861STDY7771123_TTTGTCATCCACTCCA  endometrium_enriched      Secretory   \n4861STDY7771123_TTTGTCATCCCATTAT  endometrium_enriched      Secretory   \n4861STDY7771123_TTTGTCATCGGTCTAA  endometrium_enriched      Secretory   \n4861STDY7771123_TTTGTCATCTTCGAGA  endometrium_enriched      Secretory   \n\n                                            Stage Broad cell type  Cell type  \\\n4861STDY7387181_AAACCTGAGGCATGGT    proliferative         Stromal         eS   \n4861STDY7387181_AAACCTGAGGGCACTA    proliferative         Stromal         eS   \n4861STDY7387181_AAACCTGAGTGAAGTT    proliferative      Supporting  PV STEAP4   \n4861STDY7387181_AAACCTGAGTGGGCTA    proliferative         Stromal         dS   \n4861STDY7387181_AAACCTGCACCGAAAG    proliferative         Stromal         eS   \n...                                           ...             ...        ...   \n4861STDY7771123_TTTGTCATCCACGCAG  early-secretory      Supporting  PV STEAP4   \n4861STDY7771123_TTTGTCATCCACTCCA  early-secretory      Supporting  PV STEAP4   \n4861STDY7771123_TTTGTCATCCCATTAT  early-secretory      Supporting       uSMC   \n4861STDY7771123_TTTGTCATCGGTCTAA  early-secretory         Stromal         dS   \n4861STDY7771123_TTTGTCATCTTCGAGA  early-secretory      Supporting       uSMC   \n\n                                 CellCycle Phase  \n4861STDY7387181_AAACCTGAGGCATGGT               S  \n4861STDY7387181_AAACCTGAGGGCACTA              G1  \n4861STDY7387181_AAACCTGAGTGAAGTT              G1  \n4861STDY7387181_AAACCTGAGTGGGCTA              G1  \n4861STDY7387181_AAACCTGCACCGAAAG              G1  \n...                                          ...  \n4861STDY7771123_TTTGTCATCCACGCAG              G1  \n4861STDY7771123_TTTGTCATCCACTCCA              G1  \n4861STDY7771123_TTTGTCATCCCATTAT              G1  \n4861STDY7771123_TTTGTCATCGGTCTAA              G1  \n4861STDY7771123_TTTGTCATCTTCGAGA              G1  \n\n[35423 rows x 12 columns]",
      "text/html": "<div>\n<style scoped>\n    .dataframe tbody tr th:only-of-type {\n        vertical-align: middle;\n    }\n\n    .dataframe tbody tr th {\n        vertical-align: top;\n    }\n\n    .dataframe thead th {\n        text-align: right;\n    }\n</style>\n<table border=\"1\" class=\"dataframe\">\n  <thead>\n    <tr style=\"text-align: right;\">\n      <th></th>\n      <th>SampleID</th>\n      <th>log2p1_count</th>\n      <th>percent_mito</th>\n      <th>n_genes</th>\n      <th>DonorID</th>\n      <th>BiopsyType</th>\n      <th>Location</th>\n      <th>Binary Stage</th>\n      <th>Stage</th>\n      <th>Broad cell type</th>\n      <th>Cell type</th>\n      <th>CellCycle Phase</th>\n    </tr>\n  </thead>\n  <tbody>\n    <tr>\n      <th>4861STDY7387181_AAACCTGAGGCATGGT</th>\n      <td>4861STDY7387181</td>\n      <td>13.951467</td>\n      <td>0.057320</td>\n      <td>3842</td>\n      <td>A13</td>\n      <td>Organ_Donor</td>\n      <td>endometrium_enriched</td>\n      <td>Proliferative</td>\n      <td>proliferative</td>\n      <td>Stromal</td>\n      <td>eS</td>\n      <td>S</td>\n    </tr>\n    <tr>\n      <th>4861STDY7387181_AAACCTGAGGGCACTA</th>\n      <td>4861STDY7387181</td>\n      <td>13.776227</td>\n      <td>0.043838</td>\n      <td>3544</td>\n      <td>A13</td>\n      <td>Organ_Donor</td>\n      <td>endometrium_enriched</td>\n      <td>Proliferative</td>\n      <td>proliferative</td>\n      <td>Stromal</td>\n      <td>eS</td>\n      <td>G1</td>\n    </tr>\n    <tr>\n      <th>4861STDY7387181_AAACCTGAGTGAAGTT</th>\n      <td>4861STDY7387181</td>\n      <td>12.894628</td>\n      <td>0.070791</td>\n      <td>2507</td>\n      <td>A13</td>\n      <td>Organ_Donor</td>\n      <td>endometrium_enriched</td>\n      <td>Proliferative</td>\n      <td>proliferative</td>\n      <td>Supporting</td>\n      <td>PV STEAP4</td>\n      <td>G1</td>\n    </tr>\n    <tr>\n      <th>4861STDY7387181_AAACCTGAGTGGGCTA</th>\n      <td>4861STDY7387181</td>\n      <td>12.329235</td>\n      <td>0.071137</td>\n      <td>1928</td>\n      <td>A13</td>\n      <td>Organ_Donor</td>\n      <td>endometrium_enriched</td>\n      <td>Proliferative</td>\n      <td>proliferative</td>\n      <td>Stromal</td>\n      <td>dS</td>\n      <td>G1</td>\n    </tr>\n    <tr>\n      <th>4861STDY7387181_AAACCTGCACCGAAAG</th>\n      <td>4861STDY7387181</td>\n      <td>12.171176</td>\n      <td>0.063977</td>\n      <td>1824</td>\n      <td>A13</td>\n      <td>Organ_Donor</td>\n      <td>endometrium_enriched</td>\n      <td>Proliferative</td>\n      <td>proliferative</td>\n      <td>Stromal</td>\n      <td>eS</td>\n      <td>G1</td>\n    </tr>\n    <tr>\n      <th>...</th>\n      <td>...</td>\n      <td>...</td>\n      <td>...</td>\n      <td>...</td>\n      <td>...</td>\n      <td>...</td>\n      <td>...</td>\n      <td>...</td>\n      <td>...</td>\n      <td>...</td>\n      <td>...</td>\n      <td>...</td>\n    </tr>\n    <tr>\n      <th>4861STDY7771123_TTTGTCATCCACGCAG</th>\n      <td>4861STDY7771123</td>\n      <td>10.534303</td>\n      <td>0.027665</td>\n      <td>700</td>\n      <td>A30</td>\n      <td>Organ_Donor</td>\n      <td>endometrium_enriched</td>\n      <td>Secretory</td>\n      <td>early-secretory</td>\n      <td>Supporting</td>\n      <td>PV STEAP4</td>\n      <td>G1</td>\n    </tr>\n    <tr>\n      <th>4861STDY7771123_TTTGTCATCCACTCCA</th>\n      <td>4861STDY7771123</td>\n      <td>10.245553</td>\n      <td>0.065952</td>\n      <td>635</td>\n      <td>A30</td>\n      <td>Organ_Donor</td>\n      <td>endometrium_enriched</td>\n      <td>Secretory</td>\n      <td>early-secretory</td>\n      <td>Supporting</td>\n      <td>PV STEAP4</td>\n      <td>G1</td>\n    </tr>\n    <tr>\n      <th>4861STDY7771123_TTTGTCATCCCATTAT</th>\n      <td>4861STDY7771123</td>\n      <td>10.759888</td>\n      <td>0.052510</td>\n      <td>855</td>\n      <td>A30</td>\n      <td>Organ_Donor</td>\n      <td>endometrium_enriched</td>\n      <td>Secretory</td>\n      <td>early-secretory</td>\n      <td>Supporting</td>\n      <td>uSMC</td>\n      <td>G1</td>\n    </tr>\n    <tr>\n      <th>4861STDY7771123_TTTGTCATCGGTCTAA</th>\n      <td>4861STDY7771123</td>\n      <td>10.208235</td>\n      <td>0.016920</td>\n      <td>580</td>\n      <td>A30</td>\n      <td>Organ_Donor</td>\n      <td>endometrium_enriched</td>\n      <td>Secretory</td>\n      <td>early-secretory</td>\n      <td>Stromal</td>\n      <td>dS</td>\n      <td>G1</td>\n    </tr>\n    <tr>\n      <th>4861STDY7771123_TTTGTCATCTTCGAGA</th>\n      <td>4861STDY7771123</td>\n      <td>11.063395</td>\n      <td>0.028050</td>\n      <td>1046</td>\n      <td>A30</td>\n      <td>Organ_Donor</td>\n      <td>endometrium_enriched</td>\n      <td>Secretory</td>\n      <td>early-secretory</td>\n      <td>Supporting</td>\n      <td>uSMC</td>\n      <td>G1</td>\n    </tr>\n  </tbody>\n</table>\n<p>35423 rows × 12 columns</p>\n</div>"
     },
     "execution_count": 4,
     "metadata": {},
     "output_type": "execute_result"
    }
   ],
   "source": [
    "adata.obs"
   ],
   "metadata": {
    "collapsed": false,
    "pycharm": {
     "name": "#%%\n"
    }
   }
  },
  {
   "cell_type": "code",
   "execution_count": 11,
   "outputs": [
    {
     "name": "stdout",
     "output_type": "stream",
     "text": [
      "Number of genes: 28614\n",
      "Number of cells per cell-type:\n",
      "eS                    9178\n",
      "uSMC                  7511\n",
      "Endothelial ACKR1     5494\n",
      "PV MYH11              3390\n",
      "dS                    2459\n",
      "PV STEAP4             2202\n",
      "Other                 1524\n",
      "Glandular             1113\n",
      "Fibroblast C7          869\n",
      "SOX9                   435\n",
      "Lymphoid               365\n",
      "Myeloid                298\n",
      "Endothelial SEMA3G     277\n",
      "Ciliated               276\n",
      "Lumenal                 32\n",
      "Name: Cell type, dtype: int64\n",
      "\n",
      "NUmber of cells per cell-type, broad tissue:\n",
      "Broad cell type     Epithelial  Endothelial  Immune  Supporting  Stromal  \\\n",
      "Cell type                                                                  \n",
      "SOX9                       435            0       0           0        0   \n",
      "Lumenal                     32            0       0           0        0   \n",
      "Glandular                 1113            0       0           0        0   \n",
      "Ciliated                   276            0       0           0        0   \n",
      "Lymphoid                     0            0     365           0        0   \n",
      "Myeloid                      0            0     298           0        0   \n",
      "Endothelial ACKR1            0         5494       0           0        0   \n",
      "Endothelial SEMA3G           0          277       0           0        0   \n",
      "PV MYH11                     0            0       0        3390        0   \n",
      "PV STEAP4                    0            0       0        2202        0   \n",
      "uSMC                         0            0       0        7511        0   \n",
      "Fibroblast C7                0            0       0         869        0   \n",
      "eS                           0            0       0           0     9178   \n",
      "dS                           0            0       0           0     2459   \n",
      "Other                        0            0       0        1171        0   \n",
      "\n",
      "Broad cell type     Excluded  \n",
      "Cell type                     \n",
      "SOX9                       0  \n",
      "Lumenal                    0  \n",
      "Glandular                  0  \n",
      "Ciliated                   0  \n",
      "Lymphoid                   0  \n",
      "Myeloid                    0  \n",
      "Endothelial ACKR1          0  \n",
      "Endothelial SEMA3G         0  \n",
      "PV MYH11                   0  \n",
      "PV STEAP4                  0  \n",
      "uSMC                       0  \n",
      "Fibroblast C7              0  \n",
      "eS                         0  \n",
      "dS                         0  \n",
      "Other                    353  \n"
     ]
    }
   ],
   "source": [
    "# get broad cell type\n",
    "col_ct_broad = \"Broad cell type\"\n",
    "# get cell types\n",
    "col_ct = \"Cell type\"\n",
    "genenames = list(adata.var.index)\n",
    "#genenames[1:5]\n",
    "ngenes = len(genenames)\n",
    "types = list(adata.obs[col_ct].unique())\n",
    "\n",
    "print('Number of genes: %d' % ngenes)\n",
    "print('Number of cells per cell-type:')\n",
    "print(adata.obs[col_ct].value_counts())\n",
    "print()\n",
    "print('NUmber of cells per cell-type, broad tissue:')\n",
    "print(adata.obs.groupby([col_ct, col_ct_broad]).size().unstack())"
   ],
   "metadata": {
    "collapsed": false,
    "pycharm": {
     "name": "#%%\n"
    }
   }
  },
  {
   "cell_type": "code",
   "execution_count": 12,
   "outputs": [],
   "source": [
    "# filtering excluded cells\n",
    "included = ~(adata.obs[col_ct] == 'Excluded')\n",
    "adata = adata[included]"
   ],
   "metadata": {
    "collapsed": false,
    "pycharm": {
     "name": "#%%\n"
    }
   }
  },
  {
   "cell_type": "code",
   "execution_count": null,
   "outputs": [],
   "source": [],
   "metadata": {
    "collapsed": false,
    "pycharm": {
     "name": "#%%\n"
    }
   }
  }
 ],
 "metadata": {
  "kernelspec": {
   "display_name": "Python 3",
   "language": "python",
   "name": "python3"
  },
  "language_info": {
   "codemirror_mode": {
    "name": "ipython",
    "version": 2
   },
   "file_extension": ".py",
   "mimetype": "text/x-python",
   "name": "python",
   "nbconvert_exporter": "python",
   "pygments_lexer": "ipython2",
   "version": "2.7.6"
  }
 },
 "nbformat": 4,
 "nbformat_minor": 0
}