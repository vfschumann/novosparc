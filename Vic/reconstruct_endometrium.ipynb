{
 "cells": [
  {
   "cell_type": "markdown",
   "source": [
    "# Reconstruct endomterium\n",
    "\n",
    "This notebook is for...\n",
    "using this data...\n",
    "\n",
    "the aim is...\n",
    "it contains....\n"
   ],
   "metadata": {
    "collapsed": false,
    "pycharm": {
     "name": "#%% md\n"
    }
   }
  },
  {
   "cell_type": "code",
   "execution_count": 2,
   "outputs": [],
   "source": [
    "import os\n",
    "import novosparc\n",
    "import scanpy as sc\n",
    "import scipy\n",
    "import numpy as np\n",
    "import pandas as pd\n",
    "import matplotlib.pyplot as plt\n",
    "\n",
    "import warnings\n",
    "warnings.filterwarnings(\"ignore\")\n",
    "\n",
    "from matplotlib import rcParams\n",
    "rcParams['font.family'] = 'sans-serif'"
   ],
   "metadata": {
    "collapsed": false,
    "pycharm": {
     "name": "#%%\n"
    }
   }
  },
  {
   "cell_type": "markdown",
   "source": [
    "## the data\n",
    "downloaded here:\n",
    "placed here on murphy:"
   ],
   "metadata": {
    "collapsed": false,
    "pycharm": {
     "name": "#%% md\n"
    }
   }
  },
  {
   "cell_type": "code",
   "execution_count": 3,
   "outputs": [],
   "source": [
    "# dirname = '/mnt/ramdisk'\n",
    "dirname = '/dev/shm/ramdisk/'\n",
    "fname = os.path.join(dirname,'uterus_histo.h5ad')"
   ],
   "metadata": {
    "collapsed": false,
    "pycharm": {
     "name": "#%%\n"
    }
   }
  },
  {
   "cell_type": "code",
   "execution_count": 4,
   "outputs": [],
   "source": [
    "# read data\n",
    "adata = sc.read(fname)"
   ],
   "metadata": {
    "collapsed": false,
    "pycharm": {
     "name": "#%%\n"
    }
   }
  },
  {
   "cell_type": "code",
   "execution_count": 5,
   "outputs": [
    {
     "data": {
      "text/plain": "                                         SampleID  log2p1_count  percent_mito  \\\n4861STDY7387181_AAACCTGAGGCATGGT  4861STDY7387181     13.951467      0.057320   \n4861STDY7387181_AAACCTGAGGGCACTA  4861STDY7387181     13.776227      0.043838   \n4861STDY7387181_AAACCTGAGTGAAGTT  4861STDY7387181     12.894628      0.070791   \n4861STDY7387181_AAACCTGAGTGGGCTA  4861STDY7387181     12.329235      0.071137   \n4861STDY7387181_AAACCTGCACCGAAAG  4861STDY7387181     12.171176      0.063977   \n...                                           ...           ...           ...   \n4861STDY7771123_TTTGTCATCCACGCAG  4861STDY7771123     10.534303      0.027665   \n4861STDY7771123_TTTGTCATCCACTCCA  4861STDY7771123     10.245553      0.065952   \n4861STDY7771123_TTTGTCATCCCATTAT  4861STDY7771123     10.759888      0.052510   \n4861STDY7771123_TTTGTCATCGGTCTAA  4861STDY7771123     10.208235      0.016920   \n4861STDY7771123_TTTGTCATCTTCGAGA  4861STDY7771123     11.063395      0.028050   \n\n                                  n_genes DonorID   BiopsyType  \\\n4861STDY7387181_AAACCTGAGGCATGGT     3842     A13  Organ_Donor   \n4861STDY7387181_AAACCTGAGGGCACTA     3544     A13  Organ_Donor   \n4861STDY7387181_AAACCTGAGTGAAGTT     2507     A13  Organ_Donor   \n4861STDY7387181_AAACCTGAGTGGGCTA     1928     A13  Organ_Donor   \n4861STDY7387181_AAACCTGCACCGAAAG     1824     A13  Organ_Donor   \n...                                   ...     ...          ...   \n4861STDY7771123_TTTGTCATCCACGCAG      700     A30  Organ_Donor   \n4861STDY7771123_TTTGTCATCCACTCCA      635     A30  Organ_Donor   \n4861STDY7771123_TTTGTCATCCCATTAT      855     A30  Organ_Donor   \n4861STDY7771123_TTTGTCATCGGTCTAA      580     A30  Organ_Donor   \n4861STDY7771123_TTTGTCATCTTCGAGA     1046     A30  Organ_Donor   \n\n                                              Location   Binary Stage  \\\n4861STDY7387181_AAACCTGAGGCATGGT  endometrium_enriched  Proliferative   \n4861STDY7387181_AAACCTGAGGGCACTA  endometrium_enriched  Proliferative   \n4861STDY7387181_AAACCTGAGTGAAGTT  endometrium_enriched  Proliferative   \n4861STDY7387181_AAACCTGAGTGGGCTA  endometrium_enriched  Proliferative   \n4861STDY7387181_AAACCTGCACCGAAAG  endometrium_enriched  Proliferative   \n...                                                ...            ...   \n4861STDY7771123_TTTGTCATCCACGCAG  endometrium_enriched      Secretory   \n4861STDY7771123_TTTGTCATCCACTCCA  endometrium_enriched      Secretory   \n4861STDY7771123_TTTGTCATCCCATTAT  endometrium_enriched      Secretory   \n4861STDY7771123_TTTGTCATCGGTCTAA  endometrium_enriched      Secretory   \n4861STDY7771123_TTTGTCATCTTCGAGA  endometrium_enriched      Secretory   \n\n                                            Stage Broad cell type  Cell type  \\\n4861STDY7387181_AAACCTGAGGCATGGT    proliferative         Stromal         eS   \n4861STDY7387181_AAACCTGAGGGCACTA    proliferative         Stromal         eS   \n4861STDY7387181_AAACCTGAGTGAAGTT    proliferative      Supporting  PV STEAP4   \n4861STDY7387181_AAACCTGAGTGGGCTA    proliferative         Stromal         dS   \n4861STDY7387181_AAACCTGCACCGAAAG    proliferative         Stromal         eS   \n...                                           ...             ...        ...   \n4861STDY7771123_TTTGTCATCCACGCAG  early-secretory      Supporting  PV STEAP4   \n4861STDY7771123_TTTGTCATCCACTCCA  early-secretory      Supporting  PV STEAP4   \n4861STDY7771123_TTTGTCATCCCATTAT  early-secretory      Supporting       uSMC   \n4861STDY7771123_TTTGTCATCGGTCTAA  early-secretory         Stromal         dS   \n4861STDY7771123_TTTGTCATCTTCGAGA  early-secretory      Supporting       uSMC   \n\n                                 CellCycle Phase  \n4861STDY7387181_AAACCTGAGGCATGGT               S  \n4861STDY7387181_AAACCTGAGGGCACTA              G1  \n4861STDY7387181_AAACCTGAGTGAAGTT              G1  \n4861STDY7387181_AAACCTGAGTGGGCTA              G1  \n4861STDY7387181_AAACCTGCACCGAAAG              G1  \n...                                          ...  \n4861STDY7771123_TTTGTCATCCACGCAG              G1  \n4861STDY7771123_TTTGTCATCCACTCCA              G1  \n4861STDY7771123_TTTGTCATCCCATTAT              G1  \n4861STDY7771123_TTTGTCATCGGTCTAA              G1  \n4861STDY7771123_TTTGTCATCTTCGAGA              G1  \n\n[35423 rows x 12 columns]",
      "text/html": "<div>\n<style scoped>\n    .dataframe tbody tr th:only-of-type {\n        vertical-align: middle;\n    }\n\n    .dataframe tbody tr th {\n        vertical-align: top;\n    }\n\n    .dataframe thead th {\n        text-align: right;\n    }\n</style>\n<table border=\"1\" class=\"dataframe\">\n  <thead>\n    <tr style=\"text-align: right;\">\n      <th></th>\n      <th>SampleID</th>\n      <th>log2p1_count</th>\n      <th>percent_mito</th>\n      <th>n_genes</th>\n      <th>DonorID</th>\n      <th>BiopsyType</th>\n      <th>Location</th>\n      <th>Binary Stage</th>\n      <th>Stage</th>\n      <th>Broad cell type</th>\n      <th>Cell type</th>\n      <th>CellCycle Phase</th>\n    </tr>\n  </thead>\n  <tbody>\n    <tr>\n      <th>4861STDY7387181_AAACCTGAGGCATGGT</th>\n      <td>4861STDY7387181</td>\n      <td>13.951467</td>\n      <td>0.057320</td>\n      <td>3842</td>\n      <td>A13</td>\n      <td>Organ_Donor</td>\n      <td>endometrium_enriched</td>\n      <td>Proliferative</td>\n      <td>proliferative</td>\n      <td>Stromal</td>\n      <td>eS</td>\n      <td>S</td>\n    </tr>\n    <tr>\n      <th>4861STDY7387181_AAACCTGAGGGCACTA</th>\n      <td>4861STDY7387181</td>\n      <td>13.776227</td>\n      <td>0.043838</td>\n      <td>3544</td>\n      <td>A13</td>\n      <td>Organ_Donor</td>\n      <td>endometrium_enriched</td>\n      <td>Proliferative</td>\n      <td>proliferative</td>\n      <td>Stromal</td>\n      <td>eS</td>\n      <td>G1</td>\n    </tr>\n    <tr>\n      <th>4861STDY7387181_AAACCTGAGTGAAGTT</th>\n      <td>4861STDY7387181</td>\n      <td>12.894628</td>\n      <td>0.070791</td>\n      <td>2507</td>\n      <td>A13</td>\n      <td>Organ_Donor</td>\n      <td>endometrium_enriched</td>\n      <td>Proliferative</td>\n      <td>proliferative</td>\n      <td>Supporting</td>\n      <td>PV STEAP4</td>\n      <td>G1</td>\n    </tr>\n    <tr>\n      <th>4861STDY7387181_AAACCTGAGTGGGCTA</th>\n      <td>4861STDY7387181</td>\n      <td>12.329235</td>\n      <td>0.071137</td>\n      <td>1928</td>\n      <td>A13</td>\n      <td>Organ_Donor</td>\n      <td>endometrium_enriched</td>\n      <td>Proliferative</td>\n      <td>proliferative</td>\n      <td>Stromal</td>\n      <td>dS</td>\n      <td>G1</td>\n    </tr>\n    <tr>\n      <th>4861STDY7387181_AAACCTGCACCGAAAG</th>\n      <td>4861STDY7387181</td>\n      <td>12.171176</td>\n      <td>0.063977</td>\n      <td>1824</td>\n      <td>A13</td>\n      <td>Organ_Donor</td>\n      <td>endometrium_enriched</td>\n      <td>Proliferative</td>\n      <td>proliferative</td>\n      <td>Stromal</td>\n      <td>eS</td>\n      <td>G1</td>\n    </tr>\n    <tr>\n      <th>...</th>\n      <td>...</td>\n      <td>...</td>\n      <td>...</td>\n      <td>...</td>\n      <td>...</td>\n      <td>...</td>\n      <td>...</td>\n      <td>...</td>\n      <td>...</td>\n      <td>...</td>\n      <td>...</td>\n      <td>...</td>\n    </tr>\n    <tr>\n      <th>4861STDY7771123_TTTGTCATCCACGCAG</th>\n      <td>4861STDY7771123</td>\n      <td>10.534303</td>\n      <td>0.027665</td>\n      <td>700</td>\n      <td>A30</td>\n      <td>Organ_Donor</td>\n      <td>endometrium_enriched</td>\n      <td>Secretory</td>\n      <td>early-secretory</td>\n      <td>Supporting</td>\n      <td>PV STEAP4</td>\n      <td>G1</td>\n    </tr>\n    <tr>\n      <th>4861STDY7771123_TTTGTCATCCACTCCA</th>\n      <td>4861STDY7771123</td>\n      <td>10.245553</td>\n      <td>0.065952</td>\n      <td>635</td>\n      <td>A30</td>\n      <td>Organ_Donor</td>\n      <td>endometrium_enriched</td>\n      <td>Secretory</td>\n      <td>early-secretory</td>\n      <td>Supporting</td>\n      <td>PV STEAP4</td>\n      <td>G1</td>\n    </tr>\n    <tr>\n      <th>4861STDY7771123_TTTGTCATCCCATTAT</th>\n      <td>4861STDY7771123</td>\n      <td>10.759888</td>\n      <td>0.052510</td>\n      <td>855</td>\n      <td>A30</td>\n      <td>Organ_Donor</td>\n      <td>endometrium_enriched</td>\n      <td>Secretory</td>\n      <td>early-secretory</td>\n      <td>Supporting</td>\n      <td>uSMC</td>\n      <td>G1</td>\n    </tr>\n    <tr>\n      <th>4861STDY7771123_TTTGTCATCGGTCTAA</th>\n      <td>4861STDY7771123</td>\n      <td>10.208235</td>\n      <td>0.016920</td>\n      <td>580</td>\n      <td>A30</td>\n      <td>Organ_Donor</td>\n      <td>endometrium_enriched</td>\n      <td>Secretory</td>\n      <td>early-secretory</td>\n      <td>Stromal</td>\n      <td>dS</td>\n      <td>G1</td>\n    </tr>\n    <tr>\n      <th>4861STDY7771123_TTTGTCATCTTCGAGA</th>\n      <td>4861STDY7771123</td>\n      <td>11.063395</td>\n      <td>0.028050</td>\n      <td>1046</td>\n      <td>A30</td>\n      <td>Organ_Donor</td>\n      <td>endometrium_enriched</td>\n      <td>Secretory</td>\n      <td>early-secretory</td>\n      <td>Supporting</td>\n      <td>uSMC</td>\n      <td>G1</td>\n    </tr>\n  </tbody>\n</table>\n<p>35423 rows × 12 columns</p>\n</div>"
     },
     "execution_count": 5,
     "metadata": {},
     "output_type": "execute_result"
    }
   ],
   "source": [
    "adata.obs"
   ],
   "metadata": {
    "collapsed": false,
    "pycharm": {
     "name": "#%%\n"
    }
   }
  },
  {
   "cell_type": "code",
   "execution_count": 6,
   "outputs": [
    {
     "name": "stdout",
     "output_type": "stream",
     "text": [
      "number of cells: 35423\n",
      "Number of genes: 28614\n",
      "Number of cells per cell-type:\n",
      "eS                    9178\n",
      "uSMC                  7511\n",
      "Endothelial ACKR1     5494\n",
      "PV MYH11              3390\n",
      "dS                    2459\n",
      "PV STEAP4             2202\n",
      "Other                 1524\n",
      "Glandular             1113\n",
      "Fibroblast C7          869\n",
      "SOX9                   435\n",
      "Lymphoid               365\n",
      "Myeloid                298\n",
      "Endothelial SEMA3G     277\n",
      "Ciliated               276\n",
      "Lumenal                 32\n",
      "Name: Cell type, dtype: int64\n",
      "\n",
      "NUmber of cells per cell-type, broad tissue:\n",
      "Broad cell type     Epithelial  Endothelial  Immune  Supporting  Stromal  \\\n",
      "Cell type                                                                  \n",
      "SOX9                       435            0       0           0        0   \n",
      "Lumenal                     32            0       0           0        0   \n",
      "Glandular                 1113            0       0           0        0   \n",
      "Ciliated                   276            0       0           0        0   \n",
      "Lymphoid                     0            0     365           0        0   \n",
      "Myeloid                      0            0     298           0        0   \n",
      "Endothelial ACKR1            0         5494       0           0        0   \n",
      "Endothelial SEMA3G           0          277       0           0        0   \n",
      "PV MYH11                     0            0       0        3390        0   \n",
      "PV STEAP4                    0            0       0        2202        0   \n",
      "uSMC                         0            0       0        7511        0   \n",
      "Fibroblast C7                0            0       0         869        0   \n",
      "eS                           0            0       0           0     9178   \n",
      "dS                           0            0       0           0     2459   \n",
      "Other                        0            0       0        1171        0   \n",
      "\n",
      "Broad cell type     Excluded  \n",
      "Cell type                     \n",
      "SOX9                       0  \n",
      "Lumenal                    0  \n",
      "Glandular                  0  \n",
      "Ciliated                   0  \n",
      "Lymphoid                   0  \n",
      "Myeloid                    0  \n",
      "Endothelial ACKR1          0  \n",
      "Endothelial SEMA3G         0  \n",
      "PV MYH11                   0  \n",
      "PV STEAP4                  0  \n",
      "uSMC                       0  \n",
      "Fibroblast C7              0  \n",
      "eS                         0  \n",
      "dS                         0  \n",
      "Other                    353  \n"
     ]
    }
   ],
   "source": [
    "# get broad cell type\n",
    "col_ct_broad = \"Broad cell type\"\n",
    "# get cell types\n",
    "col_ct = \"Cell type\"\n",
    "genenames = list(adata.var.index)\n",
    "#genenames[1:5]\n",
    "ngenes = len(genenames)\n",
    "types = list(adata.obs[col_ct].unique())\n",
    "num_cells, num_genes = adata.shape\n",
    "\n",
    "print('number of cells: %d' % num_cells)\n",
    "print('Number of genes: %d' % ngenes)\n",
    "print('Number of cells per cell-type:')\n",
    "print(adata.obs[col_ct].value_counts())\n",
    "print()\n",
    "print('NUmber of cells per cell-type, broad tissue:')\n",
    "print(adata.obs.groupby([col_ct, col_ct_broad]).size().unstack())"
   ],
   "metadata": {
    "collapsed": false,
    "pycharm": {
     "name": "#%%\n"
    }
   }
  },
  {
   "cell_type": "code",
   "execution_count": 7,
   "outputs": [],
   "source": [
    "# filtering excluded cells\n",
    "included = ~(adata.obs[col_ct] == 'Excluded')\n",
    "adata = adata[included]"
   ],
   "metadata": {
    "collapsed": false,
    "pycharm": {
     "name": "#%%\n"
    }
   }
  },
  {
   "cell_type": "code",
   "execution_count": 8,
   "outputs": [],
   "source": [
    "# optional: subset cells\n",
    "num_cells = 10\n",
    "sc.pp.subsample(adata, n_obs=num_cells)"
   ],
   "metadata": {
    "collapsed": false,
    "pycharm": {
     "name": "#%%\n"
    }
   }
  },
  {
   "cell_type": "markdown",
   "source": [],
   "metadata": {
    "collapsed": false,
    "pycharm": {
     "name": "#%% md\n"
    }
   }
  },
  {
   "cell_type": "markdown",
   "source": [
    "### (Optional) Generate low dimensional representation of the data\n",
    "To reduce the noise, capture meaningful expression distances between cells and reduce runtimes, it is advisable to decrease the dimension of gene expression. This can be done, for example, by either subsetting the gene expression matrix for highly variable genes or using PCA representation."
   ],
   "metadata": {
    "collapsed": false,
    "pycharm": {
     "name": "#%% md\n"
    }
   }
  },
  {
   "cell_type": "code",
   "execution_count": 9,
   "outputs": [
    {
     "data": {
      "text/plain": "                                  SAMD11  HES4   TNFRSF4  PIK3CD-AS2  \\\n4861STDY7771123_GCAAACTCAGACGCTC     0.0   0.0  0.000000    0.000000   \n4861STDY7771115_GTGGGTCTCATGTAGC     0.0   2.0  0.000000    0.000000   \n4861STDY7771123_GGCGTGTAGTGTTTGC     0.0   0.0  0.000000    0.000000   \n4861STDY7387183_AGGCCGTTCGAATGGG     0.0   0.0  0.000000    0.000000   \n4861STDY7771123_CCACCTATCACTTACT     0.0   0.0  0.000000    0.000000   \n4861STDY7771115_AATCCAGAGCTAACTC     0.0   1.0  0.000000    0.000000   \n4861STDY7387181_CTGTTTAGTGAACCTT     1.0   0.0  1.584962    0.000000   \n4861STDY7387182_CGCTATCCAGTCAGCC     2.0   0.0  0.000000    1.584962   \n4861STDY7771123_CGGACTGGTTGTACAC     0.0   0.0  0.000000    0.000000   \n4861STDY7387182_CGTTGGGCAAGCTGTT     1.0   1.0  0.000000    0.000000   \n\n                                      RBP7       SRM  HSPB7      NBL1  \\\n4861STDY7771123_GCAAACTCAGACGCTC  0.000000  0.000000    0.0  0.000000   \n4861STDY7771115_GTGGGTCTCATGTAGC  0.000000  1.584962    0.0  1.000000   \n4861STDY7771123_GGCGTGTAGTGTTTGC  0.000000  0.000000    0.0  1.000000   \n4861STDY7387183_AGGCCGTTCGAATGGG  0.000000  0.000000    3.0  0.000000   \n4861STDY7771123_CCACCTATCACTTACT  0.000000  0.000000    0.0  0.000000   \n4861STDY7771115_AATCCAGAGCTAACTC  0.000000  0.000000    1.0  0.000000   \n4861STDY7387181_CTGTTTAGTGAACCTT  1.584962  0.000000    1.0  1.000000   \n4861STDY7387182_CGCTATCCAGTCAGCC  2.584963  1.584962    0.0  2.584963   \n4861STDY7771123_CGGACTGGTTGTACAC  0.000000  0.000000    0.0  0.000000   \n4861STDY7387182_CGTTGGGCAAGCTGTT  1.584962  0.000000    0.0  2.000000   \n\n                                     PINK1    HP1BP3  ...     FBLN1  \\\n4861STDY7771123_GCAAACTCAGACGCTC  0.000000  0.000000  ...  1.584962   \n4861STDY7771115_GTGGGTCTCATGTAGC  0.000000  1.584962  ...  1.584962   \n4861STDY7771123_GGCGTGTAGTGTTTGC  0.000000  0.000000  ...  0.000000   \n4861STDY7387183_AGGCCGTTCGAATGGG  1.584962  0.000000  ...  0.000000   \n4861STDY7771123_CCACCTATCACTTACT  0.000000  0.000000  ...  1.584962   \n4861STDY7771115_AATCCAGAGCTAACTC  0.000000  0.000000  ...  0.000000   \n4861STDY7387181_CTGTTTAGTGAACCTT  1.584962  0.000000  ...  1.584962   \n4861STDY7387182_CGCTATCCAGTCAGCC  0.000000  2.321928  ...  4.392318   \n4861STDY7771123_CGGACTGGTTGTACAC  0.000000  0.000000  ...  0.000000   \n4861STDY7387182_CGTTGGGCAAGCTGTT  0.000000  0.000000  ...  2.000000   \n\n                                  CTA-29F11.1     CXADR    IFNAR2     MRPS6  \\\n4861STDY7771123_GCAAACTCAGACGCTC     0.000000  0.000000  0.000000  0.000000   \n4861STDY7771115_GTGGGTCTCATGTAGC     1.584962  0.000000  0.000000  0.000000   \n4861STDY7771123_GGCGTGTAGTGTTTGC     0.000000  0.000000  0.000000  1.000000   \n4861STDY7387183_AGGCCGTTCGAATGGG     0.000000  1.584962  0.000000  0.000000   \n4861STDY7771123_CCACCTATCACTTACT     0.000000  0.000000  0.000000  0.000000   \n4861STDY7771115_AATCCAGAGCTAACTC     0.000000  0.000000  0.000000  0.000000   \n4861STDY7387181_CTGTTTAGTGAACCTT     0.000000  0.000000  0.000000  3.169925   \n4861STDY7387182_CGCTATCCAGTCAGCC     1.584962  0.000000  0.000000  2.321928   \n4861STDY7771123_CGGACTGGTTGTACAC     0.000000  0.000000  0.000000  0.000000   \n4861STDY7387182_CGTTGGGCAAGCTGTT     0.000000  0.000000  1.584962  1.584962   \n\n                                  SLC5A3  BACE2    NDUFV3   PTTG1IP   COL18A1  \n4861STDY7771123_GCAAACTCAGACGCTC     0.0    0.0  0.000000  0.000000  0.000000  \n4861STDY7771115_GTGGGTCTCATGTAGC     0.0    1.0  0.000000  0.000000  2.807355  \n4861STDY7771123_GGCGTGTAGTGTTTGC     0.0    0.0  0.000000  1.000000  0.000000  \n4861STDY7387183_AGGCCGTTCGAATGGG     0.0    2.0  0.000000  1.584962  0.000000  \n4861STDY7771123_CCACCTATCACTTACT     0.0    0.0  0.000000  0.000000  1.000000  \n4861STDY7771115_AATCCAGAGCTAACTC     0.0    0.0  0.000000  0.000000  0.000000  \n4861STDY7387181_CTGTTTAGTGAACCTT     1.0    0.0  0.000000  0.000000  1.000000  \n4861STDY7387182_CGCTATCCAGTCAGCC     2.0    0.0  1.584962  2.000000  0.000000  \n4861STDY7771123_CGGACTGGTTGTACAC     0.0    0.0  0.000000  0.000000  0.000000  \n4861STDY7387182_CGTTGGGCAAGCTGTT     1.0    0.0  0.000000  0.000000  0.000000  \n\n[10 rows x 1025 columns]",
      "text/html": "<div>\n<style scoped>\n    .dataframe tbody tr th:only-of-type {\n        vertical-align: middle;\n    }\n\n    .dataframe tbody tr th {\n        vertical-align: top;\n    }\n\n    .dataframe thead th {\n        text-align: right;\n    }\n</style>\n<table border=\"1\" class=\"dataframe\">\n  <thead>\n    <tr style=\"text-align: right;\">\n      <th></th>\n      <th>SAMD11</th>\n      <th>HES4</th>\n      <th>TNFRSF4</th>\n      <th>PIK3CD-AS2</th>\n      <th>RBP7</th>\n      <th>SRM</th>\n      <th>HSPB7</th>\n      <th>NBL1</th>\n      <th>PINK1</th>\n      <th>HP1BP3</th>\n      <th>...</th>\n      <th>FBLN1</th>\n      <th>CTA-29F11.1</th>\n      <th>CXADR</th>\n      <th>IFNAR2</th>\n      <th>MRPS6</th>\n      <th>SLC5A3</th>\n      <th>BACE2</th>\n      <th>NDUFV3</th>\n      <th>PTTG1IP</th>\n      <th>COL18A1</th>\n    </tr>\n  </thead>\n  <tbody>\n    <tr>\n      <th>4861STDY7771123_GCAAACTCAGACGCTC</th>\n      <td>0.0</td>\n      <td>0.0</td>\n      <td>0.000000</td>\n      <td>0.000000</td>\n      <td>0.000000</td>\n      <td>0.000000</td>\n      <td>0.0</td>\n      <td>0.000000</td>\n      <td>0.000000</td>\n      <td>0.000000</td>\n      <td>...</td>\n      <td>1.584962</td>\n      <td>0.000000</td>\n      <td>0.000000</td>\n      <td>0.000000</td>\n      <td>0.000000</td>\n      <td>0.0</td>\n      <td>0.0</td>\n      <td>0.000000</td>\n      <td>0.000000</td>\n      <td>0.000000</td>\n    </tr>\n    <tr>\n      <th>4861STDY7771115_GTGGGTCTCATGTAGC</th>\n      <td>0.0</td>\n      <td>2.0</td>\n      <td>0.000000</td>\n      <td>0.000000</td>\n      <td>0.000000</td>\n      <td>1.584962</td>\n      <td>0.0</td>\n      <td>1.000000</td>\n      <td>0.000000</td>\n      <td>1.584962</td>\n      <td>...</td>\n      <td>1.584962</td>\n      <td>1.584962</td>\n      <td>0.000000</td>\n      <td>0.000000</td>\n      <td>0.000000</td>\n      <td>0.0</td>\n      <td>1.0</td>\n      <td>0.000000</td>\n      <td>0.000000</td>\n      <td>2.807355</td>\n    </tr>\n    <tr>\n      <th>4861STDY7771123_GGCGTGTAGTGTTTGC</th>\n      <td>0.0</td>\n      <td>0.0</td>\n      <td>0.000000</td>\n      <td>0.000000</td>\n      <td>0.000000</td>\n      <td>0.000000</td>\n      <td>0.0</td>\n      <td>1.000000</td>\n      <td>0.000000</td>\n      <td>0.000000</td>\n      <td>...</td>\n      <td>0.000000</td>\n      <td>0.000000</td>\n      <td>0.000000</td>\n      <td>0.000000</td>\n      <td>1.000000</td>\n      <td>0.0</td>\n      <td>0.0</td>\n      <td>0.000000</td>\n      <td>1.000000</td>\n      <td>0.000000</td>\n    </tr>\n    <tr>\n      <th>4861STDY7387183_AGGCCGTTCGAATGGG</th>\n      <td>0.0</td>\n      <td>0.0</td>\n      <td>0.000000</td>\n      <td>0.000000</td>\n      <td>0.000000</td>\n      <td>0.000000</td>\n      <td>3.0</td>\n      <td>0.000000</td>\n      <td>1.584962</td>\n      <td>0.000000</td>\n      <td>...</td>\n      <td>0.000000</td>\n      <td>0.000000</td>\n      <td>1.584962</td>\n      <td>0.000000</td>\n      <td>0.000000</td>\n      <td>0.0</td>\n      <td>2.0</td>\n      <td>0.000000</td>\n      <td>1.584962</td>\n      <td>0.000000</td>\n    </tr>\n    <tr>\n      <th>4861STDY7771123_CCACCTATCACTTACT</th>\n      <td>0.0</td>\n      <td>0.0</td>\n      <td>0.000000</td>\n      <td>0.000000</td>\n      <td>0.000000</td>\n      <td>0.000000</td>\n      <td>0.0</td>\n      <td>0.000000</td>\n      <td>0.000000</td>\n      <td>0.000000</td>\n      <td>...</td>\n      <td>1.584962</td>\n      <td>0.000000</td>\n      <td>0.000000</td>\n      <td>0.000000</td>\n      <td>0.000000</td>\n      <td>0.0</td>\n      <td>0.0</td>\n      <td>0.000000</td>\n      <td>0.000000</td>\n      <td>1.000000</td>\n    </tr>\n    <tr>\n      <th>4861STDY7771115_AATCCAGAGCTAACTC</th>\n      <td>0.0</td>\n      <td>1.0</td>\n      <td>0.000000</td>\n      <td>0.000000</td>\n      <td>0.000000</td>\n      <td>0.000000</td>\n      <td>1.0</td>\n      <td>0.000000</td>\n      <td>0.000000</td>\n      <td>0.000000</td>\n      <td>...</td>\n      <td>0.000000</td>\n      <td>0.000000</td>\n      <td>0.000000</td>\n      <td>0.000000</td>\n      <td>0.000000</td>\n      <td>0.0</td>\n      <td>0.0</td>\n      <td>0.000000</td>\n      <td>0.000000</td>\n      <td>0.000000</td>\n    </tr>\n    <tr>\n      <th>4861STDY7387181_CTGTTTAGTGAACCTT</th>\n      <td>1.0</td>\n      <td>0.0</td>\n      <td>1.584962</td>\n      <td>0.000000</td>\n      <td>1.584962</td>\n      <td>0.000000</td>\n      <td>1.0</td>\n      <td>1.000000</td>\n      <td>1.584962</td>\n      <td>0.000000</td>\n      <td>...</td>\n      <td>1.584962</td>\n      <td>0.000000</td>\n      <td>0.000000</td>\n      <td>0.000000</td>\n      <td>3.169925</td>\n      <td>1.0</td>\n      <td>0.0</td>\n      <td>0.000000</td>\n      <td>0.000000</td>\n      <td>1.000000</td>\n    </tr>\n    <tr>\n      <th>4861STDY7387182_CGCTATCCAGTCAGCC</th>\n      <td>2.0</td>\n      <td>0.0</td>\n      <td>0.000000</td>\n      <td>1.584962</td>\n      <td>2.584963</td>\n      <td>1.584962</td>\n      <td>0.0</td>\n      <td>2.584963</td>\n      <td>0.000000</td>\n      <td>2.321928</td>\n      <td>...</td>\n      <td>4.392318</td>\n      <td>1.584962</td>\n      <td>0.000000</td>\n      <td>0.000000</td>\n      <td>2.321928</td>\n      <td>2.0</td>\n      <td>0.0</td>\n      <td>1.584962</td>\n      <td>2.000000</td>\n      <td>0.000000</td>\n    </tr>\n    <tr>\n      <th>4861STDY7771123_CGGACTGGTTGTACAC</th>\n      <td>0.0</td>\n      <td>0.0</td>\n      <td>0.000000</td>\n      <td>0.000000</td>\n      <td>0.000000</td>\n      <td>0.000000</td>\n      <td>0.0</td>\n      <td>0.000000</td>\n      <td>0.000000</td>\n      <td>0.000000</td>\n      <td>...</td>\n      <td>0.000000</td>\n      <td>0.000000</td>\n      <td>0.000000</td>\n      <td>0.000000</td>\n      <td>0.000000</td>\n      <td>0.0</td>\n      <td>0.0</td>\n      <td>0.000000</td>\n      <td>0.000000</td>\n      <td>0.000000</td>\n    </tr>\n    <tr>\n      <th>4861STDY7387182_CGTTGGGCAAGCTGTT</th>\n      <td>1.0</td>\n      <td>1.0</td>\n      <td>0.000000</td>\n      <td>0.000000</td>\n      <td>1.584962</td>\n      <td>0.000000</td>\n      <td>0.0</td>\n      <td>2.000000</td>\n      <td>0.000000</td>\n      <td>0.000000</td>\n      <td>...</td>\n      <td>2.000000</td>\n      <td>0.000000</td>\n      <td>0.000000</td>\n      <td>1.584962</td>\n      <td>1.584962</td>\n      <td>1.0</td>\n      <td>0.0</td>\n      <td>0.000000</td>\n      <td>0.000000</td>\n      <td>0.000000</td>\n    </tr>\n  </tbody>\n</table>\n<p>10 rows × 1025 columns</p>\n</div>"
     },
     "execution_count": 9,
     "metadata": {},
     "output_type": "execute_result"
    }
   ],
   "source": [
    "dge_rep = None # a representation of cells gene expression\n",
    "sc.pp.highly_variable_genes(adata)\n",
    "is_var_gene = adata.var['highly_variable']\n",
    "var_genes = list(is_var_gene.index[is_var_gene])\n",
    "\n",
    "# alternative 1: variable expressed genes representation\n",
    "dge_rep = adata.to_df()[var_genes]\n",
    "dge_rep"
   ],
   "metadata": {
    "collapsed": false,
    "pycharm": {
     "name": "#%%\n"
    }
   }
  },
  {
   "cell_type": "code",
   "execution_count": 10,
   "outputs": [],
   "source": [
    "# alternative 2: pca representation\n",
    "# sc.pp.pca(adata)\n",
    "# dge_rep = pd.DataFrame(adata.obsm['X_pca'])\n",
    "# dge_rep\n",
    "# sc.pl.pca_variance_ratio(adata, log=True)"
   ],
   "metadata": {
    "collapsed": false,
    "pycharm": {
     "name": "#%%\n"
    }
   }
  },
  {
   "cell_type": "code",
   "execution_count": 11,
   "outputs": [
    {
     "name": "stdout",
     "output_type": "stream",
     "text": [
      "WARNING: You’re trying to run this on 28614 dimensions of `.X`, if you really want this, set `use_rep='X'`.\n",
      "         Falling back to preprocessing with `sc.pp.pca` and default params.\n"
     ]
    },
    {
     "ename": "ValueError",
     "evalue": "`X_pca` does not have enough PCs. Rerun `sc.pp.pca` with adjusted `n_comps`.",
     "output_type": "error",
     "traceback": [
      "\u001B[0;31m---------------------------------------------------------------------------\u001B[0m",
      "\u001B[0;31mValueError\u001B[0m                                Traceback (most recent call last)",
      "Input \u001B[0;32mIn [11]\u001B[0m, in \u001B[0;36m<cell line: 3>\u001B[0;34m()\u001B[0m\n\u001B[1;32m      1\u001B[0m \u001B[38;5;66;03m# make a umap just to see how it looks like\u001B[39;00m\n\u001B[1;32m      2\u001B[0m sc\u001B[38;5;241m.\u001B[39mpp\u001B[38;5;241m.\u001B[39mneighbors(adata, n_neighbors\u001B[38;5;241m=\u001B[39m\u001B[38;5;241m10\u001B[39m, n_pcs\u001B[38;5;241m=\u001B[39m\u001B[38;5;241m24\u001B[39m)\n\u001B[0;32m----> 3\u001B[0m \u001B[43msc\u001B[49m\u001B[38;5;241;43m.\u001B[39;49m\u001B[43mtl\u001B[49m\u001B[38;5;241;43m.\u001B[39;49m\u001B[43mumap\u001B[49m\u001B[43m(\u001B[49m\u001B[43madata\u001B[49m\u001B[43m)\u001B[49m\n\u001B[1;32m      4\u001B[0m sc\u001B[38;5;241m.\u001B[39mpl\u001B[38;5;241m.\u001B[39mumap(adata, color\u001B[38;5;241m=\u001B[39m\u001B[38;5;124m\"\u001B[39m\u001B[38;5;124mCell type\u001B[39m\u001B[38;5;124m\"\u001B[39m)\n",
      "File \u001B[0;32m~/anaconda3/envs/NovoSpaRc/lib/python3.9/site-packages/scanpy/tools/_umap.py:183\u001B[0m, in \u001B[0;36mumap\u001B[0;34m(adata, min_dist, spread, n_components, maxiter, alpha, gamma, negative_sample_rate, init_pos, random_state, a, b, copy, method, neighbors_key)\u001B[0m\n\u001B[1;32m    180\u001B[0m random_state \u001B[38;5;241m=\u001B[39m check_random_state(random_state)\n\u001B[1;32m    182\u001B[0m neigh_params \u001B[38;5;241m=\u001B[39m neighbors[\u001B[38;5;124m'\u001B[39m\u001B[38;5;124mparams\u001B[39m\u001B[38;5;124m'\u001B[39m]\n\u001B[0;32m--> 183\u001B[0m X \u001B[38;5;241m=\u001B[39m \u001B[43m_choose_representation\u001B[49m\u001B[43m(\u001B[49m\n\u001B[1;32m    184\u001B[0m \u001B[43m    \u001B[49m\u001B[43madata\u001B[49m\u001B[43m,\u001B[49m\n\u001B[1;32m    185\u001B[0m \u001B[43m    \u001B[49m\u001B[43mneigh_params\u001B[49m\u001B[38;5;241;43m.\u001B[39;49m\u001B[43mget\u001B[49m\u001B[43m(\u001B[49m\u001B[38;5;124;43m'\u001B[39;49m\u001B[38;5;124;43muse_rep\u001B[39;49m\u001B[38;5;124;43m'\u001B[39;49m\u001B[43m,\u001B[49m\u001B[43m \u001B[49m\u001B[38;5;28;43;01mNone\u001B[39;49;00m\u001B[43m)\u001B[49m\u001B[43m,\u001B[49m\n\u001B[1;32m    186\u001B[0m \u001B[43m    \u001B[49m\u001B[43mneigh_params\u001B[49m\u001B[38;5;241;43m.\u001B[39;49m\u001B[43mget\u001B[49m\u001B[43m(\u001B[49m\u001B[38;5;124;43m'\u001B[39;49m\u001B[38;5;124;43mn_pcs\u001B[39;49m\u001B[38;5;124;43m'\u001B[39;49m\u001B[43m,\u001B[49m\u001B[43m \u001B[49m\u001B[38;5;28;43;01mNone\u001B[39;49;00m\u001B[43m)\u001B[49m\u001B[43m,\u001B[49m\n\u001B[1;32m    187\u001B[0m \u001B[43m    \u001B[49m\u001B[43msilent\u001B[49m\u001B[38;5;241;43m=\u001B[39;49m\u001B[38;5;28;43;01mTrue\u001B[39;49;00m\u001B[43m,\u001B[49m\n\u001B[1;32m    188\u001B[0m \u001B[43m\u001B[49m\u001B[43m)\u001B[49m\n\u001B[1;32m    189\u001B[0m \u001B[38;5;28;01mif\u001B[39;00m method \u001B[38;5;241m==\u001B[39m \u001B[38;5;124m'\u001B[39m\u001B[38;5;124mumap\u001B[39m\u001B[38;5;124m'\u001B[39m:\n\u001B[1;32m    190\u001B[0m     \u001B[38;5;66;03m# the data matrix X is really only used for determining the number of connected components\u001B[39;00m\n\u001B[1;32m    191\u001B[0m     \u001B[38;5;66;03m# for the init condition in the UMAP embedding\u001B[39;00m\n\u001B[1;32m    192\u001B[0m     default_epochs \u001B[38;5;241m=\u001B[39m \u001B[38;5;241m500\u001B[39m \u001B[38;5;28;01mif\u001B[39;00m neighbors[\u001B[38;5;124m'\u001B[39m\u001B[38;5;124mconnectivities\u001B[39m\u001B[38;5;124m'\u001B[39m]\u001B[38;5;241m.\u001B[39mshape[\u001B[38;5;241m0\u001B[39m] \u001B[38;5;241m<\u001B[39m\u001B[38;5;241m=\u001B[39m \u001B[38;5;241m10000\u001B[39m \u001B[38;5;28;01melse\u001B[39;00m \u001B[38;5;241m200\u001B[39m\n",
      "File \u001B[0;32m~/anaconda3/envs/NovoSpaRc/lib/python3.9/site-packages/scanpy/tools/_utils.py:33\u001B[0m, in \u001B[0;36m_choose_representation\u001B[0;34m(adata, use_rep, n_pcs, silent)\u001B[0m\n\u001B[1;32m     31\u001B[0m \u001B[38;5;28;01mif\u001B[39;00m \u001B[38;5;124m'\u001B[39m\u001B[38;5;124mX_pca\u001B[39m\u001B[38;5;124m'\u001B[39m \u001B[38;5;129;01min\u001B[39;00m adata\u001B[38;5;241m.\u001B[39mobsm\u001B[38;5;241m.\u001B[39mkeys():\n\u001B[1;32m     32\u001B[0m     \u001B[38;5;28;01mif\u001B[39;00m n_pcs \u001B[38;5;129;01mis\u001B[39;00m \u001B[38;5;129;01mnot\u001B[39;00m \u001B[38;5;28;01mNone\u001B[39;00m \u001B[38;5;129;01mand\u001B[39;00m n_pcs \u001B[38;5;241m>\u001B[39m adata\u001B[38;5;241m.\u001B[39mobsm[\u001B[38;5;124m'\u001B[39m\u001B[38;5;124mX_pca\u001B[39m\u001B[38;5;124m'\u001B[39m]\u001B[38;5;241m.\u001B[39mshape[\u001B[38;5;241m1\u001B[39m]:\n\u001B[0;32m---> 33\u001B[0m         \u001B[38;5;28;01mraise\u001B[39;00m \u001B[38;5;167;01mValueError\u001B[39;00m(\n\u001B[1;32m     34\u001B[0m             \u001B[38;5;124m'\u001B[39m\u001B[38;5;124m`X_pca` does not have enough PCs. Rerun `sc.pp.pca` with adjusted `n_comps`.\u001B[39m\u001B[38;5;124m'\u001B[39m\n\u001B[1;32m     35\u001B[0m         )\n\u001B[1;32m     36\u001B[0m     X \u001B[38;5;241m=\u001B[39m adata\u001B[38;5;241m.\u001B[39mobsm[\u001B[38;5;124m'\u001B[39m\u001B[38;5;124mX_pca\u001B[39m\u001B[38;5;124m'\u001B[39m][:, :n_pcs]\n\u001B[1;32m     37\u001B[0m     logg\u001B[38;5;241m.\u001B[39minfo(\u001B[38;5;124mf\u001B[39m\u001B[38;5;124m'\u001B[39m\u001B[38;5;124m    using \u001B[39m\u001B[38;5;130;01m\\'\u001B[39;00m\u001B[38;5;124mX_pca\u001B[39m\u001B[38;5;130;01m\\'\u001B[39;00m\u001B[38;5;124m with n_pcs = \u001B[39m\u001B[38;5;132;01m{\u001B[39;00mX\u001B[38;5;241m.\u001B[39mshape[\u001B[38;5;241m1\u001B[39m]\u001B[38;5;132;01m}\u001B[39;00m\u001B[38;5;124m'\u001B[39m)\n",
      "\u001B[0;31mValueError\u001B[0m: `X_pca` does not have enough PCs. Rerun `sc.pp.pca` with adjusted `n_comps`."
     ]
    }
   ],
   "source": [
    "# make a umap just to see how it looks like\n",
    "sc.pp.neighbors(adata, n_neighbors=10, n_pcs=24)\n",
    "sc.tl.umap(adata)\n",
    "sc.pl.umap(adata, color=\"Cell type\")"
   ],
   "metadata": {
    "collapsed": false,
    "pycharm": {
     "name": "#%%\n"
    }
   }
  },
  {
   "cell_type": "markdown",
   "source": [
    "## Create a target space\n",
    "### no prior knowledge of target space\n",
    "\n",
    "novoSpaRc can create a target space by setting locations on certain basic shapes. Current supported shapes include filled circle, 2D torus projection, rectangular grid, sphere and torus. Grids can be populated with equidistant or randomly drawn points."
   ],
   "metadata": {
    "collapsed": false,
    "pycharm": {
     "name": "#%% md\n"
    }
   }
  },
  {
   "cell_type": "code",
   "execution_count": 16,
   "outputs": [
    {
     "data": {
      "text/plain": "<Figure size 432x288 with 1 Axes>",
      "image/png": "[encoded data removed]"
     },
     "metadata": {
      "needs_background": "light"
     },
     "output_type": "display_data"
    }
   ],
   "source": [
    "num_locations = 50 # where does this come from?\n",
    "\n",
    "\n",
    "locations_circle = novosparc.gm.construct_circle(num_locations=num_locations)\n",
    "\n",
    "tit_size = 15\n",
    "dpi = 100\n",
    "fig = plt.scatter(locations_circle[:, 0], locations_circle[:, 1], s=3)\n",
    "plt.tight_layout()\n",
    "plt.show()"
   ],
   "metadata": {
    "collapsed": false,
    "pycharm": {
     "name": "#%%\n"
    }
   }
  },
  {
   "cell_type": "markdown",
   "source": [
    "## Reconstruct the tissue de novo\n",
    "### Construct Tissue object\n",
    "So far, we constructed the input for the spatial reconstruction. Thus we next initialise a tissue object with the cell expression dataset and target space locations."
   ],
   "metadata": {
    "collapsed": false,
    "pycharm": {
     "name": "#%% md\n"
    }
   }
  },
  {
   "cell_type": "code",
   "execution_count": 17,
   "outputs": [],
   "source": [
    "# construct tissue object\n",
    "tissue = novosparc.cm.Tissue(dataset=adata, locations=locations_circle)"
   ],
   "metadata": {
    "collapsed": false,
    "pycharm": {
     "name": "#%%\n"
    }
   }
  },
  {
   "cell_type": "markdown",
   "source": [
    "### Compute cost matrices\n",
    "The OT framework interpolates between two assumptions, structural correspondence assumption and atlas assumption.\n",
    "\n",
    "With the de novo reconstruction we only need the structural correspondence assumption. For the structural correspondence (smooth) assumption we set the cells and locations the number of neighbors to use for constructing the k-Nearest Neighbors graph."
   ],
   "metadata": {
    "collapsed": false,
    "pycharm": {
     "name": "#%% md\n"
    }
   }
  },
  {
   "cell_type": "code",
   "execution_count": 18,
   "outputs": [
    {
     "name": "stdout",
     "output_type": "stream",
     "text": [
      "Setting up for reconstruction ... done ( 0.01 seconds )\n"
     ]
    }
   ],
   "source": [
    "num_neighbors_s = num_neighbors_t = 2\n",
    "\n",
    "# since we don't have the atlas assumption, we can also setup only the smooth costs.\n",
    "tissue.setup_smooth_costs(dge_rep=dge_rep, num_neighbors_s=num_neighbors_s, num_neighbors_t=num_neighbors_t)"
   ],
   "metadata": {
    "collapsed": false,
    "pycharm": {
     "name": "#%%\n"
    }
   }
  },
  {
   "cell_type": "code",
   "execution_count": 19,
   "outputs": [
    {
     "name": "stdout",
     "output_type": "stream",
     "text": [
      "Reconstructing spatial information with 0 markers: 10 cells and 50 locations ... \n",
      "Trying with epsilon: 5.00e-03\n"
     ]
    }
   ],
   "source": [
    "tissue.reconstruct(alpha_linear=0, epsilon=5e-3)"
   ],
   "metadata": {
    "collapsed": false,
    "pycharm": {
     "name": "#%%\n"
    }
   }
  },
  {
   "cell_type": "code",
   "execution_count": 20,
   "outputs": [
    {
     "data": {
      "text/plain": "numpy.ndarray"
     },
     "execution_count": 20,
     "metadata": {},
     "output_type": "execute_result"
    }
   ],
   "source": [
    "type(tissue.dge)"
   ],
   "metadata": {
    "collapsed": false,
    "pycharm": {
     "name": "#%%\n"
    }
   }
  },
  {
   "cell_type": "markdown",
   "source": [
    "### Compute OT of cells to locations with a given alpha parameter"
   ],
   "metadata": {
    "collapsed": false,
    "pycharm": {
     "name": "#%% md\n"
    }
   }
  },
  {
   "cell_type": "markdown",
   "source": [
    "Now we can reconstruct our tissue. The `alpha_linear` parameter controls the contribution of the two branches in `novoSpaRc`: `alpha_linear=0` means that no prior information is available, while `alpha_linear=1` implies that the reconstruction will be only based on the reference marker genes provided. Here we aim for a de novo reconstruction.\n",
    "\n",
    "In addition to setting alpha_linear, epsilon, the coefficient of the entropy can also be set. A low epsilon will result in a more definitive mapping and a higher epsilon with a more continuous one. Choosing a low epsilon often leads to numerical errors. Therefore, if this is the case, we attempt reconstruction with a greater epsilon."
   ],
   "metadata": {
    "collapsed": false,
    "pycharm": {
     "name": "#%% md\n"
    }
   }
  },
  {
   "cell_type": "markdown",
   "source": [
    "### Validate predicted expression over target space\n",
    "Expression over the locations is computed and saved in tissue.sdge. This provides a genes x locations matrix describing the expression over the target space locations."
   ],
   "metadata": {
    "collapsed": false,
    "pycharm": {
     "name": "#%% md\n"
    }
   }
  },
  {
   "cell_type": "markdown",
   "source": [
    "**Marker genes for endometrial tissue**\n",
    "(source: [Garcia-Alonso et.al, Figure 2](https://www.nature.com/articles/s41588-021-00972-2/figures/2) )\n",
    "\n",
    "epithelial marker : WNT7A, LGR5\n",
    "lumenal cells:  KRT5, COX1\n",
    "glandular cells: SCGB2A2"
   ],
   "metadata": {
    "collapsed": false,
    "pycharm": {
     "name": "#%% md\n"
    }
   }
  },
  {
   "cell_type": "code",
   "execution_count": 21,
   "outputs": [],
   "source": [
    "# reconstructed expression of individual genes\n",
    "pl_genes = ['WNT7A', 'LGR5', 'KRT5','COX1','SCGB2A2']\n",
    "sdge = tissue.sdge"
   ],
   "metadata": {
    "collapsed": false,
    "pycharm": {
     "name": "#%%\n"
    }
   }
  },
  {
   "cell_type": "code",
   "execution_count": 23,
   "outputs": [
    {
     "data": {
      "text/plain": "<Figure size 1000x300 with 2 Axes>",
      "image/png": "[encoded data removed]"
     },
     "metadata": {
      "needs_background": "light"
     },
     "output_type": "display_data"
    },
    {
     "data": {
      "text/plain": "<Figure size 432x288 with 0 Axes>"
     },
     "metadata": {},
     "output_type": "display_data"
    }
   ],
   "source": [
    "dataset_reconst = sc.AnnData(pd.DataFrame(sdge.T, columns=genenames))\n",
    "dataset_reconst.obsm['spatial'] = locations_circle\n",
    "\n",
    "novosparc.pl.embedding(dataset_reconst, pl_genes)"
   ],
   "metadata": {
    "collapsed": false,
    "pycharm": {
     "name": "#%%\n"
    }
   }
  },
  {
   "cell_type": "code",
   "execution_count": null,
   "outputs": [],
   "source": [
    "genenames"
   ],
   "metadata": {
    "collapsed": false,
    "pycharm": {
     "name": "#%%\n"
    }
   }
  }
 ],
 "metadata": {
  "kernelspec": {
   "display_name": "Python 3",
   "language": "python",
   "name": "python3"
  },
  "language_info": {
   "codemirror_mode": {
    "name": "ipython",
    "version": 2
   },
   "file_extension": ".py",
   "mimetype": "text/x-python",
   "name": "python",
   "nbconvert_exporter": "python",
   "pygments_lexer": "ipython2",
   "version": "2.7.6"
  }
 },
 "nbformat": 4,
 "nbformat_minor": 0
}